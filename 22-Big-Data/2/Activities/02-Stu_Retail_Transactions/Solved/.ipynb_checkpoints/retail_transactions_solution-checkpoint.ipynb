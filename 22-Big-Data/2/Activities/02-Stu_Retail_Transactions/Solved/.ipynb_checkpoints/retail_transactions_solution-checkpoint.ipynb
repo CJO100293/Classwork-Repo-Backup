{
 "cells": [
  {
   "cell_type": "code",
   "execution_count": 1,
   "metadata": {
    "colab": {
     "base_uri": "https://localhost:8080/"
    },
    "id": "jgCQ-Iiae9V3",
    "outputId": "2bf8063d-9463-4db1-f103-6ea1e3d97a8c"
   },
   "outputs": [],
   "source": [
    "# Import findspark and initialize. \n",
    "import findspark\n",
    "findspark.init()"
   ]
  },
  {
   "cell_type": "code",
   "execution_count": 2,
   "metadata": {
    "id": "iyS6M8jxfjqO"
   },
   "outputs": [
    {
     "name": "stderr",
     "output_type": "stream",
     "text": [
      "Setting default log level to \"WARN\".\n",
      "To adjust logging level use sc.setLogLevel(newLevel). For SparkR, use setLogLevel(newLevel).\n",
      "23/08/29 19:40:02 WARN NativeCodeLoader: Unable to load native-hadoop library for your platform... using builtin-java classes where applicable\n",
      "23/08/29 19:40:03 WARN Utils: Service 'SparkUI' could not bind on port 4040. Attempting port 4041.\n",
      "23/08/29 19:40:03 WARN Utils: Service 'SparkUI' could not bind on port 4041. Attempting port 4042.\n"
     ]
    }
   ],
   "source": [
    "# Start Spark session\n",
    "from pyspark.sql import SparkSession\n",
    "spark = SparkSession.builder.appName(\"Retail Transactions\").getOrCreate()"
   ]
  },
  {
   "cell_type": "code",
   "execution_count": 3,
   "metadata": {
    "colab": {
     "base_uri": "https://localhost:8080/"
    },
    "id": "azmN3W3UgATw",
    "outputId": "43fba857-2ce2-4ba4-dc0b-052a79ba4469"
   },
   "outputs": [
    {
     "name": "stdout",
     "output_type": "stream",
     "text": [
      "+-----------+----------------+------------------+\n",
      "|customer_id|transaction_date|transaction_amount|\n",
      "+-----------+----------------+------------------+\n",
      "|     CS5295|       11-Feb-13|                35|\n",
      "|     CS4768|       15-Mar-15|                39|\n",
      "|     CS2122|       26-Feb-13|                52|\n",
      "|     CS1217|       16-Nov-11|                99|\n",
      "|     CS1850|       20-Nov-13|                78|\n",
      "|     CS5539|       26-Mar-14|                81|\n",
      "|     CS2724|       06-Feb-12|                93|\n",
      "|     CS5902|       30-Jan-15|                89|\n",
      "|     CS6040|       08-Jan-13|                76|\n",
      "|     CS3802|       20-Aug-13|                75|\n",
      "|     CS3494|       02-Jul-13|                94|\n",
      "|     CS3780|       25-Mar-13|                80|\n",
      "|     CS1171|       03-Nov-12|                59|\n",
      "|     CS2892|       12-May-13|                43|\n",
      "|     CS5552|       29-Dec-14|                78|\n",
      "|     CS6043|       15-Jan-14|                98|\n",
      "|     CS4147|       08-Jul-13|                81|\n",
      "|     CS4655|       30-Dec-13|                93|\n",
      "|     CS3904|       20-Jul-14|               103|\n",
      "|     CS4102|       09-Jul-11|                96|\n",
      "+-----------+----------------+------------------+\n",
      "only showing top 20 rows\n",
      "\n"
     ]
    }
   ],
   "source": [
    "# Read in data from S3 Buckets\n",
    "from pyspark import SparkFiles\n",
    "url = \"https://2u-data-curriculum-team.s3.amazonaws.com/dataviz-classroom/v1.2/22-big-data/2/retail_transactions.csv\"\n",
    "spark.sparkContext.addFile(url)\n",
    "df = spark.read.csv(SparkFiles.get(\"retail_transactions.csv\"), sep=\",\", header=True)\n",
    "\n",
    "# Show DataFrame\n",
    "df.show()"
   ]
  },
  {
   "cell_type": "code",
   "execution_count": 4,
   "metadata": {
    "id": "93GVMklb2J8F"
   },
   "outputs": [
    {
     "name": "stdout",
     "output_type": "stream",
     "text": [
      "root\n",
      " |-- customer_id: string (nullable = true)\n",
      " |-- transaction_date: string (nullable = true)\n",
      " |-- transaction_amount: float (nullable = true)\n",
      "\n"
     ]
    }
   ],
   "source": [
    "# Convert the \"transaction_amount\" column from the string type to the `float` type.\n",
    "amountUpdated = df.withColumn(\"transaction_amount\", df[\"transaction_amount\"].cast('float'))\n",
    "\n",
    "amountUpdated.printSchema()"
   ]
  },
  {
   "cell_type": "code",
   "execution_count": 5,
   "metadata": {
    "colab": {
     "base_uri": "https://localhost:8080/"
    },
    "id": "GWI53_992QUs",
    "outputId": "46fcf462-9a8c-4ca1-de26-c2681576f74d"
   },
   "outputs": [
    {
     "name": "stderr",
     "output_type": "stream",
     "text": [
      "\r",
      "[Stage 2:>                                                          (0 + 1) / 1]\r"
     ]
    },
    {
     "name": "stdout",
     "output_type": "stream",
     "text": [
      "+-----------+-----------------------+\n",
      "|customer_id|avg(transaction_amount)|\n",
      "+-----------+-----------------------+\n",
      "|     CS6001|      69.57894736842105|\n",
      "|     CS3128|                   64.0|\n",
      "|     CS5241|      64.05263157894737|\n",
      "|     CS3155|                  74.32|\n",
      "|     CS2754|      74.45454545454545|\n",
      "|     CS3950|      65.73684210526316|\n",
      "|     CS5130|                  66.64|\n",
      "|     CS3935|      67.34782608695652|\n",
      "|     CS3083|      62.88235294117647|\n",
      "|     CS3587|      69.80952380952381|\n",
      "|     CS2282|      69.14285714285714|\n",
      "|     CS1664|                  78.16|\n",
      "|     CS1802|      70.85185185185185|\n",
      "|     CS2412|                  67.75|\n",
      "|     CS4335|                   66.0|\n",
      "|     CS3997|      69.63157894736842|\n",
      "|     CS4915|                   67.0|\n",
      "|     CS3993|                  69.25|\n",
      "|     CS2811|      65.29411764705883|\n",
      "|     CS6062|      64.33333333333333|\n",
      "+-----------+-----------------------+\n",
      "only showing top 20 rows\n",
      "\n"
     ]
    },
    {
     "name": "stderr",
     "output_type": "stream",
     "text": [
      "\r",
      "                                                                                \r"
     ]
    }
   ],
   "source": [
    "# Find the average \"transaction_amount\" value by grouping by \"customer_id\" value.\n",
    "amountUpdated.groupBy('customer_id').avg().show()"
   ]
  },
  {
   "cell_type": "code",
   "execution_count": 6,
   "metadata": {
    "colab": {
     "base_uri": "https://localhost:8080/"
    },
    "id": "zpzZQn4R2VT1",
    "outputId": "6ee86836-7636-4c03-8790-a0d57ed34515"
   },
   "outputs": [
    {
     "name": "stdout",
     "output_type": "stream",
     "text": [
      "+-----------+-----------------------+\n",
      "|customer_id|max(transaction_amount)|\n",
      "+-----------+-----------------------+\n",
      "|     CS6001|                  105.0|\n",
      "|     CS3128|                  100.0|\n",
      "|     CS5241|                   94.0|\n",
      "|     CS3155|                  105.0|\n",
      "|     CS2754|                  104.0|\n",
      "|     CS3950|                  105.0|\n",
      "|     CS5130|                  104.0|\n",
      "|     CS3935|                  104.0|\n",
      "|     CS3083|                   94.0|\n",
      "|     CS3587|                  105.0|\n",
      "|     CS2282|                   97.0|\n",
      "|     CS1664|                  105.0|\n",
      "|     CS1802|                  104.0|\n",
      "|     CS2412|                  102.0|\n",
      "|     CS4335|                   96.0|\n",
      "|     CS3997|                   99.0|\n",
      "|     CS4915|                  102.0|\n",
      "|     CS3993|                  103.0|\n",
      "|     CS2811|                   96.0|\n",
      "|     CS6062|                  100.0|\n",
      "+-----------+-----------------------+\n",
      "only showing top 20 rows\n",
      "\n"
     ]
    }
   ],
   "source": [
    "# Find the maximum \"transaction_amount\" value per customer by grouping by \"customer_id\" value.\n",
    "amountUpdated.groupBy('customer_id').max().show()"
   ]
  },
  {
   "cell_type": "code",
   "execution_count": 7,
   "metadata": {
    "colab": {
     "base_uri": "https://localhost:8080/"
    },
    "id": "aNRVy0712etO",
    "outputId": "912fe2a6-cec3-484a-b8f9-aed02f1ffeaa"
   },
   "outputs": [
    {
     "name": "stdout",
     "output_type": "stream",
     "text": [
      "+-----------+-----------------------+\n",
      "|customer_id|sum(transaction_amount)|\n",
      "+-----------+-----------------------+\n",
      "|     CS6001|                 1322.0|\n",
      "|     CS3128|                 1472.0|\n",
      "|     CS5241|                 1217.0|\n",
      "|     CS3155|                 1858.0|\n",
      "|     CS2754|                 1638.0|\n",
      "|     CS3950|                 1249.0|\n",
      "|     CS5130|                 1666.0|\n",
      "|     CS3935|                 1549.0|\n",
      "|     CS3083|                 1069.0|\n",
      "|     CS3587|                 1466.0|\n",
      "|     CS2282|                 1452.0|\n",
      "|     CS1664|                 1954.0|\n",
      "|     CS1802|                 1913.0|\n",
      "|     CS2412|                 1084.0|\n",
      "|     CS4335|                  660.0|\n",
      "|     CS3997|                 1323.0|\n",
      "|     CS4915|                 1541.0|\n",
      "|     CS3993|                 1385.0|\n",
      "|     CS2811|                 1110.0|\n",
      "|     CS6062|                  772.0|\n",
      "+-----------+-----------------------+\n",
      "only showing top 20 rows\n",
      "\n"
     ]
    }
   ],
   "source": [
    "# Find the sum of the \"transaction_amount\" values per customer by grouping by \"customer_id\" value.\n",
    "amountUpdated.groupBy('customer_id').sum().show()"
   ]
  },
  {
   "cell_type": "code",
   "execution_count": 8,
   "metadata": {
    "colab": {
     "base_uri": "https://localhost:8080/"
    },
    "id": "6XO6Zvhf2jaN",
    "outputId": "97c0ce67-2dde-4b60-9e15-2f6479a62112"
   },
   "outputs": [
    {
     "name": "stdout",
     "output_type": "stream",
     "text": [
      "+----------------+-----------------------+\n",
      "|transaction_date|avg(transaction_amount)|\n",
      "+----------------+-----------------------+\n",
      "|       01-Feb-15|      62.19277108433735|\n",
      "|       20-Feb-12|      66.10344827586206|\n",
      "|       22-Jul-12|                   67.0|\n",
      "|       17-Jan-15|      62.89655172413793|\n",
      "|       28-Aug-11|      63.70754716981132|\n",
      "|       29-Jul-12|                   64.7|\n",
      "|       17-Jan-14|                   62.3|\n",
      "|       12-Jun-13|      68.32530120481928|\n",
      "|       23-Oct-12|      65.56666666666666|\n",
      "|       02-Nov-12|      65.55445544554455|\n",
      "|       06-Mar-14|       64.3529411764706|\n",
      "|       11-Sep-12|      68.19540229885058|\n",
      "|       29-Dec-13|      67.68656716417911|\n",
      "|       14-Feb-13|     63.857142857142854|\n",
      "|       18-Aug-13|       67.5764705882353|\n",
      "|       09-Jan-14|      67.68888888888888|\n",
      "|       28-May-11|      72.83720930232558|\n",
      "|       26-Oct-13|      66.19354838709677|\n",
      "|       21-Nov-11|      65.57142857142857|\n",
      "|       12-Feb-13|                   64.5|\n",
      "+----------------+-----------------------+\n",
      "only showing top 20 rows\n",
      "\n"
     ]
    }
   ],
   "source": [
    "# Find the average \"transaction_amount\" value per \"transaction_date\" value.\n",
    "amountUpdated.groupBy('transaction_date').avg().show()"
   ]
  },
  {
   "cell_type": "code",
   "execution_count": 9,
   "metadata": {
    "colab": {
     "base_uri": "https://localhost:8080/"
    },
    "id": "gWnvAAG425B9",
    "outputId": "2cf64f29-64c4-42e4-e3f7-804df8753afa"
   },
   "outputs": [
    {
     "name": "stdout",
     "output_type": "stream",
     "text": [
      "+----------------+-----------------------+\n",
      "|transaction_date|sum(transaction_amount)|\n",
      "+----------------+-----------------------+\n",
      "|       01-Feb-15|                 5162.0|\n",
      "|       20-Feb-12|                 5751.0|\n",
      "|       22-Jul-12|                 6164.0|\n",
      "|       17-Jan-15|                 3648.0|\n",
      "|       28-Aug-11|                 6753.0|\n",
      "|       29-Jul-12|                 5176.0|\n",
      "|       17-Jan-14|                 4361.0|\n",
      "|       12-Jun-13|                 5671.0|\n",
      "|       23-Oct-12|                 5901.0|\n",
      "|       02-Nov-12|                 6621.0|\n",
      "|       06-Mar-14|                 5470.0|\n",
      "|       11-Sep-12|                 5933.0|\n",
      "|       29-Dec-13|                 4535.0|\n",
      "|       14-Feb-13|                 4470.0|\n",
      "|       18-Aug-13|                 5744.0|\n",
      "|       09-Jan-14|                 6092.0|\n",
      "|       28-May-11|                 6264.0|\n",
      "|       26-Oct-13|                 6156.0|\n",
      "|       21-Nov-11|                 5508.0|\n",
      "|       12-Feb-13|                 4902.0|\n",
      "+----------------+-----------------------+\n",
      "only showing top 20 rows\n",
      "\n"
     ]
    }
   ],
   "source": [
    "# Find the sum of \"transaction_amount\" values per \"transaction_date\" value.\n",
    "amountUpdated.groupBy('transaction_date').sum().show()"
   ]
  },
  {
   "cell_type": "code",
   "execution_count": 10,
   "metadata": {
    "colab": {
     "base_uri": "https://localhost:8080/"
    },
    "id": "VX7UfA-G246l",
    "outputId": "c28cef77-962c-422b-999a-72714a488151"
   },
   "outputs": [
    {
     "name": "stdout",
     "output_type": "stream",
     "text": [
      "+----------------+-----------------------+\n",
      "|transaction_date|max(transaction_amount)|\n",
      "+----------------+-----------------------+\n",
      "|       01-Feb-15|                  105.0|\n",
      "|       20-Feb-12|                  105.0|\n",
      "|       22-Jul-12|                  105.0|\n",
      "|       17-Jan-15|                  105.0|\n",
      "|       28-Aug-11|                  105.0|\n",
      "|       29-Jul-12|                  104.0|\n",
      "|       17-Jan-14|                  104.0|\n",
      "|       12-Jun-13|                  105.0|\n",
      "|       23-Oct-12|                  105.0|\n",
      "|       02-Nov-12|                  105.0|\n",
      "|       06-Mar-14|                  105.0|\n",
      "|       11-Sep-12|                  105.0|\n",
      "|       29-Dec-13|                  105.0|\n",
      "|       14-Feb-13|                  103.0|\n",
      "|       18-Aug-13|                  105.0|\n",
      "|       09-Jan-14|                  105.0|\n",
      "|       28-May-11|                  105.0|\n",
      "|       26-Oct-13|                  105.0|\n",
      "|       21-Nov-11|                  105.0|\n",
      "|       12-Feb-13|                  105.0|\n",
      "+----------------+-----------------------+\n",
      "only showing top 20 rows\n",
      "\n"
     ]
    }
   ],
   "source": [
    "# Find the maximum \"transaction_amount\" value per \"transaction_date\" value.\n",
    "amountUpdated.groupBy('transaction_date').max().show()"
   ]
  },
  {
   "cell_type": "code",
   "execution_count": 11,
   "metadata": {
    "id": "brzQq-FEL1kD"
   },
   "outputs": [
    {
     "name": "stdout",
     "output_type": "stream",
     "text": [
      "+-----------+----------------+------------------+------------------+\n",
      "|customer_id|transaction_date|transaction_amount|   amount_with_tax|\n",
      "+-----------+----------------+------------------+------------------+\n",
      "|     CS5295|       11-Feb-13|              35.0|             37.45|\n",
      "|     CS4768|       15-Mar-15|              39.0|41.730000000000004|\n",
      "|     CS2122|       26-Feb-13|              52.0|             55.64|\n",
      "|     CS1217|       16-Nov-11|              99.0|            105.93|\n",
      "|     CS1850|       20-Nov-13|              78.0| 83.46000000000001|\n",
      "|     CS5539|       26-Mar-14|              81.0|             86.67|\n",
      "|     CS2724|       06-Feb-12|              93.0|             99.51|\n",
      "|     CS5902|       30-Jan-15|              89.0|             95.23|\n",
      "|     CS6040|       08-Jan-13|              76.0| 81.32000000000001|\n",
      "|     CS3802|       20-Aug-13|              75.0|             80.25|\n",
      "|     CS3494|       02-Jul-13|              94.0|100.58000000000001|\n",
      "|     CS3780|       25-Mar-13|              80.0| 85.60000000000001|\n",
      "|     CS1171|       03-Nov-12|              59.0|             63.13|\n",
      "|     CS2892|       12-May-13|              43.0|46.010000000000005|\n",
      "|     CS5552|       29-Dec-14|              78.0| 83.46000000000001|\n",
      "|     CS6043|       15-Jan-14|              98.0|            104.86|\n",
      "|     CS4147|       08-Jul-13|              81.0|             86.67|\n",
      "|     CS4655|       30-Dec-13|              93.0|             99.51|\n",
      "|     CS3904|       20-Jul-14|             103.0|110.21000000000001|\n",
      "|     CS4102|       09-Jul-11|              96.0|            102.72|\n",
      "+-----------+----------------+------------------+------------------+\n",
      "only showing top 20 rows\n",
      "\n"
     ]
    }
   ],
   "source": [
    "# Applying arbituary sales tax to a column\n",
    "amountUpdated = amountUpdated.withColumn('amount_with_tax', amountUpdated['transaction_amount'] * 1.07)\n",
    "\n",
    "amountUpdated.show()"
   ]
  },
  {
   "cell_type": "code",
   "execution_count": 14,
   "metadata": {},
   "outputs": [
    {
     "name": "stdout",
     "output_type": "stream",
     "text": [
      "+----------------+-----------------------+--------------------+\n",
      "|transaction_date|sum(transaction_amount)|sum(amount_with_tax)|\n",
      "+----------------+-----------------------+--------------------+\n",
      "|       01-Feb-15|                 5162.0|   5523.339999999998|\n",
      "|       20-Feb-12|                 5751.0|  6153.5700000000015|\n",
      "|       22-Jul-12|                 6164.0|   6595.479999999997|\n",
      "|       17-Jan-15|                 3648.0|             3903.36|\n",
      "|       28-Aug-11|                 6753.0|   7225.710000000003|\n",
      "|       29-Jul-12|                 5176.0|             5538.32|\n",
      "|       17-Jan-14|                 4361.0|             4666.27|\n",
      "|       12-Jun-13|                 5671.0|  6067.9699999999975|\n",
      "|       23-Oct-12|                 5901.0|  6314.0700000000015|\n",
      "|       02-Nov-12|                 6621.0|   7084.470000000002|\n",
      "|       06-Mar-14|                 5470.0|              5852.9|\n",
      "|       11-Sep-12|                 5933.0|  6348.3099999999995|\n",
      "|       29-Dec-13|                 4535.0|   4852.449999999998|\n",
      "|       14-Feb-13|                 4470.0|              4782.9|\n",
      "|       18-Aug-13|                 5744.0|   6146.079999999999|\n",
      "|       09-Jan-14|                 6092.0|  6518.4400000000005|\n",
      "|       28-May-11|                 6264.0|   6702.479999999999|\n",
      "|       26-Oct-13|                 6156.0|   6586.919999999999|\n",
      "|       21-Nov-11|                 5508.0|   5893.560000000001|\n",
      "|       12-Feb-13|                 4902.0|             5245.14|\n",
      "+----------------+-----------------------+--------------------+\n",
      "only showing top 20 rows\n",
      "\n"
     ]
    },
    {
     "name": "stderr",
     "output_type": "stream",
     "text": [
      "\r",
      "[Stage 23:>                                                         (0 + 1) / 1]\r",
      "\r",
      "                                                                                \r"
     ]
    }
   ],
   "source": [
    "amountUpdated.groupBy('transaction_date').sum().show()"
   ]
  },
  {
   "cell_type": "code",
   "execution_count": 15,
   "metadata": {},
   "outputs": [
    {
     "name": "stdout",
     "output_type": "stream",
     "text": [
      "+-----------+----------------+------------------+------------------+--------------+\n",
      "|customer_id|transaction_date|transaction_amount|   amount_with_tax|sales_tax_rate|\n",
      "+-----------+----------------+------------------+------------------+--------------+\n",
      "|     CS5295|       11-Feb-13|              35.0|             37.45|          0.07|\n",
      "|     CS4768|       15-Mar-15|              39.0|41.730000000000004|          0.07|\n",
      "|     CS2122|       26-Feb-13|              52.0|             55.64|          0.07|\n",
      "|     CS1217|       16-Nov-11|              99.0|            105.93|          0.07|\n",
      "|     CS1850|       20-Nov-13|              78.0| 83.46000000000001|          0.07|\n",
      "|     CS5539|       26-Mar-14|              81.0|             86.67|          0.07|\n",
      "|     CS2724|       06-Feb-12|              93.0|             99.51|          0.07|\n",
      "|     CS5902|       30-Jan-15|              89.0|             95.23|          0.07|\n",
      "|     CS6040|       08-Jan-13|              76.0| 81.32000000000001|          0.07|\n",
      "|     CS3802|       20-Aug-13|              75.0|             80.25|          0.07|\n",
      "|     CS3494|       02-Jul-13|              94.0|100.58000000000001|          0.07|\n",
      "|     CS3780|       25-Mar-13|              80.0| 85.60000000000001|          0.07|\n",
      "|     CS1171|       03-Nov-12|              59.0|             63.13|          0.07|\n",
      "|     CS2892|       12-May-13|              43.0|46.010000000000005|          0.07|\n",
      "|     CS5552|       29-Dec-14|              78.0| 83.46000000000001|          0.07|\n",
      "|     CS6043|       15-Jan-14|              98.0|            104.86|          0.07|\n",
      "|     CS4147|       08-Jul-13|              81.0|             86.67|          0.07|\n",
      "|     CS4655|       30-Dec-13|              93.0|             99.51|          0.07|\n",
      "|     CS3904|       20-Jul-14|             103.0|110.21000000000001|          0.07|\n",
      "|     CS4102|       09-Jul-11|              96.0|            102.72|          0.07|\n",
      "+-----------+----------------+------------------+------------------+--------------+\n",
      "only showing top 20 rows\n",
      "\n"
     ]
    }
   ],
   "source": [
    "# To add a constant value to a column\n",
    "from pyspark.sql.functions import lit\n",
    "\n",
    "amountUpdated = amountUpdated.withColumn('sales_tax_rate', lit(0.07))\n",
    "\n",
    "amountUpdated.show()"
   ]
  },
  {
   "cell_type": "code",
   "execution_count": 13,
   "metadata": {},
   "outputs": [
    {
     "data": {
      "text/html": [
       "<div>\n",
       "<style scoped>\n",
       "    .dataframe tbody tr th:only-of-type {\n",
       "        vertical-align: middle;\n",
       "    }\n",
       "\n",
       "    .dataframe tbody tr th {\n",
       "        vertical-align: top;\n",
       "    }\n",
       "\n",
       "    .dataframe thead th {\n",
       "        text-align: right;\n",
       "    }\n",
       "</style>\n",
       "<table border=\"1\" class=\"dataframe\">\n",
       "  <thead>\n",
       "    <tr style=\"text-align: right;\">\n",
       "      <th></th>\n",
       "      <th>customer_id</th>\n",
       "      <th>transaction_date</th>\n",
       "      <th>transaction_amount</th>\n",
       "      <th>amount_with_tax</th>\n",
       "    </tr>\n",
       "  </thead>\n",
       "  <tbody>\n",
       "    <tr>\n",
       "      <th>0</th>\n",
       "      <td>CS5295</td>\n",
       "      <td>11-Feb-13</td>\n",
       "      <td>35.0</td>\n",
       "      <td>37.45</td>\n",
       "    </tr>\n",
       "    <tr>\n",
       "      <th>1</th>\n",
       "      <td>CS4768</td>\n",
       "      <td>15-Mar-15</td>\n",
       "      <td>39.0</td>\n",
       "      <td>41.73</td>\n",
       "    </tr>\n",
       "    <tr>\n",
       "      <th>2</th>\n",
       "      <td>CS2122</td>\n",
       "      <td>26-Feb-13</td>\n",
       "      <td>52.0</td>\n",
       "      <td>55.64</td>\n",
       "    </tr>\n",
       "    <tr>\n",
       "      <th>3</th>\n",
       "      <td>CS1217</td>\n",
       "      <td>16-Nov-11</td>\n",
       "      <td>99.0</td>\n",
       "      <td>105.93</td>\n",
       "    </tr>\n",
       "    <tr>\n",
       "      <th>4</th>\n",
       "      <td>CS1850</td>\n",
       "      <td>20-Nov-13</td>\n",
       "      <td>78.0</td>\n",
       "      <td>83.46</td>\n",
       "    </tr>\n",
       "    <tr>\n",
       "      <th>...</th>\n",
       "      <td>...</td>\n",
       "      <td>...</td>\n",
       "      <td>...</td>\n",
       "      <td>...</td>\n",
       "    </tr>\n",
       "    <tr>\n",
       "      <th>124995</th>\n",
       "      <td>CS8433</td>\n",
       "      <td>26-Jun-11</td>\n",
       "      <td>64.0</td>\n",
       "      <td>68.48</td>\n",
       "    </tr>\n",
       "    <tr>\n",
       "      <th>124996</th>\n",
       "      <td>CS7232</td>\n",
       "      <td>19-Aug-14</td>\n",
       "      <td>38.0</td>\n",
       "      <td>40.66</td>\n",
       "    </tr>\n",
       "    <tr>\n",
       "      <th>124997</th>\n",
       "      <td>CS8731</td>\n",
       "      <td>28-Nov-14</td>\n",
       "      <td>42.0</td>\n",
       "      <td>44.94</td>\n",
       "    </tr>\n",
       "    <tr>\n",
       "      <th>124998</th>\n",
       "      <td>CS8133</td>\n",
       "      <td>14-Dec-13</td>\n",
       "      <td>13.0</td>\n",
       "      <td>13.91</td>\n",
       "    </tr>\n",
       "    <tr>\n",
       "      <th>124999</th>\n",
       "      <td>CS7996</td>\n",
       "      <td>13-Dec-14</td>\n",
       "      <td>36.0</td>\n",
       "      <td>38.52</td>\n",
       "    </tr>\n",
       "  </tbody>\n",
       "</table>\n",
       "<p>125000 rows × 4 columns</p>\n",
       "</div>"
      ],
      "text/plain": [
       "       customer_id transaction_date  transaction_amount  amount_with_tax\n",
       "0           CS5295        11-Feb-13                35.0            37.45\n",
       "1           CS4768        15-Mar-15                39.0            41.73\n",
       "2           CS2122        26-Feb-13                52.0            55.64\n",
       "3           CS1217        16-Nov-11                99.0           105.93\n",
       "4           CS1850        20-Nov-13                78.0            83.46\n",
       "...            ...              ...                 ...              ...\n",
       "124995      CS8433        26-Jun-11                64.0            68.48\n",
       "124996      CS7232        19-Aug-14                38.0            40.66\n",
       "124997      CS8731        28-Nov-14                42.0            44.94\n",
       "124998      CS8133        14-Dec-13                13.0            13.91\n",
       "124999      CS7996        13-Dec-14                36.0            38.52\n",
       "\n",
       "[125000 rows x 4 columns]"
      ]
     },
     "execution_count": 13,
     "metadata": {},
     "output_type": "execute_result"
    }
   ],
   "source": [
    "# Importing into Pandas for further analysis\n",
    "## Only do this if you're sure your local machine can handle the load.\n",
    "\n",
    "import pandas as pd\n",
    "\n",
    "pandas_df = amountUpdated.toPandas()\n",
    "\n",
    "pandas_df"
   ]
  }
 ],
 "metadata": {
  "colab": {
   "collapsed_sections": [],
   "name": "RetailTransactions_solved.ipynb",
   "provenance": []
  },
  "kernelspec": {
   "display_name": "Python 3 (ipykernel)",
   "language": "python",
   "name": "python3"
  },
  "language_info": {
   "codemirror_mode": {
    "name": "ipython",
    "version": 3
   },
   "file_extension": ".py",
   "mimetype": "text/x-python",
   "name": "python",
   "nbconvert_exporter": "python",
   "pygments_lexer": "ipython3",
   "version": "3.10.10"
  },
  "vscode": {
   "interpreter": {
    "hash": "aee8b7b246df8f9039afb4144a1f6fd8d2ca17a180786b69acc140d282b71a49"
   }
  }
 },
 "nbformat": 4,
 "nbformat_minor": 1
}
