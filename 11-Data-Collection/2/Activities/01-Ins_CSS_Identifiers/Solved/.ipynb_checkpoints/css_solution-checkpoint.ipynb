{
 "cells": [
  {
   "cell_type": "markdown",
   "metadata": {},
   "source": [
    "# CSS Scraping"
   ]
  },
  {
   "cell_type": "code",
   "execution_count": 1,
   "metadata": {},
   "outputs": [],
   "source": [
    "from bs4 import BeautifulSoup"
   ]
  },
  {
   "cell_type": "code",
   "execution_count": null,
   "metadata": {},
   "outputs": [],
   "source": [
    "html = \"\"\"\n",
    "<!DOCTYPE html>\n",
    "<html lang=\"en\">\n",
    "\n",
    "<head>\n",
    "    <meta charset=\"UTF-8\">\n",
    "    <meta http-equiv=\"X-UA-Compatible\" content=\"IE=edge\">\n",
    "    <meta name=\"viewport\" content=\"width=device-width, initial-scale=1.0\">\n",
    "    <title>My First CSS Adventure</title>\n",
    "\n",
    "    <style>\n",
    "        #cities {\n",
    "            color: purple;\n",
    "        }\n",
    "\n",
    "        .meat {\n",
    "            color: brown;\n",
    "        }\n",
    "\n",
    "        .vegetarian {\n",
    "            color: green;\n",
    "        }\n",
    "\n",
    "        #favorite {\n",
    "            color: orange;\n",
    "        }\n",
    "    </style>\n",
    "\n",
    "</head>\n",
    "\n",
    "<body>\n",
    "\n",
    "    <ol id=\"cities\">\n",
    "        <li>New York</li>\n",
    "        <li>Paris</li>\n",
    "        <li>Seoul</li>\n",
    "        <li>Prague</li>\n",
    "    </ol>\n",
    "\n",
    "    <ol>\n",
    "        <li class=\"meat\">Taco</li>\n",
    "        <li class=\"meat\">Burger</li>\n",
    "        <li class=\"vegetarian\">Cheese pizza</li>\n",
    "        <li class=\"vegetarian\">Mac and cheese</li>\n",
    "    </ol>\n",
    "\n",
    "    <ol>\n",
    "        <li id=\"favorite\">Star Wars</li>\n",
    "        <li>Lion King</li>\n",
    "        <li>Godfather</li>\n",
    "        <li>Lord of the Rings</li>\n",
    "    </ol>\n",
    "</body>\n",
    "\n",
    "</html>\n",
    "\"\"\""
   ]
  },
  {
   "cell_type": "code",
   "execution_count": null,
   "metadata": {},
   "outputs": [],
   "source": [
    "# Parse the code with Beautiful Soup\n",
    "soup = BeautifulSoup(html, 'html.parser')"
   ]
  },
  {
   "cell_type": "code",
   "execution_count": null,
   "metadata": {},
   "outputs": [],
   "source": [
    "# Match elements by ID\n",
    "cities = soup.find('ol', id='cities')"
   ]
  },
  {
   "cell_type": "code",
   "execution_count": null,
   "metadata": {},
   "outputs": [],
   "source": [
    "cities"
   ]
  },
  {
   "cell_type": "code",
   "execution_count": null,
   "metadata": {},
   "outputs": [],
   "source": [
    "# Find all matches\n",
    "city_list_items = cities.find_all('li')"
   ]
  },
  {
   "cell_type": "code",
   "execution_count": null,
   "metadata": {},
   "outputs": [],
   "source": [
    "# Print all the cities\n",
    "for city in city_list_items:\n",
    "    print(city)"
   ]
  },
  {
   "cell_type": "code",
   "execution_count": null,
   "metadata": {},
   "outputs": [],
   "source": [
    "# Print the text of all the cities\n",
    "for city in city_list_items:\n",
    "    print(city.text)"
   ]
  },
  {
   "cell_type": "code",
   "execution_count": null,
   "metadata": {},
   "outputs": [],
   "source": [
    "# Same as above, as a list comprehension\n",
    "[city.text for city in city_list_items]"
   ]
  },
  {
   "cell_type": "code",
   "execution_count": null,
   "metadata": {},
   "outputs": [],
   "source": [
    "# All list items on the page\n",
    "all_items = soup.find_all('li')"
   ]
  },
  {
   "cell_type": "code",
   "execution_count": null,
   "metadata": {},
   "outputs": [],
   "source": [
    "# Create a list of each list item\n",
    "[item for item in all_items]"
   ]
  },
  {
   "cell_type": "code",
   "execution_count": null,
   "metadata": {},
   "outputs": [],
   "source": [
    "# Create a list of the text in each list item\n",
    "[item.text for item in all_items]"
   ]
  },
  {
   "cell_type": "code",
   "execution_count": null,
   "metadata": {},
   "outputs": [],
   "source": [
    "# Match items by class\n",
    "meat_items = soup.find_all('li', class_='meat')"
   ]
  },
  {
   "cell_type": "code",
   "execution_count": null,
   "metadata": {},
   "outputs": [],
   "source": [
    "# Create a list of the text in each meat item\n",
    "[meat.text for meat in meat_items]"
   ]
  },
  {
   "cell_type": "code",
   "execution_count": null,
   "metadata": {},
   "outputs": [],
   "source": [
    "# Find the vegetarian items using the vegetarian class\n",
    "vegetarian_items = soup.find_all('li', class_='vegetarian')"
   ]
  },
  {
   "cell_type": "code",
   "execution_count": null,
   "metadata": {},
   "outputs": [],
   "source": [
    "# Create a list of the text of the vegetarian items\n",
    "[v.text for v in vegetarian_items]"
   ]
  },
  {
   "cell_type": "code",
   "execution_count": null,
   "metadata": {},
   "outputs": [],
   "source": []
  }
 ],
 "metadata": {
  "kernelspec": {
   "display_name": "Python 3 (ipykernel)",
   "language": "python",
   "name": "python3"
  },
  "language_info": {
   "codemirror_mode": {
    "name": "ipython",
    "version": 3
   },
   "file_extension": ".py",
   "mimetype": "text/x-python",
   "name": "python",
   "nbconvert_exporter": "python",
   "pygments_lexer": "ipython3",
   "version": "3.10.10"
  }
 },
 "nbformat": 4,
 "nbformat_minor": 4
}
