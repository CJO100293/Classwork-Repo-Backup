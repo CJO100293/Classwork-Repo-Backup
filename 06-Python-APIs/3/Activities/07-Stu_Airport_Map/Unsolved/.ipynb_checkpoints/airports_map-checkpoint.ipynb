{
 "cells": [
  {
   "cell_type": "markdown",
   "metadata": {},
   "source": [
    "# Australian Airports Map"
   ]
  },
  {
   "cell_type": "code",
   "execution_count": null,
   "metadata": {},
   "outputs": [],
   "source": [
    "# Import the required libraries\n",
    "import hvplot.pandas\n",
    "import pandas as pd\n",
    "\n",
    "# Turn off warning messages\n",
    "import warnings\n",
    "warnings.filterwarnings(\"ignore\")"
   ]
  },
  {
   "cell_type": "markdown",
   "metadata": {},
   "source": [
    "## 1. Load airports' data into a Pandas DataFrame"
   ]
  },
  {
   "cell_type": "code",
   "execution_count": null,
   "metadata": {},
   "outputs": [],
   "source": [
    "# Create airport dataframe\n",
    "airports_df = pd.read_csv('../Resources/Airport_Output.csv')\n",
    "\n",
    "# Display sample data\n",
    "airports_df"
   ]
  },
  {
   "cell_type": "markdown",
   "metadata": {},
   "source": [
    "## 2. Create a simple map using GeoViews by adding a point per airport and setting a fixed size at your convenience"
   ]
  },
  {
   "cell_type": "code",
   "execution_count": 3,
   "metadata": {},
   "outputs": [
    {
     "data": {},
     "metadata": {},
     "output_type": "display_data"
    },
    {
     "data": {
      "application/vnd.holoviews_exec.v0+json": "",
      "text/html": [
       "<div id='1004'>\n",
       "  <div class=\"bk-root\" id=\"514e9829-5e71-4b8d-a826-1ecba637d589\" data-root-id=\"1004\"></div>\n",
       "</div>\n",
       "<script type=\"application/javascript\">(function(root) {\n",
       "  function embed_document(root) {\n",
       "    var docs_json = {\"b3340ca6-1b6a-4cd6-b3ef-47b2b5c28c7c\":{\"defs\":[{\"extends\":null,\"module\":null,\"name\":\"ReactiveHTML1\",\"overrides\":[],\"properties\":[]},{\"extends\":null,\"module\":null,\"name\":\"FlexBox1\",\"overrides\":[],\"properties\":[{\"default\":\"flex-start\",\"kind\":null,\"name\":\"align_content\"},{\"default\":\"flex-start\",\"kind\":null,\"name\":\"align_items\"},{\"default\":\"row\",\"kind\":null,\"name\":\"flex_direction\"},{\"default\":\"wrap\",\"kind\":null,\"name\":\"flex_wrap\"},{\"default\":\"flex-start\",\"kind\":null,\"name\":\"justify_content\"}]},{\"extends\":null,\"module\":null,\"name\":\"GridStack1\",\"overrides\":[],\"properties\":[{\"default\":\"warn\",\"kind\":null,\"name\":\"mode\"},{\"default\":null,\"kind\":null,\"name\":\"ncols\"},{\"default\":null,\"kind\":null,\"name\":\"nrows\"},{\"default\":true,\"kind\":null,\"name\":\"allow_resize\"},{\"default\":true,\"kind\":null,\"name\":\"allow_drag\"},{\"default\":[],\"kind\":null,\"name\":\"state\"}]},{\"extends\":null,\"module\":null,\"name\":\"click1\",\"overrides\":[],\"properties\":[{\"default\":\"\",\"kind\":null,\"name\":\"terminal_output\"},{\"default\":\"\",\"kind\":null,\"name\":\"debug_name\"},{\"default\":0,\"kind\":null,\"name\":\"clears\"}]},{\"extends\":null,\"module\":null,\"name\":\"NotificationAreaBase1\",\"overrides\":[],\"properties\":[{\"default\":\"bottom-right\",\"kind\":null,\"name\":\"position\"},{\"default\":0,\"kind\":null,\"name\":\"_clear\"}]},{\"extends\":null,\"module\":null,\"name\":\"NotificationArea1\",\"overrides\":[],\"properties\":[{\"default\":[],\"kind\":null,\"name\":\"notifications\"},{\"default\":\"bottom-right\",\"kind\":null,\"name\":\"position\"},{\"default\":0,\"kind\":null,\"name\":\"_clear\"},{\"default\":[{\"background\":\"#ffc107\",\"icon\":{\"className\":\"fas fa-exclamation-triangle\",\"color\":\"white\",\"tagName\":\"i\"},\"type\":\"warning\"},{\"background\":\"#007bff\",\"icon\":{\"className\":\"fas fa-info-circle\",\"color\":\"white\",\"tagName\":\"i\"},\"type\":\"info\"}],\"kind\":null,\"name\":\"types\"}]},{\"extends\":null,\"module\":null,\"name\":\"Notification\",\"overrides\":[],\"properties\":[{\"default\":null,\"kind\":null,\"name\":\"background\"},{\"default\":3000,\"kind\":null,\"name\":\"duration\"},{\"default\":null,\"kind\":null,\"name\":\"icon\"},{\"default\":\"\",\"kind\":null,\"name\":\"message\"},{\"default\":null,\"kind\":null,\"name\":\"notification_type\"},{\"default\":false,\"kind\":null,\"name\":\"_destroyed\"}]},{\"extends\":null,\"module\":null,\"name\":\"TemplateActions1\",\"overrides\":[],\"properties\":[{\"default\":0,\"kind\":null,\"name\":\"open_modal\"},{\"default\":0,\"kind\":null,\"name\":\"close_modal\"}]},{\"extends\":null,\"module\":null,\"name\":\"MaterialTemplateActions1\",\"overrides\":[],\"properties\":[{\"default\":0,\"kind\":null,\"name\":\"open_modal\"},{\"default\":0,\"kind\":null,\"name\":\"close_modal\"}]}],\"roots\":{\"references\":[{\"attributes\":{\"dimension\":\"lon\"},\"id\":\"1050\",\"type\":\"MercatorTickFormatter\"},{\"attributes\":{\"dimension\":\"lat\"},\"id\":\"1052\",\"type\":\"MercatorTickFormatter\"},{\"attributes\":{\"margin\":[5,5,5,5],\"name\":\"HSpacer01544\",\"sizing_mode\":\"stretch_width\"},\"id\":\"1097\",\"type\":\"Spacer\"},{\"attributes\":{\"axis_label\":\"y\",\"coordinates\":null,\"formatter\":{\"id\":\"1052\"},\"group\":null,\"major_label_policy\":{\"id\":\"1062\"},\"ticker\":{\"id\":\"1051\"}},\"id\":\"1030\",\"type\":\"LinearAxis\"},{\"attributes\":{\"axis\":{\"id\":\"1030\"},\"coordinates\":null,\"dimension\":1,\"grid_line_color\":null,\"group\":null,\"ticker\":null},\"id\":\"1033\",\"type\":\"Grid\"},{\"attributes\":{\"coordinates\":null,\"data_source\":{\"id\":\"1080\"},\"glyph\":{\"id\":\"1083\"},\"group\":null,\"hover_glyph\":null,\"muted_glyph\":{\"id\":\"1085\"},\"nonselection_glyph\":{\"id\":\"1084\"},\"selection_glyph\":{\"id\":\"1090\"},\"view\":{\"id\":\"1087\"}},\"id\":\"1086\",\"type\":\"GlyphRenderer\"},{\"attributes\":{},\"id\":\"1034\",\"type\":\"SaveTool\"},{\"attributes\":{},\"id\":\"1035\",\"type\":\"PanTool\"},{\"attributes\":{\"zoom_on_axis\":false},\"id\":\"1036\",\"type\":\"WheelZoomTool\"},{\"attributes\":{},\"id\":\"1094\",\"type\":\"UnionRenderers\"},{\"attributes\":{\"match_aspect\":true,\"overlay\":{\"id\":\"1039\"}},\"id\":\"1037\",\"type\":\"BoxZoomTool\"},{\"attributes\":{},\"id\":\"1038\",\"type\":\"ResetTool\"},{\"attributes\":{\"end\":17391571.946605556,\"min_interval\":5,\"reset_end\":17391571.946605556,\"reset_start\":12584003.840678262,\"start\":12584003.840678262,\"tags\":[[[\"Lon\",\"Lon\",null]]]},\"id\":\"1010\",\"type\":\"Range1d\"},{\"attributes\":{\"bottom_units\":\"screen\",\"coordinates\":null,\"fill_alpha\":0.5,\"fill_color\":\"lightgrey\",\"group\":null,\"left_units\":\"screen\",\"level\":\"overlay\",\"line_alpha\":1.0,\"line_color\":\"black\",\"line_dash\":[4,4],\"line_width\":2,\"right_units\":\"screen\",\"syncable\":false,\"top_units\":\"screen\"},\"id\":\"1039\",\"type\":\"BoxAnnotation\"},{\"attributes\":{\"end\":-1429565.020600487,\"min_interval\":5,\"reset_end\":-1429565.020600487,\"reset_start\":-5035241.100045958,\"start\":-5035241.100045958,\"tags\":[[[\"Lat\",\"Lat\",null]]]},\"id\":\"1011\",\"type\":\"Range1d\"},{\"attributes\":{\"tools\":[{\"id\":\"1014\"},{\"id\":\"1034\"},{\"id\":\"1035\"},{\"id\":\"1036\"},{\"id\":\"1037\"},{\"id\":\"1038\"}]},\"id\":\"1040\",\"type\":\"Toolbar\"},{\"attributes\":{\"callback\":null,\"formatters\":{\"$x\":{\"id\":\"1088\"},\"$y\":{\"id\":\"1089\"}},\"renderers\":[{\"id\":\"1086\"}],\"tags\":[\"hv_created\"],\"tooltips\":[[\"Lon\",\"$x{custom}\"],[\"Lat\",\"$y{custom}\"]]},\"id\":\"1014\",\"type\":\"HoverTool\"},{\"attributes\":{},\"id\":\"1055\",\"type\":\"AllLabels\"},{\"attributes\":{},\"id\":\"1062\",\"type\":\"AllLabels\"},{\"attributes\":{\"dimension\":\"lon\"},\"id\":\"1049\",\"type\":\"MercatorTicker\"},{\"attributes\":{},\"id\":\"1024\",\"type\":\"LinearScale\"},{\"attributes\":{\"below\":[{\"id\":\"1026\"}],\"center\":[{\"id\":\"1029\"},{\"id\":\"1033\"}],\"frame_height\":600,\"frame_width\":800,\"height\":null,\"left\":[{\"id\":\"1030\"}],\"margin\":[5,5,5,5],\"match_aspect\":true,\"min_border_bottom\":10,\"min_border_left\":10,\"min_border_right\":10,\"min_border_top\":10,\"renderers\":[{\"id\":\"1078\"},{\"id\":\"1086\"}],\"sizing_mode\":\"fixed\",\"title\":{\"id\":\"1018\"},\"toolbar\":{\"id\":\"1040\"},\"width\":null,\"x_range\":{\"id\":\"1010\"},\"x_scale\":{\"id\":\"1022\"},\"y_range\":{\"id\":\"1011\"},\"y_scale\":{\"id\":\"1024\"}},\"id\":\"1017\",\"subtype\":\"Figure\",\"type\":\"Plot\"},{\"attributes\":{\"fill_color\":{\"value\":\"#30a2da\"},\"hatch_color\":{\"value\":\"#30a2da\"},\"line_color\":{\"value\":\"#30a2da\"},\"size\":{\"value\":5.477225575051661},\"x\":{\"field\":\"Lon\"},\"y\":{\"field\":\"Lat\"}},\"id\":\"1083\",\"type\":\"Scatter\"},{\"attributes\":{\"dimension\":\"lat\"},\"id\":\"1051\",\"type\":\"MercatorTicker\"},{\"attributes\":{\"attribution\":\"&copy; <a href=\\\"https://www.openstreetmap.org/copyright\\\">OpenStreetMap</a> contributors\",\"url\":\"https://c.tile.openstreetmap.org/{Z}/{X}/{Y}.png\"},\"id\":\"1075\",\"type\":\"WMTSTileSource\"},{\"attributes\":{\"angle\":{\"value\":0.0},\"fill_alpha\":{\"value\":1.0},\"fill_color\":{\"value\":\"#30a2da\"},\"hatch_alpha\":{\"value\":1.0},\"hatch_color\":{\"value\":\"#30a2da\"},\"hatch_scale\":{\"value\":12.0},\"hatch_weight\":{\"value\":1.0},\"line_alpha\":{\"value\":1.0},\"line_cap\":{\"value\":\"butt\"},\"line_color\":{\"value\":\"#30a2da\"},\"line_dash\":{\"value\":[]},\"line_dash_offset\":{\"value\":0},\"line_join\":{\"value\":\"bevel\"},\"line_width\":{\"value\":1},\"marker\":{\"value\":\"circle\"},\"size\":{\"value\":5.477225575051661},\"x\":{\"field\":\"Lon\"},\"y\":{\"field\":\"Lat\"}},\"id\":\"1090\",\"type\":\"Scatter\"},{\"attributes\":{\"axis_label\":\"x\",\"coordinates\":null,\"formatter\":{\"id\":\"1050\"},\"group\":null,\"major_label_policy\":{\"id\":\"1055\"},\"ticker\":{\"id\":\"1049\"}},\"id\":\"1026\",\"type\":\"LinearAxis\"},{\"attributes\":{\"coordinates\":null,\"group\":null,\"level\":\"glyph\",\"tile_source\":{\"id\":\"1075\"}},\"id\":\"1078\",\"type\":\"TileRenderer\"},{\"attributes\":{\"coordinates\":null,\"group\":null,\"text_color\":\"black\",\"text_font_size\":\"12pt\"},\"id\":\"1018\",\"type\":\"Title\"},{\"attributes\":{\"code\":\"\\n        var projections = Bokeh.require(\\\"core/util/projections\\\");\\n        var x = special_vars.data_x\\n        var y = special_vars.data_y\\n        if (projections.wgs84_mercator.invert == null) {\\n          var coords = projections.wgs84_mercator.inverse([x, y])\\n        } else {\\n          var coords = projections.wgs84_mercator.invert(x, y)\\n        }\\n        return \\\"\\\" + (coords[0]).toFixed(4)\\n    \"},\"id\":\"1088\",\"type\":\"CustomJSHover\"},{\"attributes\":{\"code\":\"\\n        var projections = Bokeh.require(\\\"core/util/projections\\\");\\n        var x = special_vars.data_x\\n        var y = special_vars.data_y\\n        if (projections.wgs84_mercator.invert == null) {\\n          var coords = projections.wgs84_mercator.inverse([x, y])\\n        } else {\\n          var coords = projections.wgs84_mercator.invert(x, y)\\n        }\\n        return \\\"\\\" + (coords[1]).toFixed(4)\\n    \"},\"id\":\"1089\",\"type\":\"CustomJSHover\"},{\"attributes\":{\"axis\":{\"id\":\"1026\"},\"coordinates\":null,\"grid_line_color\":null,\"group\":null,\"ticker\":null},\"id\":\"1029\",\"type\":\"Grid\"},{\"attributes\":{\"children\":[{\"id\":\"1005\"},{\"id\":\"1017\"},{\"id\":\"1097\"}],\"margin\":[0,0,0,0],\"name\":\"Row01539\",\"tags\":[\"embedded\"]},\"id\":\"1004\",\"type\":\"Row\"},{\"attributes\":{},\"id\":\"1022\",\"type\":\"LinearScale\"},{\"attributes\":{\"source\":{\"id\":\"1080\"}},\"id\":\"1087\",\"type\":\"CDSView\"},{\"attributes\":{\"data\":{\"Lat\":{\"__ndarray__\":\"dAAjTaWaTsExx3SIf15RwQ3ZJ17pqkzBFrZYAygrPcH+VjG4hrFPwQisR348ykjBRW/Y5/yrQMHb9aX8GohNwQ==\",\"dtype\":\"float64\",\"order\":\"little\",\"shape\":[8]},\"Lon\":{\"__ndarray__\":\"OVZI1HoNcEHsK88ngcduQX2s85igmWhBX+lqrnrzbkEaP3w4oW1tQargHjBxSXBB03Fj+KUsb0F4CklLuR5wQQ==\",\"dtype\":\"float64\",\"order\":\"little\",\"shape\":[8]}},\"selected\":{\"id\":\"1081\"},\"selection_policy\":{\"id\":\"1094\"}},\"id\":\"1080\",\"type\":\"ColumnDataSource\"},{\"attributes\":{\"fill_alpha\":{\"value\":0.2},\"fill_color\":{\"value\":\"#30a2da\"},\"hatch_alpha\":{\"value\":0.2},\"hatch_color\":{\"value\":\"#30a2da\"},\"line_alpha\":{\"value\":0.2},\"line_color\":{\"value\":\"#30a2da\"},\"size\":{\"value\":5.477225575051661},\"x\":{\"field\":\"Lon\"},\"y\":{\"field\":\"Lat\"}},\"id\":\"1085\",\"type\":\"Scatter\"},{\"attributes\":{\"margin\":[5,5,5,5],\"name\":\"HSpacer01543\",\"sizing_mode\":\"stretch_width\"},\"id\":\"1005\",\"type\":\"Spacer\"},{\"attributes\":{\"fill_alpha\":{\"value\":0.1},\"fill_color\":{\"value\":\"#30a2da\"},\"hatch_alpha\":{\"value\":0.1},\"hatch_color\":{\"value\":\"#30a2da\"},\"line_alpha\":{\"value\":0.1},\"line_color\":{\"value\":\"#30a2da\"},\"size\":{\"value\":5.477225575051661},\"x\":{\"field\":\"Lon\"},\"y\":{\"field\":\"Lat\"}},\"id\":\"1084\",\"type\":\"Scatter\"},{\"attributes\":{},\"id\":\"1081\",\"type\":\"Selection\"}],\"root_ids\":[\"1004\"]},\"title\":\"Bokeh Application\",\"version\":\"2.4.3\"}};\n",
       "    var render_items = [{\"docid\":\"b3340ca6-1b6a-4cd6-b3ef-47b2b5c28c7c\",\"root_ids\":[\"1004\"],\"roots\":{\"1004\":\"514e9829-5e71-4b8d-a826-1ecba637d589\"}}];\n",
       "    root.Bokeh.embed.embed_items_notebook(docs_json, render_items);\n",
       "  }\n",
       "  if (root.Bokeh !== undefined && root.Bokeh.Panel !== undefined) {\n",
       "    embed_document(root);\n",
       "  } else {\n",
       "    var attempts = 0;\n",
       "    var timer = setInterval(function(root) {\n",
       "      if (root.Bokeh !== undefined && root.Bokeh.Panel !== undefined) {\n",
       "        clearInterval(timer);\n",
       "        embed_document(root);\n",
       "      } else if (document.readyState == \"complete\") {\n",
       "        attempts++;\n",
       "        if (attempts > 200) {\n",
       "          clearInterval(timer);\n",
       "          console.log(\"Bokeh: ERROR: Unable to run BokehJS code because BokehJS library is missing\");\n",
       "        }\n",
       "      }\n",
       "    }, 25, root)\n",
       "  }\n",
       "})(window);</script>"
      ],
      "text/plain": [
       ":Overlay\n",
       "   .Tiles.I  :Tiles   [x,y]\n",
       "   .Points.I :Points   [Lon,Lat]"
      ]
     },
     "execution_count": 3,
     "metadata": {
      "application/vnd.holoviews_exec.v0+json": {
       "id": "1004"
      }
     },
     "output_type": "execute_result"
    }
   ],
   "source": [
    "# Configure the map\n",
    "\n",
    "\n",
    "# Display the map plot\n"
   ]
  },
  {
   "cell_type": "markdown",
   "metadata": {},
   "source": [
    "## 3. Use GeoViews to create a custom map by setting values for color, size, and a title different than OSM.\n",
    "\n",
    "  > **Hint:** From the column values, you should decide what columns can be used to set a different color and size for each city."
   ]
  },
  {
   "cell_type": "code",
   "execution_count": 4,
   "metadata": {},
   "outputs": [
    {
     "data": {},
     "metadata": {},
     "output_type": "display_data"
    },
    {
     "data": {
      "application/vnd.holoviews_exec.v0+json": "",
      "text/html": [
       "<div id='1129'>\n",
       "  <div class=\"bk-root\" id=\"45ee183d-c418-4778-9e2c-383d5e71d0e7\" data-root-id=\"1129\"></div>\n",
       "</div>\n",
       "<script type=\"application/javascript\">(function(root) {\n",
       "  function embed_document(root) {\n",
       "    var docs_json = {\"bcff7e99-060f-40c6-8d1c-e133dba75e51\":{\"defs\":[{\"extends\":null,\"module\":null,\"name\":\"ReactiveHTML1\",\"overrides\":[],\"properties\":[]},{\"extends\":null,\"module\":null,\"name\":\"FlexBox1\",\"overrides\":[],\"properties\":[{\"default\":\"flex-start\",\"kind\":null,\"name\":\"align_content\"},{\"default\":\"flex-start\",\"kind\":null,\"name\":\"align_items\"},{\"default\":\"row\",\"kind\":null,\"name\":\"flex_direction\"},{\"default\":\"wrap\",\"kind\":null,\"name\":\"flex_wrap\"},{\"default\":\"flex-start\",\"kind\":null,\"name\":\"justify_content\"}]},{\"extends\":null,\"module\":null,\"name\":\"GridStack1\",\"overrides\":[],\"properties\":[{\"default\":\"warn\",\"kind\":null,\"name\":\"mode\"},{\"default\":null,\"kind\":null,\"name\":\"ncols\"},{\"default\":null,\"kind\":null,\"name\":\"nrows\"},{\"default\":true,\"kind\":null,\"name\":\"allow_resize\"},{\"default\":true,\"kind\":null,\"name\":\"allow_drag\"},{\"default\":[],\"kind\":null,\"name\":\"state\"}]},{\"extends\":null,\"module\":null,\"name\":\"click1\",\"overrides\":[],\"properties\":[{\"default\":\"\",\"kind\":null,\"name\":\"terminal_output\"},{\"default\":\"\",\"kind\":null,\"name\":\"debug_name\"},{\"default\":0,\"kind\":null,\"name\":\"clears\"}]},{\"extends\":null,\"module\":null,\"name\":\"NotificationAreaBase1\",\"overrides\":[],\"properties\":[{\"default\":\"bottom-right\",\"kind\":null,\"name\":\"position\"},{\"default\":0,\"kind\":null,\"name\":\"_clear\"}]},{\"extends\":null,\"module\":null,\"name\":\"NotificationArea1\",\"overrides\":[],\"properties\":[{\"default\":[],\"kind\":null,\"name\":\"notifications\"},{\"default\":\"bottom-right\",\"kind\":null,\"name\":\"position\"},{\"default\":0,\"kind\":null,\"name\":\"_clear\"},{\"default\":[{\"background\":\"#ffc107\",\"icon\":{\"className\":\"fas fa-exclamation-triangle\",\"color\":\"white\",\"tagName\":\"i\"},\"type\":\"warning\"},{\"background\":\"#007bff\",\"icon\":{\"className\":\"fas fa-info-circle\",\"color\":\"white\",\"tagName\":\"i\"},\"type\":\"info\"}],\"kind\":null,\"name\":\"types\"}]},{\"extends\":null,\"module\":null,\"name\":\"Notification\",\"overrides\":[],\"properties\":[{\"default\":null,\"kind\":null,\"name\":\"background\"},{\"default\":3000,\"kind\":null,\"name\":\"duration\"},{\"default\":null,\"kind\":null,\"name\":\"icon\"},{\"default\":\"\",\"kind\":null,\"name\":\"message\"},{\"default\":null,\"kind\":null,\"name\":\"notification_type\"},{\"default\":false,\"kind\":null,\"name\":\"_destroyed\"}]},{\"extends\":null,\"module\":null,\"name\":\"TemplateActions1\",\"overrides\":[],\"properties\":[{\"default\":0,\"kind\":null,\"name\":\"open_modal\"},{\"default\":0,\"kind\":null,\"name\":\"close_modal\"}]},{\"extends\":null,\"module\":null,\"name\":\"MaterialTemplateActions1\",\"overrides\":[],\"properties\":[{\"default\":0,\"kind\":null,\"name\":\"open_modal\"},{\"default\":0,\"kind\":null,\"name\":\"close_modal\"}]}],\"roots\":{\"references\":[{\"attributes\":{\"coordinates\":null,\"data_source\":{\"id\":\"1206\"},\"glyph\":{\"id\":\"1209\"},\"group\":null,\"hover_glyph\":{\"id\":\"1212\"},\"muted_glyph\":{\"id\":\"1213\"},\"nonselection_glyph\":{\"id\":\"1210\"},\"selection_glyph\":{\"id\":\"1211\"},\"view\":{\"id\":\"1215\"}},\"id\":\"1214\",\"type\":\"GlyphRenderer\"},{\"attributes\":{},\"id\":\"1159\",\"type\":\"SaveTool\"},{\"attributes\":{\"match_aspect\":true,\"overlay\":{\"id\":\"1164\"}},\"id\":\"1162\",\"type\":\"BoxZoomTool\"},{\"attributes\":{\"click_policy\":\"mute\",\"coordinates\":null,\"group\":null,\"items\":[{\"id\":\"1223\"}],\"location\":[0,0]},\"id\":\"1222\",\"type\":\"Legend\"},{\"attributes\":{},\"id\":\"1163\",\"type\":\"ResetTool\"},{\"attributes\":{\"data\":{\"City\":[\"Sydney\",\"Melbourne\",\"Perth\",\"Cairns\",\"Adelaide\",\"Gold Coast\",\"Townsville\",\"Williamtown\"],\"Distance\":[6742,9980,8775,3461,4898,18807,4711,620],\"Lat\":{\"__ndarray__\":\"dAAjTaWaTsExx3SIf15RwQ3ZJ17pqkzBFrZYAygrPcH+VjG4hrFPwQisR348ykjBRW/Y5/yrQMHb9aX8GohNwQ==\",\"dtype\":\"float64\",\"order\":\"little\",\"shape\":[8]},\"Lon\":{\"__ndarray__\":\"OVZI1HoNcEHsK88ngcduQX2s85igmWhBX+lqrnrzbkEaP3w4oW1tQargHjBxSXBB03Fj+KUsb0F4CklLuR5wQQ==\",\"dtype\":\"float64\",\"order\":\"little\",\"shape\":[8]},\"color\":[\"Sydney\",\"Melbourne\",\"Perth\",\"Cairns\",\"Adelaide\",\"Gold Coast\",\"Townsville\",\"Williamtown\"],\"size\":{\"__ndarray__\":\"aYLDCgWHREAnwazHmPlIQFEmRbUya0dAsG3rGUZqPUB9i0HrFX9BQIF61YpvJFFAhGqkGcAoQUC4sHc9WeYoQA==\",\"dtype\":\"float64\",\"order\":\"little\",\"shape\":[8]}},\"selected\":{\"id\":\"1207\"},\"selection_policy\":{\"id\":\"1219\"}},\"id\":\"1206\",\"type\":\"ColumnDataSource\"},{\"attributes\":{\"factors\":[\"Sydney\",\"Melbourne\",\"Perth\",\"Cairns\",\"Adelaide\",\"Gold Coast\",\"Townsville\",\"Williamtown\"],\"palette\":[\"#1f77b3\",\"#ff7e0e\",\"#2ba02b\",\"#d62628\",\"#9367bc\",\"#8c564b\",\"#e277c1\",\"#7e7e7e\"]},\"id\":\"1205\",\"type\":\"CategoricalColorMapper\"},{\"attributes\":{\"bottom_units\":\"screen\",\"coordinates\":null,\"fill_alpha\":0.5,\"fill_color\":\"lightgrey\",\"group\":null,\"left_units\":\"screen\",\"level\":\"overlay\",\"line_alpha\":1.0,\"line_color\":\"black\",\"line_dash\":[4,4],\"line_width\":2,\"right_units\":\"screen\",\"syncable\":false,\"top_units\":\"screen\"},\"id\":\"1164\",\"type\":\"BoxAnnotation\"},{\"attributes\":{\"fill_color\":{\"field\":\"color\",\"transform\":{\"id\":\"1205\"}},\"hatch_color\":{\"field\":\"color\",\"transform\":{\"id\":\"1205\"}},\"line_color\":{\"field\":\"color\",\"transform\":{\"id\":\"1205\"}},\"size\":{\"field\":\"size\"},\"x\":{\"field\":\"Lon\"},\"y\":{\"field\":\"Lat\"}},\"id\":\"1212\",\"type\":\"Scatter\"},{\"attributes\":{\"callback\":null,\"formatters\":{\"$x\":{\"id\":\"1224\"},\"$y\":{\"id\":\"1225\"}},\"renderers\":[{\"id\":\"1214\"}],\"tags\":[\"hv_created\"],\"tooltips\":[[\"Lon\",\"$x{custom}\"],[\"Lat\",\"$y{custom}\"],[\"City\",\"@{City}\"],[\"Distance\",\"@{Distance}\"]]},\"id\":\"1139\",\"type\":\"HoverTool\"},{\"attributes\":{\"tools\":[{\"id\":\"1139\"},{\"id\":\"1159\"},{\"id\":\"1160\"},{\"id\":\"1161\"},{\"id\":\"1162\"},{\"id\":\"1163\"}]},\"id\":\"1165\",\"type\":\"Toolbar\"},{\"attributes\":{\"fill_alpha\":{\"value\":0.1},\"fill_color\":{\"field\":\"color\",\"transform\":{\"id\":\"1205\"}},\"hatch_alpha\":{\"value\":0.1},\"hatch_color\":{\"field\":\"color\",\"transform\":{\"id\":\"1205\"}},\"line_alpha\":{\"value\":0.1},\"line_color\":{\"field\":\"color\",\"transform\":{\"id\":\"1205\"}},\"size\":{\"field\":\"size\"},\"x\":{\"field\":\"Lon\"},\"y\":{\"field\":\"Lat\"}},\"id\":\"1210\",\"type\":\"Scatter\"},{\"attributes\":{\"coordinates\":null,\"group\":null,\"level\":\"glyph\",\"tile_source\":{\"id\":\"1200\"}},\"id\":\"1203\",\"type\":\"TileRenderer\"},{\"attributes\":{},\"id\":\"1149\",\"type\":\"LinearScale\"},{\"attributes\":{\"fill_alpha\":{\"value\":0.2},\"fill_color\":{\"field\":\"color\",\"transform\":{\"id\":\"1205\"}},\"hatch_alpha\":{\"value\":0.2},\"hatch_color\":{\"field\":\"color\",\"transform\":{\"id\":\"1205\"}},\"line_alpha\":{\"value\":0.2},\"line_color\":{\"field\":\"color\",\"transform\":{\"id\":\"1205\"}},\"size\":{\"field\":\"size\"},\"x\":{\"field\":\"Lon\"},\"y\":{\"field\":\"Lat\"}},\"id\":\"1213\",\"type\":\"Scatter\"},{\"attributes\":{\"margin\":[5,5,5,5],\"name\":\"HSpacer01666\",\"sizing_mode\":\"stretch_width\"},\"id\":\"1130\",\"type\":\"Spacer\"},{\"attributes\":{},\"id\":\"1219\",\"type\":\"UnionRenderers\"},{\"attributes\":{\"end\":17391571.946605556,\"min_interval\":5,\"reset_end\":17391571.946605556,\"reset_start\":12584003.840678262,\"start\":12584003.840678262,\"tags\":[[[\"Lon\",\"Lon\",null]]]},\"id\":\"1135\",\"type\":\"Range1d\"},{\"attributes\":{\"dimension\":\"lat\"},\"id\":\"1176\",\"type\":\"MercatorTicker\"},{\"attributes\":{\"dimension\":\"lon\"},\"id\":\"1175\",\"type\":\"MercatorTickFormatter\"},{\"attributes\":{},\"id\":\"1147\",\"type\":\"LinearScale\"},{\"attributes\":{\"dimension\":\"lon\"},\"id\":\"1174\",\"type\":\"MercatorTicker\"},{\"attributes\":{\"below\":[{\"id\":\"1151\"}],\"center\":[{\"id\":\"1154\"},{\"id\":\"1158\"}],\"frame_height\":600,\"frame_width\":800,\"height\":null,\"left\":[{\"id\":\"1155\"}],\"margin\":[5,5,5,5],\"match_aspect\":true,\"min_border_bottom\":10,\"min_border_left\":10,\"min_border_right\":10,\"min_border_top\":10,\"renderers\":[{\"id\":\"1203\"},{\"id\":\"1214\"}],\"right\":[{\"id\":\"1222\"}],\"sizing_mode\":\"fixed\",\"title\":{\"id\":\"1143\"},\"toolbar\":{\"id\":\"1165\"},\"width\":null,\"x_range\":{\"id\":\"1135\"},\"x_scale\":{\"id\":\"1147\"},\"y_range\":{\"id\":\"1136\"},\"y_scale\":{\"id\":\"1149\"}},\"id\":\"1142\",\"subtype\":\"Figure\",\"type\":\"Plot\"},{\"attributes\":{\"axis_label\":\"x\",\"coordinates\":null,\"formatter\":{\"id\":\"1175\"},\"group\":null,\"major_label_policy\":{\"id\":\"1180\"},\"ticker\":{\"id\":\"1174\"}},\"id\":\"1151\",\"type\":\"LinearAxis\"},{\"attributes\":{\"children\":[{\"id\":\"1130\"},{\"id\":\"1142\"},{\"id\":\"1232\"}],\"margin\":[0,0,0,0],\"name\":\"Row01662\",\"tags\":[\"embedded\"]},\"id\":\"1129\",\"type\":\"Row\"},{\"attributes\":{\"fill_color\":{\"field\":\"color\",\"transform\":{\"id\":\"1205\"}},\"hatch_color\":{\"field\":\"color\",\"transform\":{\"id\":\"1205\"}},\"line_color\":{\"field\":\"color\",\"transform\":{\"id\":\"1205\"}},\"size\":{\"field\":\"size\"},\"x\":{\"field\":\"Lon\"},\"y\":{\"field\":\"Lat\"}},\"id\":\"1209\",\"type\":\"Scatter\"},{\"attributes\":{},\"id\":\"1180\",\"type\":\"AllLabels\"},{\"attributes\":{},\"id\":\"1187\",\"type\":\"AllLabels\"},{\"attributes\":{\"coordinates\":null,\"group\":null,\"text_color\":\"black\",\"text_font_size\":\"12pt\"},\"id\":\"1143\",\"type\":\"Title\"},{\"attributes\":{\"axis\":{\"id\":\"1151\"},\"coordinates\":null,\"grid_line_color\":null,\"group\":null,\"ticker\":null},\"id\":\"1154\",\"type\":\"Grid\"},{\"attributes\":{\"fill_color\":{\"field\":\"color\",\"transform\":{\"id\":\"1205\"}},\"hatch_color\":{\"field\":\"color\",\"transform\":{\"id\":\"1205\"}},\"line_color\":{\"field\":\"color\",\"transform\":{\"id\":\"1205\"}},\"size\":{\"field\":\"size\"},\"x\":{\"field\":\"Lon\"},\"y\":{\"field\":\"Lat\"}},\"id\":\"1211\",\"type\":\"Scatter\"},{\"attributes\":{\"attribution\":\"&copy; <a href=\\\"http://downloads.esri.com/ArcGISOnline/docs/tou_summary.pdf\\\">Esri</a>, Earthstar Geographics\",\"url\":\"https://server.arcgisonline.com/ArcGIS/rest/services/World_Imagery/MapServer/tile/{Z}/{Y}/{X}.jpg\"},\"id\":\"1200\",\"type\":\"WMTSTileSource\"},{\"attributes\":{\"source\":{\"id\":\"1206\"}},\"id\":\"1215\",\"type\":\"CDSView\"},{\"attributes\":{},\"id\":\"1207\",\"type\":\"Selection\"},{\"attributes\":{\"code\":\"\\n        var projections = Bokeh.require(\\\"core/util/projections\\\");\\n        var x = special_vars.data_x\\n        var y = special_vars.data_y\\n        if (projections.wgs84_mercator.invert == null) {\\n          var coords = projections.wgs84_mercator.inverse([x, y])\\n        } else {\\n          var coords = projections.wgs84_mercator.invert(x, y)\\n        }\\n        return \\\"\\\" + (coords[0]).toFixed(4)\\n    \"},\"id\":\"1224\",\"type\":\"CustomJSHover\"},{\"attributes\":{\"dimension\":\"lat\"},\"id\":\"1177\",\"type\":\"MercatorTickFormatter\"},{\"attributes\":{\"label\":{\"field\":\"color\"},\"renderers\":[{\"id\":\"1214\"}]},\"id\":\"1223\",\"type\":\"LegendItem\"},{\"attributes\":{},\"id\":\"1160\",\"type\":\"PanTool\"},{\"attributes\":{\"axis_label\":\"y\",\"coordinates\":null,\"formatter\":{\"id\":\"1177\"},\"group\":null,\"major_label_policy\":{\"id\":\"1187\"},\"ticker\":{\"id\":\"1176\"}},\"id\":\"1155\",\"type\":\"LinearAxis\"},{\"attributes\":{\"axis\":{\"id\":\"1155\"},\"coordinates\":null,\"dimension\":1,\"grid_line_color\":null,\"group\":null,\"ticker\":null},\"id\":\"1158\",\"type\":\"Grid\"},{\"attributes\":{\"code\":\"\\n        var projections = Bokeh.require(\\\"core/util/projections\\\");\\n        var x = special_vars.data_x\\n        var y = special_vars.data_y\\n        if (projections.wgs84_mercator.invert == null) {\\n          var coords = projections.wgs84_mercator.inverse([x, y])\\n        } else {\\n          var coords = projections.wgs84_mercator.invert(x, y)\\n        }\\n        return \\\"\\\" + (coords[1]).toFixed(4)\\n    \"},\"id\":\"1225\",\"type\":\"CustomJSHover\"},{\"attributes\":{\"end\":-1429565.020600487,\"min_interval\":5,\"reset_end\":-1429565.020600487,\"reset_start\":-5035241.100045958,\"start\":-5035241.100045958,\"tags\":[[[\"Lat\",\"Lat\",null]]]},\"id\":\"1136\",\"type\":\"Range1d\"},{\"attributes\":{\"zoom_on_axis\":false},\"id\":\"1161\",\"type\":\"WheelZoomTool\"},{\"attributes\":{\"margin\":[5,5,5,5],\"name\":\"HSpacer01667\",\"sizing_mode\":\"stretch_width\"},\"id\":\"1232\",\"type\":\"Spacer\"}],\"root_ids\":[\"1129\"]},\"title\":\"Bokeh Application\",\"version\":\"2.4.3\"}};\n",
       "    var render_items = [{\"docid\":\"bcff7e99-060f-40c6-8d1c-e133dba75e51\",\"root_ids\":[\"1129\"],\"roots\":{\"1129\":\"45ee183d-c418-4778-9e2c-383d5e71d0e7\"}}];\n",
       "    root.Bokeh.embed.embed_items_notebook(docs_json, render_items);\n",
       "  }\n",
       "  if (root.Bokeh !== undefined && root.Bokeh.Panel !== undefined) {\n",
       "    embed_document(root);\n",
       "  } else {\n",
       "    var attempts = 0;\n",
       "    var timer = setInterval(function(root) {\n",
       "      if (root.Bokeh !== undefined && root.Bokeh.Panel !== undefined) {\n",
       "        clearInterval(timer);\n",
       "        embed_document(root);\n",
       "      } else if (document.readyState == \"complete\") {\n",
       "        attempts++;\n",
       "        if (attempts > 200) {\n",
       "          clearInterval(timer);\n",
       "          console.log(\"Bokeh: ERROR: Unable to run BokehJS code because BokehJS library is missing\");\n",
       "        }\n",
       "      }\n",
       "    }, 25, root)\n",
       "  }\n",
       "})(window);</script>"
      ],
      "text/plain": [
       ":Overlay\n",
       "   .Tiles.I  :Tiles   [x,y]\n",
       "   .Points.I :Points   [Lon,Lat]   (City,Distance)"
      ]
     },
     "execution_count": 4,
     "metadata": {
      "application/vnd.holoviews_exec.v0+json": {
       "id": "1129"
      }
     },
     "output_type": "execute_result"
    }
   ],
   "source": [
    "# Configure the map\n",
    "\n",
    "\n",
    "# Display the map plot\n"
   ]
  },
  {
   "cell_type": "code",
   "execution_count": null,
   "metadata": {},
   "outputs": [],
   "source": []
  }
 ],
 "metadata": {
  "kernelspec": {
   "display_name": "Python 3 (ipykernel)",
   "language": "python",
   "name": "python3"
  },
  "language_info": {
   "codemirror_mode": {
    "name": "ipython",
    "version": 3
   },
   "file_extension": ".py",
   "mimetype": "text/x-python",
   "name": "python",
   "nbconvert_exporter": "python",
   "pygments_lexer": "ipython3",
   "version": "3.10.4"
  },
  "latex_envs": {
   "LaTeX_envs_menu_present": true,
   "autoclose": false,
   "autocomplete": true,
   "bibliofile": "biblio.bib",
   "cite_by": "apalike",
   "current_citInitial": 1,
   "eqLabelWithNumbers": true,
   "eqNumInitial": 1,
   "hotkeys": {
    "equation": "Ctrl-E",
    "itemize": "Ctrl-I"
   },
   "labels_anchors": false,
   "latex_user_defs": false,
   "report_style_numbering": false,
   "user_envs_cfg": false
  }
 },
 "nbformat": 4,
 "nbformat_minor": 4
}
