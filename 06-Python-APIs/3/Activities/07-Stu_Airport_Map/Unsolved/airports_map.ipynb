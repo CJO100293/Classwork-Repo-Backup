{
 "cells": [
  {
   "cell_type": "markdown",
   "metadata": {},
   "source": [
    "# Australian Airports Map"
   ]
  },
  {
   "cell_type": "code",
   "execution_count": 2,
   "metadata": {},
   "outputs": [],
   "source": [
    "# Import the required libraries\n",
    "import hvplot.pandas\n",
    "import pandas as pd\n",
    "\n",
    "# Turn off warning messages\n",
    "import warnings\n",
    "warnings.filterwarnings(\"ignore\")"
   ]
  },
  {
   "cell_type": "code",
   "execution_count": 5,
   "metadata": {},
   "outputs": [
    {
     "name": "stdout",
     "output_type": "stream",
     "text": [
      "Requirement already satisfied: hvplot in /Users/jonathanmoo/anaconda3/envs/dev/lib/python3.10/site-packages (0.8.3)\n",
      "Requirement already satisfied: bokeh>=1.0.0 in /Users/jonathanmoo/anaconda3/envs/dev/lib/python3.10/site-packages (from hvplot) (2.4.3)\n",
      "Requirement already satisfied: colorcet>=2 in /Users/jonathanmoo/anaconda3/envs/dev/lib/python3.10/site-packages (from hvplot) (3.0.1)\n",
      "Requirement already satisfied: holoviews>=1.11.0 in /Users/jonathanmoo/anaconda3/envs/dev/lib/python3.10/site-packages (from hvplot) (1.15.4)\n",
      "Requirement already satisfied: pandas in /Users/jonathanmoo/anaconda3/envs/dev/lib/python3.10/site-packages (from hvplot) (1.5.3)\n",
      "Requirement already satisfied: numpy>=1.15 in /Users/jonathanmoo/anaconda3/envs/dev/lib/python3.10/site-packages (from hvplot) (1.23.5)\n",
      "Requirement already satisfied: packaging in /Users/jonathanmoo/anaconda3/envs/dev/lib/python3.10/site-packages (from hvplot) (23.0)\n",
      "Requirement already satisfied: panel>=0.11.0 in /Users/jonathanmoo/anaconda3/envs/dev/lib/python3.10/site-packages (from hvplot) (0.14.3)\n",
      "Requirement already satisfied: param>=1.9.0 in /Users/jonathanmoo/anaconda3/envs/dev/lib/python3.10/site-packages (from hvplot) (1.12.3)\n",
      "Requirement already satisfied: Jinja2>=2.9 in /Users/jonathanmoo/anaconda3/envs/dev/lib/python3.10/site-packages (from bokeh>=1.0.0->hvplot) (3.1.2)\n",
      "Requirement already satisfied: pillow>=7.1.0 in /Users/jonathanmoo/anaconda3/envs/dev/lib/python3.10/site-packages (from bokeh>=1.0.0->hvplot) (9.4.0)\n",
      "Requirement already satisfied: PyYAML>=3.10 in /Users/jonathanmoo/anaconda3/envs/dev/lib/python3.10/site-packages (from bokeh>=1.0.0->hvplot) (6.0)\n",
      "Requirement already satisfied: tornado>=5.1 in /Users/jonathanmoo/anaconda3/envs/dev/lib/python3.10/site-packages (from bokeh>=1.0.0->hvplot) (6.2)\n",
      "Requirement already satisfied: typing-extensions>=3.10.0 in /Users/jonathanmoo/anaconda3/envs/dev/lib/python3.10/site-packages (from bokeh>=1.0.0->hvplot) (4.4.0)\n",
      "Requirement already satisfied: pyct>=0.4.4 in /Users/jonathanmoo/anaconda3/envs/dev/lib/python3.10/site-packages (from colorcet>=2->hvplot) (0.5.0)\n",
      "Requirement already satisfied: pyviz-comms>=0.7.4 in /Users/jonathanmoo/anaconda3/envs/dev/lib/python3.10/site-packages (from holoviews>=1.11.0->hvplot) (2.0.2)\n",
      "Requirement already satisfied: python-dateutil>=2.8.1 in /Users/jonathanmoo/anaconda3/envs/dev/lib/python3.10/site-packages (from pandas->hvplot) (2.8.2)\n",
      "Requirement already satisfied: pytz>=2020.1 in /Users/jonathanmoo/anaconda3/envs/dev/lib/python3.10/site-packages (from pandas->hvplot) (2022.7)\n",
      "Requirement already satisfied: markdown in /Users/jonathanmoo/anaconda3/envs/dev/lib/python3.10/site-packages (from panel>=0.11.0->hvplot) (3.4.1)\n",
      "Requirement already satisfied: bleach in /Users/jonathanmoo/anaconda3/envs/dev/lib/python3.10/site-packages (from panel>=0.11.0->hvplot) (4.1.0)\n",
      "Requirement already satisfied: tqdm>=4.48.0 in /Users/jonathanmoo/anaconda3/envs/dev/lib/python3.10/site-packages (from panel>=0.11.0->hvplot) (4.65.0)\n",
      "Requirement already satisfied: setuptools>=42 in /Users/jonathanmoo/anaconda3/envs/dev/lib/python3.10/site-packages (from panel>=0.11.0->hvplot) (66.0.0)\n",
      "Requirement already satisfied: requests in /Users/jonathanmoo/anaconda3/envs/dev/lib/python3.10/site-packages (from panel>=0.11.0->hvplot) (2.28.1)\n",
      "Requirement already satisfied: MarkupSafe>=2.0 in /Users/jonathanmoo/anaconda3/envs/dev/lib/python3.10/site-packages (from Jinja2>=2.9->bokeh>=1.0.0->hvplot) (2.1.1)\n",
      "Requirement already satisfied: six>=1.5 in /Users/jonathanmoo/anaconda3/envs/dev/lib/python3.10/site-packages (from python-dateutil>=2.8.1->pandas->hvplot) (1.16.0)\n",
      "Requirement already satisfied: webencodings in /Users/jonathanmoo/anaconda3/envs/dev/lib/python3.10/site-packages (from bleach->panel>=0.11.0->hvplot) (0.5.1)\n",
      "Requirement already satisfied: idna<4,>=2.5 in /Users/jonathanmoo/anaconda3/envs/dev/lib/python3.10/site-packages (from requests->panel>=0.11.0->hvplot) (3.4)\n",
      "Requirement already satisfied: charset-normalizer<3,>=2 in /Users/jonathanmoo/anaconda3/envs/dev/lib/python3.10/site-packages (from requests->panel>=0.11.0->hvplot) (2.0.4)\n",
      "Requirement already satisfied: urllib3<1.27,>=1.21.1 in /Users/jonathanmoo/anaconda3/envs/dev/lib/python3.10/site-packages (from requests->panel>=0.11.0->hvplot) (1.26.15)\n",
      "Requirement already satisfied: certifi>=2017.4.17 in /Users/jonathanmoo/anaconda3/envs/dev/lib/python3.10/site-packages (from requests->panel>=0.11.0->hvplot) (2022.12.7)\n"
     ]
    }
   ],
   "source": [
    "!pip install hvplot"
   ]
  },
  {
   "cell_type": "markdown",
   "metadata": {},
   "source": [
    "## 1. Load airports' data into a Pandas DataFrame"
   ]
  },
  {
   "cell_type": "code",
   "execution_count": 6,
   "metadata": {},
   "outputs": [
    {
     "data": {
      "text/html": [
       "<div>\n",
       "<style scoped>\n",
       "    .dataframe tbody tr th:only-of-type {\n",
       "        vertical-align: middle;\n",
       "    }\n",
       "\n",
       "    .dataframe tbody tr th {\n",
       "        vertical-align: top;\n",
       "    }\n",
       "\n",
       "    .dataframe thead th {\n",
       "        text-align: right;\n",
       "    }\n",
       "</style>\n",
       "<table border=\"1\" class=\"dataframe\">\n",
       "  <thead>\n",
       "    <tr style=\"text-align: right;\">\n",
       "      <th></th>\n",
       "      <th>City</th>\n",
       "      <th>Lat</th>\n",
       "      <th>Lon</th>\n",
       "      <th>Airport Name</th>\n",
       "      <th>IATA Name</th>\n",
       "      <th>Airport Address</th>\n",
       "      <th>Distance</th>\n",
       "      <th>Website</th>\n",
       "    </tr>\n",
       "  </thead>\n",
       "  <tbody>\n",
       "    <tr>\n",
       "      <th>0</th>\n",
       "      <td>Sydney</td>\n",
       "      <td>-33.869844</td>\n",
       "      <td>151.208285</td>\n",
       "      <td>Sydney (Kingsford Smith) Airport</td>\n",
       "      <td>SYD</td>\n",
       "      <td>McFall Street, Botany NSW 2019, Australia</td>\n",
       "      <td>6742</td>\n",
       "      <td>https://www.sydneyairport.com.au/</td>\n",
       "    </tr>\n",
       "    <tr>\n",
       "      <th>1</th>\n",
       "      <td>Melbourne</td>\n",
       "      <td>-37.814218</td>\n",
       "      <td>144.963161</td>\n",
       "      <td>Essendon Fields Airport</td>\n",
       "      <td>MEB</td>\n",
       "      <td>72 Hargrave Avenue, Essendon Fields VIC 3041, ...</td>\n",
       "      <td>9980</td>\n",
       "      <td>https://www.ef.com.au/</td>\n",
       "    </tr>\n",
       "    <tr>\n",
       "      <th>2</th>\n",
       "      <td>Perth</td>\n",
       "      <td>-31.955896</td>\n",
       "      <td>115.860580</td>\n",
       "      <td>Perth Airport</td>\n",
       "      <td>PER</td>\n",
       "      <td>Perth Airport WA 6104, Australia</td>\n",
       "      <td>8775</td>\n",
       "      <td>https://www.perthairport.com.au/</td>\n",
       "    </tr>\n",
       "    <tr>\n",
       "      <th>3</th>\n",
       "      <td>Cairns</td>\n",
       "      <td>-16.920666</td>\n",
       "      <td>145.772185</td>\n",
       "      <td>Cairns Airport</td>\n",
       "      <td>CNS</td>\n",
       "      <td>Caudron Avenue, Aeroglen QLD 4870, Australia</td>\n",
       "      <td>3461</td>\n",
       "      <td>NaN</td>\n",
       "    </tr>\n",
       "    <tr>\n",
       "      <th>4</th>\n",
       "      <td>Adelaide</td>\n",
       "      <td>-34.928181</td>\n",
       "      <td>138.599931</td>\n",
       "      <td>Adelaide Airport</td>\n",
       "      <td>ADL</td>\n",
       "      <td>Adelaide Airport SA 5950, Australia</td>\n",
       "      <td>4898</td>\n",
       "      <td>https://www.adelaideairport.com.au/</td>\n",
       "    </tr>\n",
       "    <tr>\n",
       "      <th>5</th>\n",
       "      <td>Gold Coast</td>\n",
       "      <td>-28.002373</td>\n",
       "      <td>153.414599</td>\n",
       "      <td>Gold Coast Airport</td>\n",
       "      <td>OOL</td>\n",
       "      <td>Golden Four Drive, Gold Coast City QLD 4225, A...</td>\n",
       "      <td>18807</td>\n",
       "      <td>https://www.goldcoastairport.com.au/</td>\n",
       "    </tr>\n",
       "    <tr>\n",
       "      <th>6</th>\n",
       "      <td>Townsville</td>\n",
       "      <td>-19.256939</td>\n",
       "      <td>146.823954</td>\n",
       "      <td>Townsville Airport</td>\n",
       "      <td>TSV</td>\n",
       "      <td>Sunderland Street, Garbutt QLD 4810, Australia</td>\n",
       "      <td>4711</td>\n",
       "      <td>https://www.townsvilleairport.com.au/</td>\n",
       "    </tr>\n",
       "    <tr>\n",
       "      <th>7</th>\n",
       "      <td>Williamtown</td>\n",
       "      <td>-32.815000</td>\n",
       "      <td>151.842778</td>\n",
       "      <td>Newcastle Airport</td>\n",
       "      <td>NTL</td>\n",
       "      <td>55 Slades Road, Williamtown NSW 2318, Australia</td>\n",
       "      <td>620</td>\n",
       "      <td>https://www.newcastleairport.com.au</td>\n",
       "    </tr>\n",
       "  </tbody>\n",
       "</table>\n",
       "</div>"
      ],
      "text/plain": [
       "          City        Lat         Lon                      Airport Name  \\\n",
       "0       Sydney -33.869844  151.208285  Sydney (Kingsford Smith) Airport   \n",
       "1    Melbourne -37.814218  144.963161           Essendon Fields Airport   \n",
       "2        Perth -31.955896  115.860580                     Perth Airport   \n",
       "3       Cairns -16.920666  145.772185                    Cairns Airport   \n",
       "4     Adelaide -34.928181  138.599931                  Adelaide Airport   \n",
       "5   Gold Coast -28.002373  153.414599                Gold Coast Airport   \n",
       "6   Townsville -19.256939  146.823954                Townsville Airport   \n",
       "7  Williamtown -32.815000  151.842778                 Newcastle Airport   \n",
       "\n",
       "  IATA Name                                    Airport Address  Distance  \\\n",
       "0       SYD          McFall Street, Botany NSW 2019, Australia      6742   \n",
       "1       MEB  72 Hargrave Avenue, Essendon Fields VIC 3041, ...      9980   \n",
       "2       PER                   Perth Airport WA 6104, Australia      8775   \n",
       "3       CNS       Caudron Avenue, Aeroglen QLD 4870, Australia      3461   \n",
       "4       ADL                Adelaide Airport SA 5950, Australia      4898   \n",
       "5       OOL  Golden Four Drive, Gold Coast City QLD 4225, A...     18807   \n",
       "6       TSV     Sunderland Street, Garbutt QLD 4810, Australia      4711   \n",
       "7       NTL    55 Slades Road, Williamtown NSW 2318, Australia       620   \n",
       "\n",
       "                                 Website  \n",
       "0      https://www.sydneyairport.com.au/  \n",
       "1                 https://www.ef.com.au/  \n",
       "2       https://www.perthairport.com.au/  \n",
       "3                                    NaN  \n",
       "4    https://www.adelaideairport.com.au/  \n",
       "5   https://www.goldcoastairport.com.au/  \n",
       "6  https://www.townsvilleairport.com.au/  \n",
       "7    https://www.newcastleairport.com.au  "
      ]
     },
     "execution_count": 6,
     "metadata": {},
     "output_type": "execute_result"
    }
   ],
   "source": [
    "# Create airport dataframe\n",
    "airports_df = pd.read_csv('../Resources/Airport_Output.csv')\n",
    "\n",
    "# Display sample data\n",
    "airports_df"
   ]
  },
  {
   "cell_type": "markdown",
   "metadata": {},
   "source": [
    "## 2. Create a simple map using GeoViews by adding a point per airport and setting a fixed size at your convenience"
   ]
  },
  {
   "cell_type": "code",
   "execution_count": 7,
   "metadata": {},
   "outputs": [
    {
     "data": {},
     "metadata": {},
     "output_type": "display_data"
    },
    {
     "data": {
      "application/vnd.holoviews_exec.v0+json": "",
      "text/html": [
       "<div id='1131'>\n",
       "  <div class=\"bk-root\" id=\"a246a0ee-1565-4408-b1b7-2995b81e4ed8\" data-root-id=\"1131\"></div>\n",
       "</div>\n",
       "<script type=\"application/javascript\">(function(root) {\n",
       "  function embed_document(root) {\n",
       "    var docs_json = {\"468f1af4-56f5-4ba7-ae50-04eadbccd608\":{\"defs\":[{\"extends\":null,\"module\":null,\"name\":\"ReactiveHTML1\",\"overrides\":[],\"properties\":[]},{\"extends\":null,\"module\":null,\"name\":\"FlexBox1\",\"overrides\":[],\"properties\":[{\"default\":\"flex-start\",\"kind\":null,\"name\":\"align_content\"},{\"default\":\"flex-start\",\"kind\":null,\"name\":\"align_items\"},{\"default\":\"row\",\"kind\":null,\"name\":\"flex_direction\"},{\"default\":\"wrap\",\"kind\":null,\"name\":\"flex_wrap\"},{\"default\":\"flex-start\",\"kind\":null,\"name\":\"justify_content\"}]},{\"extends\":null,\"module\":null,\"name\":\"GridStack1\",\"overrides\":[],\"properties\":[{\"default\":\"warn\",\"kind\":null,\"name\":\"mode\"},{\"default\":null,\"kind\":null,\"name\":\"ncols\"},{\"default\":null,\"kind\":null,\"name\":\"nrows\"},{\"default\":true,\"kind\":null,\"name\":\"allow_resize\"},{\"default\":true,\"kind\":null,\"name\":\"allow_drag\"},{\"default\":[],\"kind\":null,\"name\":\"state\"}]},{\"extends\":null,\"module\":null,\"name\":\"click1\",\"overrides\":[],\"properties\":[{\"default\":\"\",\"kind\":null,\"name\":\"terminal_output\"},{\"default\":\"\",\"kind\":null,\"name\":\"debug_name\"},{\"default\":0,\"kind\":null,\"name\":\"clears\"}]},{\"extends\":null,\"module\":null,\"name\":\"NotificationAreaBase1\",\"overrides\":[],\"properties\":[{\"default\":\"bottom-right\",\"kind\":null,\"name\":\"position\"},{\"default\":0,\"kind\":null,\"name\":\"_clear\"}]},{\"extends\":null,\"module\":null,\"name\":\"NotificationArea1\",\"overrides\":[],\"properties\":[{\"default\":[],\"kind\":null,\"name\":\"notifications\"},{\"default\":\"bottom-right\",\"kind\":null,\"name\":\"position\"},{\"default\":0,\"kind\":null,\"name\":\"_clear\"},{\"default\":[{\"background\":\"#ffc107\",\"icon\":{\"className\":\"fas fa-exclamation-triangle\",\"color\":\"white\",\"tagName\":\"i\"},\"type\":\"warning\"},{\"background\":\"#007bff\",\"icon\":{\"className\":\"fas fa-info-circle\",\"color\":\"white\",\"tagName\":\"i\"},\"type\":\"info\"}],\"kind\":null,\"name\":\"types\"}]},{\"extends\":null,\"module\":null,\"name\":\"Notification\",\"overrides\":[],\"properties\":[{\"default\":null,\"kind\":null,\"name\":\"background\"},{\"default\":3000,\"kind\":null,\"name\":\"duration\"},{\"default\":null,\"kind\":null,\"name\":\"icon\"},{\"default\":\"\",\"kind\":null,\"name\":\"message\"},{\"default\":null,\"kind\":null,\"name\":\"notification_type\"},{\"default\":false,\"kind\":null,\"name\":\"_destroyed\"}]},{\"extends\":null,\"module\":null,\"name\":\"TemplateActions1\",\"overrides\":[],\"properties\":[{\"default\":0,\"kind\":null,\"name\":\"open_modal\"},{\"default\":0,\"kind\":null,\"name\":\"close_modal\"}]},{\"extends\":null,\"module\":null,\"name\":\"MaterialTemplateActions1\",\"overrides\":[],\"properties\":[{\"default\":0,\"kind\":null,\"name\":\"open_modal\"},{\"default\":0,\"kind\":null,\"name\":\"close_modal\"}]}],\"roots\":{\"references\":[{\"attributes\":{},\"id\":\"1160\",\"type\":\"SaveTool\"},{\"attributes\":{\"callback\":null,\"formatters\":{\"$x\":{\"id\":\"1214\"},\"$y\":{\"id\":\"1215\"}},\"renderers\":[{\"id\":\"1212\"}],\"tags\":[\"hv_created\"],\"tooltips\":[[\"Lon\",\"$x{custom}\"],[\"Lat\",\"$y{custom}\"]]},\"id\":\"1140\",\"type\":\"HoverTool\"},{\"attributes\":{},\"id\":\"1188\",\"type\":\"AllLabels\"},{\"attributes\":{\"dimension\":\"lat\"},\"id\":\"1177\",\"type\":\"MercatorTicker\"},{\"attributes\":{\"dimension\":\"lon\"},\"id\":\"1175\",\"type\":\"MercatorTicker\"},{\"attributes\":{\"axis\":{\"id\":\"1152\"},\"coordinates\":null,\"grid_line_color\":null,\"group\":null,\"ticker\":null},\"id\":\"1155\",\"type\":\"Grid\"},{\"attributes\":{\"below\":[{\"id\":\"1152\"}],\"center\":[{\"id\":\"1155\"},{\"id\":\"1159\"}],\"frame_height\":600,\"frame_width\":800,\"height\":null,\"left\":[{\"id\":\"1156\"}],\"margin\":[5,5,5,5],\"match_aspect\":true,\"min_border_bottom\":10,\"min_border_left\":10,\"min_border_right\":10,\"min_border_top\":10,\"renderers\":[{\"id\":\"1204\"},{\"id\":\"1212\"}],\"sizing_mode\":\"fixed\",\"title\":{\"id\":\"1144\"},\"toolbar\":{\"id\":\"1166\"},\"width\":null,\"x_range\":{\"id\":\"1136\"},\"x_scale\":{\"id\":\"1148\"},\"y_range\":{\"id\":\"1137\"},\"y_scale\":{\"id\":\"1150\"}},\"id\":\"1143\",\"subtype\":\"Figure\",\"type\":\"Plot\"},{\"attributes\":{\"active_drag\":{\"id\":\"1161\"},\"active_scroll\":{\"id\":\"1162\"},\"tools\":[{\"id\":\"1140\"},{\"id\":\"1160\"},{\"id\":\"1161\"},{\"id\":\"1162\"},{\"id\":\"1163\"},{\"id\":\"1164\"}]},\"id\":\"1166\",\"type\":\"Toolbar\"},{\"attributes\":{\"code\":\"\\n        var projections = Bokeh.require(\\\"core/util/projections\\\");\\n        var x = special_vars.data_x\\n        var y = special_vars.data_y\\n        var coords = projections.wgs84_mercator.invert(x, y)\\n        return \\\"\\\" + (coords[1]).toFixed(4)\\n    \"},\"id\":\"1215\",\"type\":\"CustomJSHover\"},{\"attributes\":{\"fill_alpha\":{\"value\":0.2},\"fill_color\":{\"value\":\"#30a2da\"},\"hatch_alpha\":{\"value\":0.2},\"hatch_color\":{\"value\":\"#30a2da\"},\"line_alpha\":{\"value\":0.2},\"line_color\":{\"value\":\"#30a2da\"},\"size\":{\"value\":5.477225575051661},\"x\":{\"field\":\"Lon\"},\"y\":{\"field\":\"Lat\"}},\"id\":\"1211\",\"type\":\"Scatter\"},{\"attributes\":{},\"id\":\"1181\",\"type\":\"AllLabels\"},{\"attributes\":{\"axis_label\":\"x\",\"coordinates\":null,\"formatter\":{\"id\":\"1176\"},\"group\":null,\"major_label_policy\":{\"id\":\"1181\"},\"ticker\":{\"id\":\"1175\"}},\"id\":\"1152\",\"type\":\"LinearAxis\"},{\"attributes\":{\"end\":-1429565.020600487,\"min_interval\":5,\"reset_end\":-1429565.020600487,\"reset_start\":-5035241.100045958,\"start\":-5035241.100045958,\"tags\":[[[\"Lat\",\"Lat\",null]]]},\"id\":\"1137\",\"type\":\"Range1d\"},{\"attributes\":{\"coordinates\":null,\"group\":null,\"text_color\":\"black\",\"text_font_size\":\"12pt\"},\"id\":\"1144\",\"type\":\"Title\"},{\"attributes\":{\"bottom_units\":\"screen\",\"coordinates\":null,\"fill_alpha\":0.5,\"fill_color\":\"lightgrey\",\"group\":null,\"left_units\":\"screen\",\"level\":\"overlay\",\"line_alpha\":1.0,\"line_color\":\"black\",\"line_dash\":[4,4],\"line_width\":2,\"right_units\":\"screen\",\"syncable\":false,\"top_units\":\"screen\"},\"id\":\"1165\",\"type\":\"BoxAnnotation\"},{\"attributes\":{},\"id\":\"1148\",\"type\":\"LinearScale\"},{\"attributes\":{},\"id\":\"1161\",\"type\":\"PanTool\"},{\"attributes\":{},\"id\":\"1150\",\"type\":\"LinearScale\"},{\"attributes\":{\"fill_color\":{\"value\":\"#30a2da\"},\"hatch_color\":{\"value\":\"#30a2da\"},\"line_color\":{\"value\":\"#30a2da\"},\"size\":{\"value\":5.477225575051661},\"x\":{\"field\":\"Lon\"},\"y\":{\"field\":\"Lat\"}},\"id\":\"1209\",\"type\":\"Scatter\"},{\"attributes\":{\"match_aspect\":true,\"overlay\":{\"id\":\"1165\"}},\"id\":\"1163\",\"type\":\"BoxZoomTool\"},{\"attributes\":{},\"id\":\"1164\",\"type\":\"ResetTool\"},{\"attributes\":{\"angle\":{\"value\":0.0},\"fill_alpha\":{\"value\":1.0},\"fill_color\":{\"value\":\"#30a2da\"},\"hatch_alpha\":{\"value\":1.0},\"hatch_color\":{\"value\":\"#30a2da\"},\"hatch_scale\":{\"value\":12.0},\"hatch_weight\":{\"value\":1.0},\"line_alpha\":{\"value\":1.0},\"line_cap\":{\"value\":\"butt\"},\"line_color\":{\"value\":\"#30a2da\"},\"line_dash\":{\"value\":[]},\"line_dash_offset\":{\"value\":0},\"line_join\":{\"value\":\"bevel\"},\"line_width\":{\"value\":1},\"marker\":{\"value\":\"circle\"},\"size\":{\"value\":5.477225575051661},\"x\":{\"field\":\"Lon\"},\"y\":{\"field\":\"Lat\"}},\"id\":\"1216\",\"type\":\"Scatter\"},{\"attributes\":{\"coordinates\":null,\"data_source\":{\"id\":\"1206\"},\"glyph\":{\"id\":\"1209\"},\"group\":null,\"hover_glyph\":null,\"muted_glyph\":{\"id\":\"1211\"},\"nonselection_glyph\":{\"id\":\"1210\"},\"selection_glyph\":{\"id\":\"1216\"},\"view\":{\"id\":\"1213\"}},\"id\":\"1212\",\"type\":\"GlyphRenderer\"},{\"attributes\":{\"dimension\":\"lon\"},\"id\":\"1176\",\"type\":\"MercatorTickFormatter\"},{\"attributes\":{\"code\":\"\\n        var projections = Bokeh.require(\\\"core/util/projections\\\");\\n        var x = special_vars.data_x\\n        var y = special_vars.data_y\\n        var coords = projections.wgs84_mercator.invert(x, y)\\n        return \\\"\\\" + (coords[0]).toFixed(4)\\n    \"},\"id\":\"1214\",\"type\":\"CustomJSHover\"},{\"attributes\":{},\"id\":\"1224\",\"type\":\"UnionRenderers\"},{\"attributes\":{\"fill_alpha\":{\"value\":0.1},\"fill_color\":{\"value\":\"#30a2da\"},\"hatch_alpha\":{\"value\":0.1},\"hatch_color\":{\"value\":\"#30a2da\"},\"line_alpha\":{\"value\":0.1},\"line_color\":{\"value\":\"#30a2da\"},\"size\":{\"value\":5.477225575051661},\"x\":{\"field\":\"Lon\"},\"y\":{\"field\":\"Lat\"}},\"id\":\"1210\",\"type\":\"Scatter\"},{\"attributes\":{\"dimension\":\"lat\"},\"id\":\"1178\",\"type\":\"MercatorTickFormatter\"},{\"attributes\":{\"attribution\":\"&copy; <a href=\\\"https://www.openstreetmap.org/copyright\\\">OpenStreetMap</a> contributors\",\"url\":\"https://c.tile.openstreetmap.org/{Z}/{X}/{Y}.png\"},\"id\":\"1201\",\"type\":\"WMTSTileSource\"},{\"attributes\":{\"coordinates\":null,\"group\":null,\"level\":\"glyph\",\"tile_source\":{\"id\":\"1201\"}},\"id\":\"1204\",\"type\":\"TileRenderer\"},{\"attributes\":{\"data\":{\"Lat\":{\"__ndarray__\":\"dAAjTaWaTsExx3SIf15RwQ3ZJ17pqkzBF7ZYAygrPcH+VjG4hrFPwQisR348ykjBRW/Y5/yrQMHb9aX8GohNwQ==\",\"dtype\":\"float64\",\"order\":\"little\",\"shape\":[8]},\"Lon\":{\"__ndarray__\":\"OVZI1HoNcEHsK88ngcduQX2s85igmWhBX+lqrnrzbkEaP3w4oW1tQargHjBxSXBB03Fj+KUsb0F4CklLuR5wQQ==\",\"dtype\":\"float64\",\"order\":\"little\",\"shape\":[8]}},\"selected\":{\"id\":\"1207\"},\"selection_policy\":{\"id\":\"1224\"}},\"id\":\"1206\",\"type\":\"ColumnDataSource\"},{\"attributes\":{\"source\":{\"id\":\"1206\"}},\"id\":\"1213\",\"type\":\"CDSView\"},{\"attributes\":{\"zoom_on_axis\":false},\"id\":\"1162\",\"type\":\"WheelZoomTool\"},{\"attributes\":{},\"id\":\"1207\",\"type\":\"Selection\"},{\"attributes\":{\"children\":[{\"id\":\"1143\"}],\"margin\":[0,0,0,0],\"name\":\"Row01656\",\"sizing_mode\":\"fixed\",\"tags\":[\"embedded\"]},\"id\":\"1131\",\"type\":\"Row\"},{\"attributes\":{\"end\":17391571.946605556,\"min_interval\":5,\"reset_end\":17391571.946605556,\"reset_start\":12584003.840678262,\"start\":12584003.840678262,\"tags\":[[[\"Lon\",\"Lon\",null]]]},\"id\":\"1136\",\"type\":\"Range1d\"},{\"attributes\":{\"axis_label\":\"y\",\"coordinates\":null,\"formatter\":{\"id\":\"1178\"},\"group\":null,\"major_label_policy\":{\"id\":\"1188\"},\"ticker\":{\"id\":\"1177\"}},\"id\":\"1156\",\"type\":\"LinearAxis\"},{\"attributes\":{\"axis\":{\"id\":\"1156\"},\"coordinates\":null,\"dimension\":1,\"grid_line_color\":null,\"group\":null,\"ticker\":null},\"id\":\"1159\",\"type\":\"Grid\"}],\"root_ids\":[\"1131\"]},\"title\":\"Bokeh Application\",\"version\":\"2.4.3\"}};\n",
       "    var render_items = [{\"docid\":\"468f1af4-56f5-4ba7-ae50-04eadbccd608\",\"root_ids\":[\"1131\"],\"roots\":{\"1131\":\"a246a0ee-1565-4408-b1b7-2995b81e4ed8\"}}];\n",
       "    root.Bokeh.embed.embed_items_notebook(docs_json, render_items);\n",
       "    for (const render_item of render_items) {\n",
       "      for (const root_id of render_item.root_ids) {\n",
       "\tconst id_el = document.getElementById(root_id)\n",
       "\tif (id_el.children.length && (id_el.children[0].className === 'bk-root')) {\n",
       "\t  const root_el = id_el.children[0]\n",
       "\t  root_el.id = root_el.id + '-rendered'\n",
       "\t}\n",
       "      }\n",
       "    }\n",
       "  }\n",
       "  if (root.Bokeh !== undefined && root.Bokeh.Panel !== undefined) {\n",
       "    embed_document(root);\n",
       "  } else {\n",
       "    var attempts = 0;\n",
       "    var timer = setInterval(function(root) {\n",
       "      if (root.Bokeh !== undefined && root.Bokeh.Panel !== undefined) {\n",
       "        clearInterval(timer);\n",
       "        embed_document(root);\n",
       "      } else if (document.readyState == \"complete\") {\n",
       "        attempts++;\n",
       "        if (attempts > 200) {\n",
       "          clearInterval(timer);\n",
       "          console.log(\"Bokeh: ERROR: Unable to run BokehJS code because BokehJS library is missing\");\n",
       "        }\n",
       "      }\n",
       "    }, 25, root)\n",
       "  }\n",
       "})(window);</script>"
      ],
      "text/plain": [
       ":Overlay\n",
       "   .Tiles.I  :Tiles   [x,y]\n",
       "   .Points.I :Points   [Lon,Lat]"
      ]
     },
     "execution_count": 7,
     "metadata": {
      "application/vnd.holoviews_exec.v0+json": {
       "id": "1131"
      }
     },
     "output_type": "execute_result"
    }
   ],
   "source": [
    "# Configure the map\n",
    "map_plot_1 = airports_df.hvplot.points(\n",
    "    \"Lon\",\n",
    "    \"Lat\",\n",
    "    geo = True,\n",
    "    tiles = \"OSM\",\n",
    "    frame_width = 800,\n",
    "    frame_height = 600    \n",
    ")\n",
    "\n",
    "# Display the map plot\n",
    "map_plot_1\n"
   ]
  },
  {
   "cell_type": "markdown",
   "metadata": {},
   "source": [
    "## 3. Use GeoViews to create a custom map by setting values for color, size, and a title different than OSM.\n",
    "\n",
    "  > **Hint:** From the column values, you should decide what columns can be used to set a different color and size for each city."
   ]
  },
  {
   "cell_type": "code",
   "execution_count": 4,
   "metadata": {},
   "outputs": [
    {
     "data": {},
     "metadata": {},
     "output_type": "display_data"
    },
    {
     "data": {
      "application/vnd.holoviews_exec.v0+json": "",
      "text/html": [
       "<div id='1129'>\n",
       "  <div class=\"bk-root\" id=\"45ee183d-c418-4778-9e2c-383d5e71d0e7\" data-root-id=\"1129\"></div>\n",
       "</div>\n",
       "<script type=\"application/javascript\">(function(root) {\n",
       "  function embed_document(root) {\n",
       "    var docs_json = {\"bcff7e99-060f-40c6-8d1c-e133dba75e51\":{\"defs\":[{\"extends\":null,\"module\":null,\"name\":\"ReactiveHTML1\",\"overrides\":[],\"properties\":[]},{\"extends\":null,\"module\":null,\"name\":\"FlexBox1\",\"overrides\":[],\"properties\":[{\"default\":\"flex-start\",\"kind\":null,\"name\":\"align_content\"},{\"default\":\"flex-start\",\"kind\":null,\"name\":\"align_items\"},{\"default\":\"row\",\"kind\":null,\"name\":\"flex_direction\"},{\"default\":\"wrap\",\"kind\":null,\"name\":\"flex_wrap\"},{\"default\":\"flex-start\",\"kind\":null,\"name\":\"justify_content\"}]},{\"extends\":null,\"module\":null,\"name\":\"GridStack1\",\"overrides\":[],\"properties\":[{\"default\":\"warn\",\"kind\":null,\"name\":\"mode\"},{\"default\":null,\"kind\":null,\"name\":\"ncols\"},{\"default\":null,\"kind\":null,\"name\":\"nrows\"},{\"default\":true,\"kind\":null,\"name\":\"allow_resize\"},{\"default\":true,\"kind\":null,\"name\":\"allow_drag\"},{\"default\":[],\"kind\":null,\"name\":\"state\"}]},{\"extends\":null,\"module\":null,\"name\":\"click1\",\"overrides\":[],\"properties\":[{\"default\":\"\",\"kind\":null,\"name\":\"terminal_output\"},{\"default\":\"\",\"kind\":null,\"name\":\"debug_name\"},{\"default\":0,\"kind\":null,\"name\":\"clears\"}]},{\"extends\":null,\"module\":null,\"name\":\"NotificationAreaBase1\",\"overrides\":[],\"properties\":[{\"default\":\"bottom-right\",\"kind\":null,\"name\":\"position\"},{\"default\":0,\"kind\":null,\"name\":\"_clear\"}]},{\"extends\":null,\"module\":null,\"name\":\"NotificationArea1\",\"overrides\":[],\"properties\":[{\"default\":[],\"kind\":null,\"name\":\"notifications\"},{\"default\":\"bottom-right\",\"kind\":null,\"name\":\"position\"},{\"default\":0,\"kind\":null,\"name\":\"_clear\"},{\"default\":[{\"background\":\"#ffc107\",\"icon\":{\"className\":\"fas fa-exclamation-triangle\",\"color\":\"white\",\"tagName\":\"i\"},\"type\":\"warning\"},{\"background\":\"#007bff\",\"icon\":{\"className\":\"fas fa-info-circle\",\"color\":\"white\",\"tagName\":\"i\"},\"type\":\"info\"}],\"kind\":null,\"name\":\"types\"}]},{\"extends\":null,\"module\":null,\"name\":\"Notification\",\"overrides\":[],\"properties\":[{\"default\":null,\"kind\":null,\"name\":\"background\"},{\"default\":3000,\"kind\":null,\"name\":\"duration\"},{\"default\":null,\"kind\":null,\"name\":\"icon\"},{\"default\":\"\",\"kind\":null,\"name\":\"message\"},{\"default\":null,\"kind\":null,\"name\":\"notification_type\"},{\"default\":false,\"kind\":null,\"name\":\"_destroyed\"}]},{\"extends\":null,\"module\":null,\"name\":\"TemplateActions1\",\"overrides\":[],\"properties\":[{\"default\":0,\"kind\":null,\"name\":\"open_modal\"},{\"default\":0,\"kind\":null,\"name\":\"close_modal\"}]},{\"extends\":null,\"module\":null,\"name\":\"MaterialTemplateActions1\",\"overrides\":[],\"properties\":[{\"default\":0,\"kind\":null,\"name\":\"open_modal\"},{\"default\":0,\"kind\":null,\"name\":\"close_modal\"}]}],\"roots\":{\"references\":[{\"attributes\":{\"coordinates\":null,\"data_source\":{\"id\":\"1206\"},\"glyph\":{\"id\":\"1209\"},\"group\":null,\"hover_glyph\":{\"id\":\"1212\"},\"muted_glyph\":{\"id\":\"1213\"},\"nonselection_glyph\":{\"id\":\"1210\"},\"selection_glyph\":{\"id\":\"1211\"},\"view\":{\"id\":\"1215\"}},\"id\":\"1214\",\"type\":\"GlyphRenderer\"},{\"attributes\":{},\"id\":\"1159\",\"type\":\"SaveTool\"},{\"attributes\":{\"match_aspect\":true,\"overlay\":{\"id\":\"1164\"}},\"id\":\"1162\",\"type\":\"BoxZoomTool\"},{\"attributes\":{\"click_policy\":\"mute\",\"coordinates\":null,\"group\":null,\"items\":[{\"id\":\"1223\"}],\"location\":[0,0]},\"id\":\"1222\",\"type\":\"Legend\"},{\"attributes\":{},\"id\":\"1163\",\"type\":\"ResetTool\"},{\"attributes\":{\"data\":{\"City\":[\"Sydney\",\"Melbourne\",\"Perth\",\"Cairns\",\"Adelaide\",\"Gold Coast\",\"Townsville\",\"Williamtown\"],\"Distance\":[6742,9980,8775,3461,4898,18807,4711,620],\"Lat\":{\"__ndarray__\":\"dAAjTaWaTsExx3SIf15RwQ3ZJ17pqkzBFrZYAygrPcH+VjG4hrFPwQisR348ykjBRW/Y5/yrQMHb9aX8GohNwQ==\",\"dtype\":\"float64\",\"order\":\"little\",\"shape\":[8]},\"Lon\":{\"__ndarray__\":\"OVZI1HoNcEHsK88ngcduQX2s85igmWhBX+lqrnrzbkEaP3w4oW1tQargHjBxSXBB03Fj+KUsb0F4CklLuR5wQQ==\",\"dtype\":\"float64\",\"order\":\"little\",\"shape\":[8]},\"color\":[\"Sydney\",\"Melbourne\",\"Perth\",\"Cairns\",\"Adelaide\",\"Gold Coast\",\"Townsville\",\"Williamtown\"],\"size\":{\"__ndarray__\":\"aYLDCgWHREAnwazHmPlIQFEmRbUya0dAsG3rGUZqPUB9i0HrFX9BQIF61YpvJFFAhGqkGcAoQUC4sHc9WeYoQA==\",\"dtype\":\"float64\",\"order\":\"little\",\"shape\":[8]}},\"selected\":{\"id\":\"1207\"},\"selection_policy\":{\"id\":\"1219\"}},\"id\":\"1206\",\"type\":\"ColumnDataSource\"},{\"attributes\":{\"factors\":[\"Sydney\",\"Melbourne\",\"Perth\",\"Cairns\",\"Adelaide\",\"Gold Coast\",\"Townsville\",\"Williamtown\"],\"palette\":[\"#1f77b3\",\"#ff7e0e\",\"#2ba02b\",\"#d62628\",\"#9367bc\",\"#8c564b\",\"#e277c1\",\"#7e7e7e\"]},\"id\":\"1205\",\"type\":\"CategoricalColorMapper\"},{\"attributes\":{\"bottom_units\":\"screen\",\"coordinates\":null,\"fill_alpha\":0.5,\"fill_color\":\"lightgrey\",\"group\":null,\"left_units\":\"screen\",\"level\":\"overlay\",\"line_alpha\":1.0,\"line_color\":\"black\",\"line_dash\":[4,4],\"line_width\":2,\"right_units\":\"screen\",\"syncable\":false,\"top_units\":\"screen\"},\"id\":\"1164\",\"type\":\"BoxAnnotation\"},{\"attributes\":{\"fill_color\":{\"field\":\"color\",\"transform\":{\"id\":\"1205\"}},\"hatch_color\":{\"field\":\"color\",\"transform\":{\"id\":\"1205\"}},\"line_color\":{\"field\":\"color\",\"transform\":{\"id\":\"1205\"}},\"size\":{\"field\":\"size\"},\"x\":{\"field\":\"Lon\"},\"y\":{\"field\":\"Lat\"}},\"id\":\"1212\",\"type\":\"Scatter\"},{\"attributes\":{\"callback\":null,\"formatters\":{\"$x\":{\"id\":\"1224\"},\"$y\":{\"id\":\"1225\"}},\"renderers\":[{\"id\":\"1214\"}],\"tags\":[\"hv_created\"],\"tooltips\":[[\"Lon\",\"$x{custom}\"],[\"Lat\",\"$y{custom}\"],[\"City\",\"@{City}\"],[\"Distance\",\"@{Distance}\"]]},\"id\":\"1139\",\"type\":\"HoverTool\"},{\"attributes\":{\"tools\":[{\"id\":\"1139\"},{\"id\":\"1159\"},{\"id\":\"1160\"},{\"id\":\"1161\"},{\"id\":\"1162\"},{\"id\":\"1163\"}]},\"id\":\"1165\",\"type\":\"Toolbar\"},{\"attributes\":{\"fill_alpha\":{\"value\":0.1},\"fill_color\":{\"field\":\"color\",\"transform\":{\"id\":\"1205\"}},\"hatch_alpha\":{\"value\":0.1},\"hatch_color\":{\"field\":\"color\",\"transform\":{\"id\":\"1205\"}},\"line_alpha\":{\"value\":0.1},\"line_color\":{\"field\":\"color\",\"transform\":{\"id\":\"1205\"}},\"size\":{\"field\":\"size\"},\"x\":{\"field\":\"Lon\"},\"y\":{\"field\":\"Lat\"}},\"id\":\"1210\",\"type\":\"Scatter\"},{\"attributes\":{\"coordinates\":null,\"group\":null,\"level\":\"glyph\",\"tile_source\":{\"id\":\"1200\"}},\"id\":\"1203\",\"type\":\"TileRenderer\"},{\"attributes\":{},\"id\":\"1149\",\"type\":\"LinearScale\"},{\"attributes\":{\"fill_alpha\":{\"value\":0.2},\"fill_color\":{\"field\":\"color\",\"transform\":{\"id\":\"1205\"}},\"hatch_alpha\":{\"value\":0.2},\"hatch_color\":{\"field\":\"color\",\"transform\":{\"id\":\"1205\"}},\"line_alpha\":{\"value\":0.2},\"line_color\":{\"field\":\"color\",\"transform\":{\"id\":\"1205\"}},\"size\":{\"field\":\"size\"},\"x\":{\"field\":\"Lon\"},\"y\":{\"field\":\"Lat\"}},\"id\":\"1213\",\"type\":\"Scatter\"},{\"attributes\":{\"margin\":[5,5,5,5],\"name\":\"HSpacer01666\",\"sizing_mode\":\"stretch_width\"},\"id\":\"1130\",\"type\":\"Spacer\"},{\"attributes\":{},\"id\":\"1219\",\"type\":\"UnionRenderers\"},{\"attributes\":{\"end\":17391571.946605556,\"min_interval\":5,\"reset_end\":17391571.946605556,\"reset_start\":12584003.840678262,\"start\":12584003.840678262,\"tags\":[[[\"Lon\",\"Lon\",null]]]},\"id\":\"1135\",\"type\":\"Range1d\"},{\"attributes\":{\"dimension\":\"lat\"},\"id\":\"1176\",\"type\":\"MercatorTicker\"},{\"attributes\":{\"dimension\":\"lon\"},\"id\":\"1175\",\"type\":\"MercatorTickFormatter\"},{\"attributes\":{},\"id\":\"1147\",\"type\":\"LinearScale\"},{\"attributes\":{\"dimension\":\"lon\"},\"id\":\"1174\",\"type\":\"MercatorTicker\"},{\"attributes\":{\"below\":[{\"id\":\"1151\"}],\"center\":[{\"id\":\"1154\"},{\"id\":\"1158\"}],\"frame_height\":600,\"frame_width\":800,\"height\":null,\"left\":[{\"id\":\"1155\"}],\"margin\":[5,5,5,5],\"match_aspect\":true,\"min_border_bottom\":10,\"min_border_left\":10,\"min_border_right\":10,\"min_border_top\":10,\"renderers\":[{\"id\":\"1203\"},{\"id\":\"1214\"}],\"right\":[{\"id\":\"1222\"}],\"sizing_mode\":\"fixed\",\"title\":{\"id\":\"1143\"},\"toolbar\":{\"id\":\"1165\"},\"width\":null,\"x_range\":{\"id\":\"1135\"},\"x_scale\":{\"id\":\"1147\"},\"y_range\":{\"id\":\"1136\"},\"y_scale\":{\"id\":\"1149\"}},\"id\":\"1142\",\"subtype\":\"Figure\",\"type\":\"Plot\"},{\"attributes\":{\"axis_label\":\"x\",\"coordinates\":null,\"formatter\":{\"id\":\"1175\"},\"group\":null,\"major_label_policy\":{\"id\":\"1180\"},\"ticker\":{\"id\":\"1174\"}},\"id\":\"1151\",\"type\":\"LinearAxis\"},{\"attributes\":{\"children\":[{\"id\":\"1130\"},{\"id\":\"1142\"},{\"id\":\"1232\"}],\"margin\":[0,0,0,0],\"name\":\"Row01662\",\"tags\":[\"embedded\"]},\"id\":\"1129\",\"type\":\"Row\"},{\"attributes\":{\"fill_color\":{\"field\":\"color\",\"transform\":{\"id\":\"1205\"}},\"hatch_color\":{\"field\":\"color\",\"transform\":{\"id\":\"1205\"}},\"line_color\":{\"field\":\"color\",\"transform\":{\"id\":\"1205\"}},\"size\":{\"field\":\"size\"},\"x\":{\"field\":\"Lon\"},\"y\":{\"field\":\"Lat\"}},\"id\":\"1209\",\"type\":\"Scatter\"},{\"attributes\":{},\"id\":\"1180\",\"type\":\"AllLabels\"},{\"attributes\":{},\"id\":\"1187\",\"type\":\"AllLabels\"},{\"attributes\":{\"coordinates\":null,\"group\":null,\"text_color\":\"black\",\"text_font_size\":\"12pt\"},\"id\":\"1143\",\"type\":\"Title\"},{\"attributes\":{\"axis\":{\"id\":\"1151\"},\"coordinates\":null,\"grid_line_color\":null,\"group\":null,\"ticker\":null},\"id\":\"1154\",\"type\":\"Grid\"},{\"attributes\":{\"fill_color\":{\"field\":\"color\",\"transform\":{\"id\":\"1205\"}},\"hatch_color\":{\"field\":\"color\",\"transform\":{\"id\":\"1205\"}},\"line_color\":{\"field\":\"color\",\"transform\":{\"id\":\"1205\"}},\"size\":{\"field\":\"size\"},\"x\":{\"field\":\"Lon\"},\"y\":{\"field\":\"Lat\"}},\"id\":\"1211\",\"type\":\"Scatter\"},{\"attributes\":{\"attribution\":\"&copy; <a href=\\\"http://downloads.esri.com/ArcGISOnline/docs/tou_summary.pdf\\\">Esri</a>, Earthstar Geographics\",\"url\":\"https://server.arcgisonline.com/ArcGIS/rest/services/World_Imagery/MapServer/tile/{Z}/{Y}/{X}.jpg\"},\"id\":\"1200\",\"type\":\"WMTSTileSource\"},{\"attributes\":{\"source\":{\"id\":\"1206\"}},\"id\":\"1215\",\"type\":\"CDSView\"},{\"attributes\":{},\"id\":\"1207\",\"type\":\"Selection\"},{\"attributes\":{\"code\":\"\\n        var projections = Bokeh.require(\\\"core/util/projections\\\");\\n        var x = special_vars.data_x\\n        var y = special_vars.data_y\\n        if (projections.wgs84_mercator.invert == null) {\\n          var coords = projections.wgs84_mercator.inverse([x, y])\\n        } else {\\n          var coords = projections.wgs84_mercator.invert(x, y)\\n        }\\n        return \\\"\\\" + (coords[0]).toFixed(4)\\n    \"},\"id\":\"1224\",\"type\":\"CustomJSHover\"},{\"attributes\":{\"dimension\":\"lat\"},\"id\":\"1177\",\"type\":\"MercatorTickFormatter\"},{\"attributes\":{\"label\":{\"field\":\"color\"},\"renderers\":[{\"id\":\"1214\"}]},\"id\":\"1223\",\"type\":\"LegendItem\"},{\"attributes\":{},\"id\":\"1160\",\"type\":\"PanTool\"},{\"attributes\":{\"axis_label\":\"y\",\"coordinates\":null,\"formatter\":{\"id\":\"1177\"},\"group\":null,\"major_label_policy\":{\"id\":\"1187\"},\"ticker\":{\"id\":\"1176\"}},\"id\":\"1155\",\"type\":\"LinearAxis\"},{\"attributes\":{\"axis\":{\"id\":\"1155\"},\"coordinates\":null,\"dimension\":1,\"grid_line_color\":null,\"group\":null,\"ticker\":null},\"id\":\"1158\",\"type\":\"Grid\"},{\"attributes\":{\"code\":\"\\n        var projections = Bokeh.require(\\\"core/util/projections\\\");\\n        var x = special_vars.data_x\\n        var y = special_vars.data_y\\n        if (projections.wgs84_mercator.invert == null) {\\n          var coords = projections.wgs84_mercator.inverse([x, y])\\n        } else {\\n          var coords = projections.wgs84_mercator.invert(x, y)\\n        }\\n        return \\\"\\\" + (coords[1]).toFixed(4)\\n    \"},\"id\":\"1225\",\"type\":\"CustomJSHover\"},{\"attributes\":{\"end\":-1429565.020600487,\"min_interval\":5,\"reset_end\":-1429565.020600487,\"reset_start\":-5035241.100045958,\"start\":-5035241.100045958,\"tags\":[[[\"Lat\",\"Lat\",null]]]},\"id\":\"1136\",\"type\":\"Range1d\"},{\"attributes\":{\"zoom_on_axis\":false},\"id\":\"1161\",\"type\":\"WheelZoomTool\"},{\"attributes\":{\"margin\":[5,5,5,5],\"name\":\"HSpacer01667\",\"sizing_mode\":\"stretch_width\"},\"id\":\"1232\",\"type\":\"Spacer\"}],\"root_ids\":[\"1129\"]},\"title\":\"Bokeh Application\",\"version\":\"2.4.3\"}};\n",
       "    var render_items = [{\"docid\":\"bcff7e99-060f-40c6-8d1c-e133dba75e51\",\"root_ids\":[\"1129\"],\"roots\":{\"1129\":\"45ee183d-c418-4778-9e2c-383d5e71d0e7\"}}];\n",
       "    root.Bokeh.embed.embed_items_notebook(docs_json, render_items);\n",
       "  }\n",
       "  if (root.Bokeh !== undefined && root.Bokeh.Panel !== undefined) {\n",
       "    embed_document(root);\n",
       "  } else {\n",
       "    var attempts = 0;\n",
       "    var timer = setInterval(function(root) {\n",
       "      if (root.Bokeh !== undefined && root.Bokeh.Panel !== undefined) {\n",
       "        clearInterval(timer);\n",
       "        embed_document(root);\n",
       "      } else if (document.readyState == \"complete\") {\n",
       "        attempts++;\n",
       "        if (attempts > 200) {\n",
       "          clearInterval(timer);\n",
       "          console.log(\"Bokeh: ERROR: Unable to run BokehJS code because BokehJS library is missing\");\n",
       "        }\n",
       "      }\n",
       "    }, 25, root)\n",
       "  }\n",
       "})(window);</script>"
      ],
      "text/plain": [
       ":Overlay\n",
       "   .Tiles.I  :Tiles   [x,y]\n",
       "   .Points.I :Points   [Lon,Lat]   (City,Distance)"
      ]
     },
     "execution_count": 4,
     "metadata": {
      "application/vnd.holoviews_exec.v0+json": {
       "id": "1129"
      }
     },
     "output_type": "execute_result"
    }
   ],
   "source": [
    "# Configure the map\n",
    "\n",
    "\n",
    "# Display the map plot\n"
   ]
  },
  {
   "cell_type": "code",
   "execution_count": null,
   "metadata": {},
   "outputs": [],
   "source": []
  }
 ],
 "metadata": {
  "kernelspec": {
   "display_name": "Python 3 (ipykernel)",
   "language": "python",
   "name": "python3"
  },
  "language_info": {
   "codemirror_mode": {
    "name": "ipython",
    "version": 3
   },
   "file_extension": ".py",
   "mimetype": "text/x-python",
   "name": "python",
   "nbconvert_exporter": "python",
   "pygments_lexer": "ipython3",
   "version": "3.10.10"
  },
  "latex_envs": {
   "LaTeX_envs_menu_present": true,
   "autoclose": false,
   "autocomplete": true,
   "bibliofile": "biblio.bib",
   "cite_by": "apalike",
   "current_citInitial": 1,
   "eqLabelWithNumbers": true,
   "eqNumInitial": 1,
   "hotkeys": {
    "equation": "Ctrl-E",
    "itemize": "Ctrl-I"
   },
   "labels_anchors": false,
   "latex_user_defs": false,
   "report_style_numbering": false,
   "user_envs_cfg": false
  }
 },
 "nbformat": 4,
 "nbformat_minor": 4
}
