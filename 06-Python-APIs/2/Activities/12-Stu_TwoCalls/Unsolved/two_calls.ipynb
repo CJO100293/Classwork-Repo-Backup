{
 "cells": [
  {
   "cell_type": "code",
   "execution_count": 2,
   "metadata": {},
   "outputs": [],
   "source": [
    "# Dependencies\n",
    "import requests\n",
    "\n",
    "url = \"http://api.worldbank.org/v2/\""
   ]
  },
  {
   "cell_type": "code",
   "execution_count": 4,
   "metadata": {},
   "outputs": [
    {
     "name": "stdout",
     "output_type": "stream",
     "text": [
      "http://api.worldbank.org/v2/lendingTypes?format=json\n"
     ]
    },
    {
     "data": {
      "text/plain": [
       "['IBD', 'IDB', 'IDX', 'LNX']"
      ]
     },
     "execution_count": 4,
     "metadata": {},
     "output_type": "execute_result"
    }
   ],
   "source": [
    "# Get the list of lending types the world bank has\n",
    "lending_response = requests.get(f\"{url}lendingTypes?format=json\").json()\n",
    "print(f\"{url}lendingTypes?format=json\")\n",
    "\n",
    "lending_types = [lending_type[\"id\"] for lending_type in lending_response[1]]\n",
    "lending_types"
   ]
  },
  {
   "cell_type": "code",
   "execution_count": 5,
   "metadata": {},
   "outputs": [
    {
     "name": "stdout",
     "output_type": "stream",
     "text": [
      "http://api.worldbank.org/v2/countries?lendingType=IBD&format=json\n"
     ]
    }
   ],
   "source": [
    "print(f\"{url}countries?lendingType=IBD&format=json\")"
   ]
  },
  {
   "cell_type": "code",
   "execution_count": 6,
   "metadata": {},
   "outputs": [
    {
     "data": {
      "text/plain": [
       "{'IBD': 140, 'IDB': 30, 'IDX': 118, 'LNX': 74}"
      ]
     },
     "execution_count": 6,
     "metadata": {},
     "output_type": "execute_result"
    }
   ],
   "source": [
    "# Next, determine how many countries fall into each lending type.\n",
    "# Hint: Look at the first element of the response array.\n",
    "country_count_by_type = {}\n",
    "\n",
    "for lending_type in lending_types:\n",
    "    query = f\"{url}countries?lendingType={lending_type}&format=json\"\n",
    "    response = requests.get(query).json()\n",
    "    country_count_by_type[lending_type] = response[0][\"total\"]\n",
    "    \n",
    "country_count_by_type"
   ]
  },
  {
   "cell_type": "code",
   "execution_count": 7,
   "metadata": {},
   "outputs": [
    {
     "name": "stdout",
     "output_type": "stream",
     "text": [
      "The number of countries with lending type IBD is 140.\n",
      "The number of countries with lending type IDB is 30.\n",
      "The number of countries with lending type IDX is 118.\n",
      "The number of countries with lending type LNX is 74.\n"
     ]
    }
   ],
   "source": [
    "# Print the number of countries of each lending type\n",
    "for key, value in country_count_by_type.items():\n",
    "    print(f\"The number of countries with lending type {key} is {value}.\")"
   ]
  }
 ],
 "metadata": {
  "kernelspec": {
   "display_name": "Python 3 (ipykernel)",
   "language": "python",
   "name": "python3"
  },
  "language_info": {
   "codemirror_mode": {
    "name": "ipython",
    "version": 3
   },
   "file_extension": ".py",
   "mimetype": "text/x-python",
   "name": "python",
   "nbconvert_exporter": "python",
   "pygments_lexer": "ipython3",
   "version": "3.10.10"
  },
  "varInspector": {
   "cols": {
    "lenName": 16,
    "lenType": 16,
    "lenVar": 40
   },
   "kernels_config": {
    "python": {
     "delete_cmd_postfix": "",
     "delete_cmd_prefix": "del ",
     "library": "var_list.py",
     "varRefreshCmd": "print(var_dic_list())"
    },
    "r": {
     "delete_cmd_postfix": ") ",
     "delete_cmd_prefix": "rm(",
     "library": "var_list.r",
     "varRefreshCmd": "cat(var_dic_list()) "
    }
   },
   "types_to_exclude": [
    "module",
    "function",
    "builtin_function_or_method",
    "instance",
    "_Feature"
   ],
   "window_display": false
  }
 },
 "nbformat": 4,
 "nbformat_minor": 2
}
