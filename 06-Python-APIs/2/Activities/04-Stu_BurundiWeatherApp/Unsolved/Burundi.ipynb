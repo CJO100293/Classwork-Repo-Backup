{
 "cells": [
  {
   "cell_type": "code",
   "execution_count": 1,
   "metadata": {},
   "outputs": [],
   "source": [
    "# Dependencies\n",
    "import requests\n",
    "from config import api_key\n",
    "\n",
    "# Save config information.\n",
    "url = \"http://api.openweathermap.org/data/2.5/weather?\"\n",
    "city = \"Bujumbura\"\n",
    "units = \"metric\""
   ]
  },
  {
   "cell_type": "code",
   "execution_count": 4,
   "metadata": {},
   "outputs": [
    {
     "data": {
      "text/plain": [
       "{'coord': {'lon': 29.3644, 'lat': -3.3822},\n",
       " 'weather': [{'id': 500,\n",
       "   'main': 'Rain',\n",
       "   'description': 'light rain',\n",
       "   'icon': '10n'}],\n",
       " 'base': 'stations',\n",
       " 'main': {'temp': 20.64,\n",
       "  'feels_like': 21.14,\n",
       "  'temp_min': 20.64,\n",
       "  'temp_max': 20.64,\n",
       "  'pressure': 1015,\n",
       "  'humidity': 91,\n",
       "  'sea_level': 1015,\n",
       "  'grnd_level': 925},\n",
       " 'visibility': 10000,\n",
       " 'wind': {'speed': 1.5, 'deg': 37, 'gust': 1.85},\n",
       " 'rain': {'1h': 0.47},\n",
       " 'clouds': {'all': 79},\n",
       " 'dt': 1683080793,\n",
       " 'sys': {'country': 'BI', 'sunrise': 1683086383, 'sunset': 1683129545},\n",
       " 'timezone': 7200,\n",
       " 'id': 425378,\n",
       " 'name': 'Bujumbura',\n",
       " 'cod': 200}"
      ]
     },
     "execution_count": 4,
     "metadata": {},
     "output_type": "execute_result"
    }
   ],
   "source": [
    "# Build query URL and request your results in Celsius\n",
    "query_url = f\"{url}appid={api_key}&q={city}&units={units}\"\n",
    "\n",
    "query_url\n",
    "\n",
    "# Get weather data\n",
    "weather_data = requests.get(query_url).json()\n",
    "weather_data"
   ]
  },
  {
   "cell_type": "code",
   "execution_count": 5,
   "metadata": {},
   "outputs": [
    {
     "data": {
      "text/plain": [
       "20.64"
      ]
     },
     "execution_count": 5,
     "metadata": {},
     "output_type": "execute_result"
    }
   ],
   "source": [
    "# Get temperature from JSON response\n",
    "weather_data['main']['temp']"
   ]
  },
  {
   "cell_type": "code",
   "execution_count": 6,
   "metadata": {},
   "outputs": [
    {
     "name": "stdout",
     "output_type": "stream",
     "text": [
      "The temperature in Bujumbura is 20.64 C.\n"
     ]
    }
   ],
   "source": [
    "# Report temperature\n",
    "print(f\"The temperature in Bujumbura is {weather_data['main']['temp']} C.\")"
   ]
  },
  {
   "cell_type": "code",
   "execution_count": 8,
   "metadata": {},
   "outputs": [
    {
     "name": "stdout",
     "output_type": "stream",
     "text": [
      "metric: http://api.openweathermap.org/data/2.5/weather?appid=1ac2311cb01e3849e1b2e0994124bd8a&q=Bujumbura&units=metric\n",
      "Temp: 20.64\n",
      "imperial: http://api.openweathermap.org/data/2.5/weather?appid=1ac2311cb01e3849e1b2e0994124bd8a&q=Bujumbura&units=imperial\n",
      "Temp: 69.03\n"
     ]
    },
    {
     "data": {
      "text/plain": [
       "[20.64, 69.03]"
      ]
     },
     "execution_count": 8,
     "metadata": {},
     "output_type": "execute_result"
    }
   ],
   "source": [
    "# BONUS\n",
    "\n",
    "# use list of units\n",
    "units = [\"metric\", \"imperial\"]\n",
    "\n",
    "\n",
    "# set up list to hold two different temperatures\n",
    "temp_list = []\n",
    "\n",
    "# loop through the list of units and append them to temperatures list\n",
    "for unit in units:\n",
    "\n",
    "    # Build query URL based on current element in units\n",
    "    query_url = f\"{url}appid={api_key}&q={city}&units={unit}\"\n",
    "    print(f\"{unit}: {query_url}\")\n",
    "\n",
    "    # Get weather data\n",
    "    weather_data = requests.get(query_url).json()\n",
    "\n",
    "    # Get temperature from JSON response\n",
    "    print(f\"Temp: {weather_data['main']['temp']}\")\n",
    "    temp_list.append(weather_data['main']['temp'])\n",
    "\n",
    "\n",
    "\n",
    "# Report temperatures by accessing each element in the list\n",
    "temp_list"
   ]
  }
 ],
 "metadata": {
  "kernelspec": {
   "display_name": "Python 3 (ipykernel)",
   "language": "python",
   "name": "python3"
  },
  "language_info": {
   "codemirror_mode": {
    "name": "ipython",
    "version": 3
   },
   "file_extension": ".py",
   "mimetype": "text/x-python",
   "name": "python",
   "nbconvert_exporter": "python",
   "pygments_lexer": "ipython3",
   "version": "3.10.10"
  },
  "varInspector": {
   "cols": {
    "lenName": 16,
    "lenType": 16,
    "lenVar": 40
   },
   "kernels_config": {
    "python": {
     "delete_cmd_postfix": "",
     "delete_cmd_prefix": "del ",
     "library": "var_list.py",
     "varRefreshCmd": "print(var_dic_list())"
    },
    "r": {
     "delete_cmd_postfix": ") ",
     "delete_cmd_prefix": "rm(",
     "library": "var_list.r",
     "varRefreshCmd": "cat(var_dic_list()) "
    }
   },
   "types_to_exclude": [
    "module",
    "function",
    "builtin_function_or_method",
    "instance",
    "_Feature"
   ],
   "window_display": false
  }
 },
 "nbformat": 4,
 "nbformat_minor": 2
}
