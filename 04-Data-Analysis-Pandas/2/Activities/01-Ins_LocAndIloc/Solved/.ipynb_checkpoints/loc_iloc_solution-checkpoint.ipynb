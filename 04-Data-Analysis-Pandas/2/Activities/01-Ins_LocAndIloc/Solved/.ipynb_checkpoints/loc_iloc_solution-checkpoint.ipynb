{
 "cells": [
  {
   "cell_type": "code",
   "execution_count": 1,
   "metadata": {},
   "outputs": [],
   "source": [
    "# Dependencies\n",
    "import pandas as pd\n",
    "from pathlib import Path"
   ]
  },
  {
   "cell_type": "code",
   "execution_count": 2,
   "metadata": {},
   "outputs": [],
   "source": [
    "# Store filepath in a variable\n",
    "file = Path(\"Resources/baton_streets.csv\")"
   ]
  },
  {
   "cell_type": "code",
   "execution_count": 3,
   "metadata": {
    "scrolled": true
   },
   "outputs": [
    {
     "data": {
      "text/html": [
       "<div>\n",
       "<style scoped>\n",
       "    .dataframe tbody tr th:only-of-type {\n",
       "        vertical-align: middle;\n",
       "    }\n",
       "\n",
       "    .dataframe tbody tr th {\n",
       "        vertical-align: top;\n",
       "    }\n",
       "\n",
       "    .dataframe thead th {\n",
       "        text-align: right;\n",
       "    }\n",
       "</style>\n",
       "<table border=\"1\" class=\"dataframe\">\n",
       "  <thead>\n",
       "    <tr style=\"text-align: right;\">\n",
       "      <th></th>\n",
       "      <th>STREET NAME ID</th>\n",
       "      <th>STREET NAME</th>\n",
       "      <th>STREET FULL NAME</th>\n",
       "      <th>POSTAL COMMUNITY</th>\n",
       "      <th>MUNICIPAL COMMUNITY</th>\n",
       "    </tr>\n",
       "  </thead>\n",
       "  <tbody>\n",
       "    <tr>\n",
       "      <th>0</th>\n",
       "      <td>1400342</td>\n",
       "      <td>PRIVATE STREET</td>\n",
       "      <td>PRIVATE STREET</td>\n",
       "      <td>BATON ROUGE</td>\n",
       "      <td>BATON ROUGE</td>\n",
       "    </tr>\n",
       "    <tr>\n",
       "      <th>1</th>\n",
       "      <td>1</td>\n",
       "      <td>4TH</td>\n",
       "      <td>N 4TH ST</td>\n",
       "      <td>BATON ROUGE</td>\n",
       "      <td>BATON ROUGE</td>\n",
       "    </tr>\n",
       "    <tr>\n",
       "      <th>2</th>\n",
       "      <td>10</td>\n",
       "      <td>11TH</td>\n",
       "      <td>S 11TH ST</td>\n",
       "      <td>BATON ROUGE</td>\n",
       "      <td>BATON ROUGE</td>\n",
       "    </tr>\n",
       "    <tr>\n",
       "      <th>3</th>\n",
       "      <td>100</td>\n",
       "      <td>ADDINGTON</td>\n",
       "      <td>ADDINGTON AVE</td>\n",
       "      <td>BATON ROUGE</td>\n",
       "      <td>BATON ROUGE</td>\n",
       "    </tr>\n",
       "    <tr>\n",
       "      <th>4</th>\n",
       "      <td>1000</td>\n",
       "      <td>CHALFONT</td>\n",
       "      <td>W CHALFONT DR</td>\n",
       "      <td>BATON ROUGE</td>\n",
       "      <td>PARISH</td>\n",
       "    </tr>\n",
       "    <tr>\n",
       "      <th>...</th>\n",
       "      <td>...</td>\n",
       "      <td>...</td>\n",
       "      <td>...</td>\n",
       "      <td>...</td>\n",
       "      <td>...</td>\n",
       "    </tr>\n",
       "    <tr>\n",
       "      <th>7890</th>\n",
       "      <td>17182</td>\n",
       "      <td>HIDDEN HOLLOW</td>\n",
       "      <td>HIDDEN HOLLOW RD</td>\n",
       "      <td>PRIDE</td>\n",
       "      <td>PARISH</td>\n",
       "    </tr>\n",
       "    <tr>\n",
       "      <th>7891</th>\n",
       "      <td>17183</td>\n",
       "      <td>MAURIEL</td>\n",
       "      <td>MAURIEL LN</td>\n",
       "      <td>BATON ROUGE</td>\n",
       "      <td>PARISH</td>\n",
       "    </tr>\n",
       "    <tr>\n",
       "      <th>7892</th>\n",
       "      <td>6077</td>\n",
       "      <td>SHADOWS BEND</td>\n",
       "      <td>SHADOWS BEND DR</td>\n",
       "      <td>BATON ROUGE</td>\n",
       "      <td>BATON ROUGE</td>\n",
       "    </tr>\n",
       "    <tr>\n",
       "      <th>7893</th>\n",
       "      <td>17184</td>\n",
       "      <td>LURAY</td>\n",
       "      <td>LURAY LN</td>\n",
       "      <td>BATON ROUGE</td>\n",
       "      <td>PARISH</td>\n",
       "    </tr>\n",
       "    <tr>\n",
       "      <th>7894</th>\n",
       "      <td>1400345</td>\n",
       "      <td>PRIVATE STREET</td>\n",
       "      <td>PRIVATE STREET</td>\n",
       "      <td>BATON ROUGE</td>\n",
       "      <td>BATON ROUGE</td>\n",
       "    </tr>\n",
       "  </tbody>\n",
       "</table>\n",
       "<p>7895 rows × 5 columns</p>\n",
       "</div>"
      ],
      "text/plain": [
       "      STREET NAME ID     STREET NAME  STREET FULL NAME POSTAL COMMUNITY  \\\n",
       "0            1400342  PRIVATE STREET    PRIVATE STREET      BATON ROUGE   \n",
       "1                  1             4TH          N 4TH ST      BATON ROUGE   \n",
       "2                 10            11TH         S 11TH ST      BATON ROUGE   \n",
       "3                100       ADDINGTON     ADDINGTON AVE      BATON ROUGE   \n",
       "4               1000        CHALFONT     W CHALFONT DR      BATON ROUGE   \n",
       "...              ...             ...               ...              ...   \n",
       "7890           17182   HIDDEN HOLLOW  HIDDEN HOLLOW RD            PRIDE   \n",
       "7891           17183         MAURIEL        MAURIEL LN      BATON ROUGE   \n",
       "7892            6077    SHADOWS BEND   SHADOWS BEND DR      BATON ROUGE   \n",
       "7893           17184           LURAY          LURAY LN      BATON ROUGE   \n",
       "7894         1400345  PRIVATE STREET    PRIVATE STREET      BATON ROUGE   \n",
       "\n",
       "     MUNICIPAL COMMUNITY  \n",
       "0            BATON ROUGE  \n",
       "1            BATON ROUGE  \n",
       "2            BATON ROUGE  \n",
       "3            BATON ROUGE  \n",
       "4                 PARISH  \n",
       "...                  ...  \n",
       "7890              PARISH  \n",
       "7891              PARISH  \n",
       "7892         BATON ROUGE  \n",
       "7893              PARISH  \n",
       "7894         BATON ROUGE  \n",
       "\n",
       "[7895 rows x 5 columns]"
      ]
     },
     "execution_count": 3,
     "metadata": {},
     "output_type": "execute_result"
    }
   ],
   "source": [
    "# Read our data file with the Pandas library\n",
    "original_df = pd.read_csv(file)\n",
    "original_df"
   ]
  },
  {
   "cell_type": "code",
   "execution_count": 4,
   "metadata": {
    "scrolled": true
   },
   "outputs": [
    {
     "data": {
      "text/html": [
       "<div>\n",
       "<style scoped>\n",
       "    .dataframe tbody tr th:only-of-type {\n",
       "        vertical-align: middle;\n",
       "    }\n",
       "\n",
       "    .dataframe tbody tr th {\n",
       "        vertical-align: top;\n",
       "    }\n",
       "\n",
       "    .dataframe thead th {\n",
       "        text-align: right;\n",
       "    }\n",
       "</style>\n",
       "<table border=\"1\" class=\"dataframe\">\n",
       "  <thead>\n",
       "    <tr style=\"text-align: right;\">\n",
       "      <th></th>\n",
       "      <th>STREET NAME ID</th>\n",
       "      <th>STREET FULL NAME</th>\n",
       "      <th>POSTAL COMMUNITY</th>\n",
       "      <th>MUNICIPAL COMMUNITY</th>\n",
       "    </tr>\n",
       "    <tr>\n",
       "      <th>STREET NAME</th>\n",
       "      <th></th>\n",
       "      <th></th>\n",
       "      <th></th>\n",
       "      <th></th>\n",
       "    </tr>\n",
       "  </thead>\n",
       "  <tbody>\n",
       "    <tr>\n",
       "      <th>PRIVATE STREET</th>\n",
       "      <td>1400342</td>\n",
       "      <td>PRIVATE STREET</td>\n",
       "      <td>BATON ROUGE</td>\n",
       "      <td>BATON ROUGE</td>\n",
       "    </tr>\n",
       "    <tr>\n",
       "      <th>4TH</th>\n",
       "      <td>1</td>\n",
       "      <td>N 4TH ST</td>\n",
       "      <td>BATON ROUGE</td>\n",
       "      <td>BATON ROUGE</td>\n",
       "    </tr>\n",
       "    <tr>\n",
       "      <th>11TH</th>\n",
       "      <td>10</td>\n",
       "      <td>S 11TH ST</td>\n",
       "      <td>BATON ROUGE</td>\n",
       "      <td>BATON ROUGE</td>\n",
       "    </tr>\n",
       "    <tr>\n",
       "      <th>ADDINGTON</th>\n",
       "      <td>100</td>\n",
       "      <td>ADDINGTON AVE</td>\n",
       "      <td>BATON ROUGE</td>\n",
       "      <td>BATON ROUGE</td>\n",
       "    </tr>\n",
       "    <tr>\n",
       "      <th>CHALFONT</th>\n",
       "      <td>1000</td>\n",
       "      <td>W CHALFONT DR</td>\n",
       "      <td>BATON ROUGE</td>\n",
       "      <td>PARISH</td>\n",
       "    </tr>\n",
       "  </tbody>\n",
       "</table>\n",
       "</div>"
      ],
      "text/plain": [
       "                STREET NAME ID STREET FULL NAME POSTAL COMMUNITY  \\\n",
       "STREET NAME                                                        \n",
       "PRIVATE STREET         1400342   PRIVATE STREET      BATON ROUGE   \n",
       "4TH                          1         N 4TH ST      BATON ROUGE   \n",
       "11TH                        10        S 11TH ST      BATON ROUGE   \n",
       "ADDINGTON                  100    ADDINGTON AVE      BATON ROUGE   \n",
       "CHALFONT                  1000    W CHALFONT DR      BATON ROUGE   \n",
       "\n",
       "               MUNICIPAL COMMUNITY  \n",
       "STREET NAME                         \n",
       "PRIVATE STREET         BATON ROUGE  \n",
       "4TH                    BATON ROUGE  \n",
       "11TH                   BATON ROUGE  \n",
       "ADDINGTON              BATON ROUGE  \n",
       "CHALFONT                    PARISH  "
      ]
     },
     "execution_count": 4,
     "metadata": {},
     "output_type": "execute_result"
    }
   ],
   "source": [
    "# Set new index to STREET NAME\n",
    "df = original_df.set_index(\"STREET NAME\")\n",
    "df.head()"
   ]
  },
  {
   "cell_type": "code",
   "execution_count": 6,
   "metadata": {},
   "outputs": [
    {
     "name": "stdout",
     "output_type": "stream",
     "text": [
      "Using loc: ADDINGTON AVE\n",
      "Using iloc: ADDINGTON AVE\n"
     ]
    }
   ],
   "source": [
    "# Get the data contained within the \"ADDINGTON\" row and the \"STREET FULL NAME\" column\n",
    "addington_name = df.loc[\"ADDINGTON\", \"STREET FULL NAME\"]\n",
    "print(\"Using loc: \" + addington_name)\n",
    "\n",
    "also_addington_name = df.iloc[3, 1]\n",
    "print(\"Using iloc: \" + also_addington_name)"
   ]
  },
  {
   "cell_type": "code",
   "execution_count": null,
   "metadata": {},
   "outputs": [],
   "source": [
    "# Get the first five rows of data and the columns from \"STREET NAME ID\" to \"POSTAL COMMUNITY\"\n",
    "# The problem with using \"STREET NAME\" as the index is that the values are not unique so duplicates are returned\n",
    "# If there are duplicates and loc is being used, Pandas will return an error\n",
    "private_to_chalfont = df.loc[[\"PRIVATE STREET\", \"4TH\", \"11TH\", \"ADDINGTON\", \n",
    "                              \"CHALFONT\"], [\"STREET NAME ID\", \"STREET FULL NAME\", \"POSTAL COMMUNITY\"]]\n",
    "print(private_to_chalfont)\n",
    "\n",
    "print()\n",
    "\n",
    "# Using iloc will not find duplicates since a numeric index is always unique\n",
    "#also_private_to_chalfont = df.iloc[0:5, 0:3]\n",
    "#print(also_private_to_chalfont)"
   ]
  },
  {
   "cell_type": "code",
   "execution_count": null,
   "metadata": {},
   "outputs": [],
   "source": [
    "# Using loc to select all rows for the `STREET FULL NAME` and `POSTAL COMMUNITY` columns.\n",
    "df.loc[:, [\"STREET FULL NAME\", \"POSTAL COMMUNITY\"]].head()"
   ]
  },
  {
   "cell_type": "code",
   "execution_count": null,
   "metadata": {},
   "outputs": [],
   "source": [
    "# Using iloc to select all rows for the second and third columns.\n",
    "df.iloc[:, 1:3].head()"
   ]
  },
  {
   "cell_type": "code",
   "execution_count": null,
   "metadata": {},
   "outputs": [],
   "source": [
    "# The following logic test/conditional statement returns a series of boolean values\n",
    "municipal_parish = df[\"MUNICIPAL COMMUNITY\"] == \"PARISH\"\n",
    "municipal_parish.head()"
   ]
  },
  {
   "cell_type": "code",
   "execution_count": null,
   "metadata": {},
   "outputs": [],
   "source": [
    "# loc will allow for conditional statements to filter rows of data\n",
    "# Using loc on the logic test above only returns rows where the result is True\n",
    "only_prairieville = df.loc[df[\"POSTAL COMMUNITY\"] == \"PRAIRIEVILLE\", :]\n",
    "print(only_prairieville)"
   ]
  },
  {
   "cell_type": "code",
   "execution_count": null,
   "metadata": {},
   "outputs": [],
   "source": [
    "# iloc will also allow for conditional statements to filter rows of data\n",
    "# Using iloc on the logic test above only returns rows where the result is True\n",
    "also_only_prairieville = df[df.iloc[:,2] == \"PRAIRIEVILLE\"]\n",
    "print(also_only_prairieville)"
   ]
  },
  {
   "cell_type": "code",
   "execution_count": null,
   "metadata": {},
   "outputs": [],
   "source": [
    "# Multiple conditions can be set to narrow down or widen the filter\n",
    "only_prairieville_and_jackson = df.loc[(df[\"POSTAL COMMUNITY\"] == \"PRAIRIEVILLE\") | (\n",
    "    df[\"POSTAL COMMUNITY\"] == \"JACKSON\"), :]\n",
    "print(only_prairieville_and_jackson)"
   ]
  },
  {
   "cell_type": "code",
   "execution_count": null,
   "metadata": {},
   "outputs": [],
   "source": []
  }
 ],
 "metadata": {
  "kernelspec": {
   "display_name": "Python 3 (ipykernel)",
   "language": "python",
   "name": "python3"
  },
  "language_info": {
   "codemirror_mode": {
    "name": "ipython",
    "version": 3
   },
   "file_extension": ".py",
   "mimetype": "text/x-python",
   "name": "python",
   "nbconvert_exporter": "python",
   "pygments_lexer": "ipython3",
   "version": "3.10.10"
  }
 },
 "nbformat": 4,
 "nbformat_minor": 2
}
