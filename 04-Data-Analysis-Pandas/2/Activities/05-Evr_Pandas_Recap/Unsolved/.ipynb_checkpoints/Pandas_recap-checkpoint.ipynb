{
 "cells": [
  {
   "cell_type": "code",
   "execution_count": 1,
   "metadata": {},
   "outputs": [],
   "source": [
    "# Dependencies\n",
    "import pandas as pd\n",
    "from pathlib import Path"
   ]
  },
  {
   "cell_type": "code",
   "execution_count": 2,
   "metadata": {},
   "outputs": [
    {
     "data": {
      "text/html": [
       "<div>\n",
       "<style scoped>\n",
       "    .dataframe tbody tr th:only-of-type {\n",
       "        vertical-align: middle;\n",
       "    }\n",
       "\n",
       "    .dataframe tbody tr th {\n",
       "        vertical-align: top;\n",
       "    }\n",
       "\n",
       "    .dataframe thead th {\n",
       "        text-align: right;\n",
       "    }\n",
       "</style>\n",
       "<table border=\"1\" class=\"dataframe\">\n",
       "  <thead>\n",
       "    <tr style=\"text-align: right;\">\n",
       "      <th></th>\n",
       "      <th>Reporting Year</th>\n",
       "      <th>Fire Department Header Key</th>\n",
       "      <th>Fire Department Name</th>\n",
       "      <th>Incident date</th>\n",
       "      <th>Incident Number</th>\n",
       "      <th>Exposure Number</th>\n",
       "      <th>Fire Department Station</th>\n",
       "      <th>Incident Type Code</th>\n",
       "      <th>Incident Type</th>\n",
       "      <th>Aid Given or Received Code</th>\n",
       "      <th>...</th>\n",
       "      <th>Mized Use Property Codes</th>\n",
       "      <th>Mixed Use Property</th>\n",
       "      <th>Property Use Code</th>\n",
       "      <th>Property Use</th>\n",
       "      <th>Incident Street Address</th>\n",
       "      <th>Incident Apartment Number</th>\n",
       "      <th>Incident City</th>\n",
       "      <th>Incident Zip Code</th>\n",
       "      <th>Census Tract</th>\n",
       "      <th>Location</th>\n",
       "    </tr>\n",
       "  </thead>\n",
       "  <tbody>\n",
       "    <tr>\n",
       "      <th>0</th>\n",
       "      <td>2015</td>\n",
       "      <td>CT06240</td>\n",
       "      <td>WATERBURY FIRE DEPARTMENT</td>\n",
       "      <td>05/11/2015</td>\n",
       "      <td>6499.0</td>\n",
       "      <td>0</td>\n",
       "      <td>07</td>\n",
       "      <td>440</td>\n",
       "      <td>Electrical wiring/equipment problem, other.</td>\n",
       "      <td>N</td>\n",
       "      <td>...</td>\n",
       "      <td>NaN</td>\n",
       "      <td>NaN</td>\n",
       "      <td>962.0</td>\n",
       "      <td>Residential street, road, or residential drive...</td>\n",
       "      <td>GREENLEAF AVE</td>\n",
       "      <td>NaN</td>\n",
       "      <td>WATERBURY</td>\n",
       "      <td>06705</td>\n",
       "      <td>NaN</td>\n",
       "      <td>GREENLEAF AVE06705</td>\n",
       "    </tr>\n",
       "    <tr>\n",
       "      <th>1</th>\n",
       "      <td>2015</td>\n",
       "      <td>CT08180</td>\n",
       "      <td>THE TOWN OF SALEM</td>\n",
       "      <td>12/01/2015</td>\n",
       "      <td>24036.0</td>\n",
       "      <td>0</td>\n",
       "      <td>21</td>\n",
       "      <td>111</td>\n",
       "      <td>Building fire. Excludes confined fires (113–118).</td>\n",
       "      <td>3</td>\n",
       "      <td>...</td>\n",
       "      <td>NaN</td>\n",
       "      <td>NaN</td>\n",
       "      <td>NaN</td>\n",
       "      <td>NaN</td>\n",
       "      <td>Route 82</td>\n",
       "      <td>NaN</td>\n",
       "      <td>Salem</td>\n",
       "      <td>06420</td>\n",
       "      <td>NaN</td>\n",
       "      <td>Route 8206420</td>\n",
       "    </tr>\n",
       "    <tr>\n",
       "      <th>2</th>\n",
       "      <td>2015</td>\n",
       "      <td>CT08190</td>\n",
       "      <td>STONINGTON FIRE DEPT</td>\n",
       "      <td>09/07/2015</td>\n",
       "      <td>76.0</td>\n",
       "      <td>0</td>\n",
       "      <td>1</td>\n",
       "      <td>400</td>\n",
       "      <td>Hazardous condition (no fire), other.</td>\n",
       "      <td>N</td>\n",
       "      <td>...</td>\n",
       "      <td>NaN</td>\n",
       "      <td>NaN</td>\n",
       "      <td>0.0</td>\n",
       "      <td>Property use, other.</td>\n",
       "      <td>Bayview AVE</td>\n",
       "      <td>NaN</td>\n",
       "      <td>Stonington Borough</td>\n",
       "      <td>06378</td>\n",
       "      <td>NaN</td>\n",
       "      <td>Bayview AVE06378</td>\n",
       "    </tr>\n",
       "    <tr>\n",
       "      <th>3</th>\n",
       "      <td>2015</td>\n",
       "      <td>CT01012</td>\n",
       "      <td>RIVERTON VOLUNTEER FIRE DEPT</td>\n",
       "      <td>01/02/2015</td>\n",
       "      <td>1.0</td>\n",
       "      <td>0</td>\n",
       "      <td>1</td>\n",
       "      <td>444</td>\n",
       "      <td>Power line down. Excludes people trapped by do...</td>\n",
       "      <td>3</td>\n",
       "      <td>...</td>\n",
       "      <td>NaN</td>\n",
       "      <td>NaN</td>\n",
       "      <td>NaN</td>\n",
       "      <td>NaN</td>\n",
       "      <td>Wallens Hill1 RD</td>\n",
       "      <td>NaN</td>\n",
       "      <td>Riverton</td>\n",
       "      <td>06065</td>\n",
       "      <td>NaN</td>\n",
       "      <td>Wallens Hill1 RD06065</td>\n",
       "    </tr>\n",
       "    <tr>\n",
       "      <th>4</th>\n",
       "      <td>2015</td>\n",
       "      <td>CT01070</td>\n",
       "      <td>GOSHEN VOLUNTEER FIRE COMPANY</td>\n",
       "      <td>11/03/2015</td>\n",
       "      <td>37.0</td>\n",
       "      <td>0</td>\n",
       "      <td>NaN</td>\n",
       "      <td>150</td>\n",
       "      <td>Outside rubbish fire, other.</td>\n",
       "      <td>N</td>\n",
       "      <td>...</td>\n",
       "      <td>NaN</td>\n",
       "      <td>NaN</td>\n",
       "      <td>936.0</td>\n",
       "      <td>Vacant lot. Undeveloped land, not paved, may i...</td>\n",
       "      <td>E east street south</td>\n",
       "      <td>NaN</td>\n",
       "      <td>Goshen</td>\n",
       "      <td>06756</td>\n",
       "      <td>NaN</td>\n",
       "      <td>E east street south06756</td>\n",
       "    </tr>\n",
       "  </tbody>\n",
       "</table>\n",
       "<p>5 rows × 48 columns</p>\n",
       "</div>"
      ],
      "text/plain": [
       "   Reporting Year Fire Department Header Key           Fire Department Name  \\\n",
       "0            2015                    CT06240      WATERBURY FIRE DEPARTMENT   \n",
       "1            2015                    CT08180              THE TOWN OF SALEM   \n",
       "2            2015                    CT08190           STONINGTON FIRE DEPT   \n",
       "3            2015                    CT01012   RIVERTON VOLUNTEER FIRE DEPT   \n",
       "4            2015                    CT01070  GOSHEN VOLUNTEER FIRE COMPANY   \n",
       "\n",
       "  Incident date  Incident Number  Exposure Number Fire Department Station  \\\n",
       "0    05/11/2015           6499.0                0                      07   \n",
       "1    12/01/2015          24036.0                0                      21   \n",
       "2    09/07/2015             76.0                0                       1   \n",
       "3    01/02/2015              1.0                0                       1   \n",
       "4    11/03/2015             37.0                0                     NaN   \n",
       "\n",
       "   Incident Type Code                                      Incident Type  \\\n",
       "0                 440        Electrical wiring/equipment problem, other.   \n",
       "1                 111  Building fire. Excludes confined fires (113–118).   \n",
       "2                 400              Hazardous condition (no fire), other.   \n",
       "3                 444  Power line down. Excludes people trapped by do...   \n",
       "4                 150                       Outside rubbish fire, other.   \n",
       "\n",
       "  Aid Given or Received Code   ... Mized Use Property Codes  \\\n",
       "0                           N  ...                      NaN   \n",
       "1                           3  ...                      NaN   \n",
       "2                           N  ...                      NaN   \n",
       "3                           3  ...                      NaN   \n",
       "4                           N  ...                      NaN   \n",
       "\n",
       "  Mixed Use Property Property Use Code  \\\n",
       "0                NaN             962.0   \n",
       "1                NaN               NaN   \n",
       "2                NaN               0.0   \n",
       "3                NaN               NaN   \n",
       "4                NaN             936.0   \n",
       "\n",
       "                                        Property Use Incident Street Address  \\\n",
       "0  Residential street, road, or residential drive...           GREENLEAF AVE   \n",
       "1                                                NaN                Route 82   \n",
       "2                               Property use, other.             Bayview AVE   \n",
       "3                                                NaN        Wallens Hill1 RD   \n",
       "4  Vacant lot. Undeveloped land, not paved, may i...     E east street south   \n",
       "\n",
       "  Incident Apartment Number       Incident City Incident Zip Code  \\\n",
       "0                       NaN           WATERBURY             06705   \n",
       "1                       NaN               Salem             06420   \n",
       "2                       NaN  Stonington Borough             06378   \n",
       "3                       NaN            Riverton             06065   \n",
       "4                       NaN              Goshen             06756   \n",
       "\n",
       "  Census Tract                  Location  \n",
       "0          NaN        GREENLEAF AVE06705  \n",
       "1          NaN             Route 8206420  \n",
       "2          NaN          Bayview AVE06378  \n",
       "3          NaN     Wallens Hill1 RD06065  \n",
       "4          NaN  E east street south06756  \n",
       "\n",
       "[5 rows x 48 columns]"
      ]
     },
     "execution_count": 2,
     "metadata": {},
     "output_type": "execute_result"
    }
   ],
   "source": [
    "# Create a reference the CSV file desired\n",
    "csv_path = Path(\"Resources/CT_fires_2015.csv\")\n",
    "\n",
    "# Read the CSV into a Pandas DataFrame\n",
    "fires_df = pd.read_csv(csv_path, low_memory=False)\n",
    "\n",
    "# Print the first five rows of data to the screen\n",
    "fires_df.head()"
   ]
  },
  {
   "cell_type": "code",
   "execution_count": null,
   "metadata": {},
   "outputs": [],
   "source": [
    "# Check the names of all the columns and see if there are any rows with missing data\n"
   ]
  },
  {
   "cell_type": "code",
   "execution_count": null,
   "metadata": {},
   "outputs": [],
   "source": [
    "# Rename mistyped columns \"Aid Given or Received Code \" and \"Propery Loss\"\n"
   ]
  },
  {
   "cell_type": "code",
   "execution_count": null,
   "metadata": {},
   "outputs": [],
   "source": [
    "# Reduce to columns: Reporting Year, Fire Department Name, Incident date, Incident Type,\n",
    "# Aid Given or Received Code, Aid Given or Received, Number of Alarms, Alarm Date and Time,\n",
    "# Arrival Date and Time, Last Unit Cleared Date and Time, Actions Taken 1, Actions Taken 2,\n",
    "# Actions Taken 3, Property Value, Property Loss, Contents Value, Contents Loss,\n",
    "# Fire Service Deaths, Fire Service Injuries, Other Fire Deaths, Other Fire Injuries,\n",
    "# Property Use, Incident Street Address, Incident Apartment Number, Incident City, Incident Zip Code\n",
    "\n"
   ]
  },
  {
   "cell_type": "code",
   "execution_count": null,
   "metadata": {},
   "outputs": [],
   "source": [
    "# Fill NAs for columns \"Actions Taken 1\", \"Actions Taken 2\", \"Actions Taken 3\", \n",
    "# and \"Incident Apartment Number\" with ''\n",
    "# Fill NAs for columns \"Other Fire Deaths\", \"Other Fire Injuries\",\n",
    "# \"Property Loss\", and \"Contents Loss\" with 0\n"
   ]
  },
  {
   "cell_type": "code",
   "execution_count": null,
   "metadata": {},
   "outputs": [],
   "source": [
    "# Remove remaining rows with missing data\n"
   ]
  },
  {
   "cell_type": "code",
   "execution_count": null,
   "metadata": {},
   "outputs": [],
   "source": [
    "# Filter data to incidents that caused Property or Contents Loss\n"
   ]
  },
  {
   "cell_type": "code",
   "execution_count": null,
   "metadata": {},
   "outputs": [],
   "source": [
    "# Count how many incidents occured in each city\n"
   ]
  },
  {
   "cell_type": "code",
   "execution_count": null,
   "metadata": {},
   "outputs": [],
   "source": [
    "# Convert the city_counts Series into a DataFrame\n"
   ]
  },
  {
   "cell_type": "code",
   "execution_count": null,
   "metadata": {},
   "outputs": [],
   "source": [
    "# Convert the column name into \"Sum of Loss Incidents\"\n"
   ]
  },
  {
   "cell_type": "code",
   "execution_count": null,
   "metadata": {},
   "outputs": [],
   "source": [
    "# Calculate the number of deaths from fire incidents where loss occurred\n"
   ]
  },
  {
   "cell_type": "code",
   "execution_count": null,
   "metadata": {},
   "outputs": [],
   "source": [
    "# Want to calculate the fire department response time? There is a problem\n",
    "# Problem can be seen by examining datatypes within the DataFrame\n"
   ]
  },
  {
   "cell_type": "code",
   "execution_count": null,
   "metadata": {},
   "outputs": [],
   "source": [
    "# Convert relevant date columns to datetime\n"
   ]
  },
  {
   "cell_type": "code",
   "execution_count": null,
   "metadata": {},
   "outputs": [],
   "source": [
    "# Now it is possible to find the response time in seconds\n",
    "# Hint: create a new column for \"Response Time (seconds)\" and use .dt.total_seconds()\n",
    "# to calculate the seconds\n"
   ]
  },
  {
   "cell_type": "code",
   "execution_count": null,
   "metadata": {},
   "outputs": [],
   "source": [
    "# Check data for columns of your choosing\n"
   ]
  },
  {
   "cell_type": "code",
   "execution_count": null,
   "metadata": {},
   "outputs": [],
   "source": []
  }
 ],
 "metadata": {
  "kernelspec": {
   "display_name": "Python 3 (ipykernel)",
   "language": "python",
   "name": "python3"
  },
  "language_info": {
   "codemirror_mode": {
    "name": "ipython",
    "version": 3
   },
   "file_extension": ".py",
   "mimetype": "text/x-python",
   "name": "python",
   "nbconvert_exporter": "python",
   "pygments_lexer": "ipython3",
   "version": "3.10.10"
  }
 },
 "nbformat": 4,
 "nbformat_minor": 2
}
