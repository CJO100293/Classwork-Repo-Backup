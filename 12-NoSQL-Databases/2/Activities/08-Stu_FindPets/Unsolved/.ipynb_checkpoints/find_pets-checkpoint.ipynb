{
 "cells": [
  {
   "cell_type": "code",
   "execution_count": 1,
   "id": "932766e9",
   "metadata": {},
   "outputs": [],
   "source": [
    "# Import dependencies\n",
    "from pymongo import MongoClient\n",
    "from pprint import pprint"
   ]
  },
  {
   "cell_type": "code",
   "execution_count": 2,
   "id": "9e27c2de",
   "metadata": {},
   "outputs": [],
   "source": [
    "# Create an instance of MongoClient\n",
    "mongo = MongoClient(port=27017)"
   ]
  },
  {
   "cell_type": "code",
   "execution_count": 3,
   "id": "7fcd88f2",
   "metadata": {},
   "outputs": [
    {
     "name": "stdout",
     "output_type": "stream",
     "text": [
      "['admin', 'autosaurus', 'classDB', 'config', 'epa', 'fruits_db', 'local', 'petsitly_marketing']\n"
     ]
    }
   ],
   "source": [
    "# confirm that the \"petsitly_marketing\" database is in MongoDB\n",
    "print(mongo.list_database_names())"
   ]
  },
  {
   "cell_type": "code",
   "execution_count": 4,
   "id": "d40c1869",
   "metadata": {},
   "outputs": [],
   "source": [
    "# assign the database to a variable name\n",
    "db = mongo['petsitly_marketing']"
   ]
  },
  {
   "cell_type": "code",
   "execution_count": 5,
   "id": "c9f586b6",
   "metadata": {},
   "outputs": [
    {
     "name": "stdout",
     "output_type": "stream",
     "text": [
      "['customer_list']\n"
     ]
    }
   ],
   "source": [
    "# review the collections in our new database\n",
    "print(db.list_collection_names())"
   ]
  },
  {
   "cell_type": "code",
   "execution_count": 6,
   "id": "41bd682a",
   "metadata": {},
   "outputs": [],
   "source": [
    "# assign the collection to a variable\n",
    "customers = db['customer_list']"
   ]
  },
  {
   "cell_type": "code",
   "execution_count": null,
   "id": "bdd6a32b",
   "metadata": {},
   "outputs": [],
   "source": [
    "# Create a query that finds the customers who had over 50 visits in 2021\n",
    "query = {'2021_Visits': {\"$gt\": 50}}\n",
    "\n",
    "# Capture the results to a variable\n",
    "\n",
    "\n",
    "# Pretty print the first two results\n"
   ]
  },
  {
   "cell_type": "code",
   "execution_count": null,
   "id": "77fa0f78",
   "metadata": {},
   "outputs": [],
   "source": [
    "# Create a query that finds the customers who spent $250 or less in 2021\n",
    "\n",
    "\n",
    "# Capture the results to a variable\n",
    "\n",
    "\n",
    "# Pretty print the first two results\n"
   ]
  },
  {
   "cell_type": "code",
   "execution_count": null,
   "id": "79f88a50",
   "metadata": {},
   "outputs": [],
   "source": [
    "# Create a query that finds the customer(s) who live in an apartment with \"Suite\" in the address\n",
    "\n",
    "\n",
    "# Capture the results to a variable\n",
    "\n",
    "\n",
    "# Pretty print the first three results\n"
   ]
  },
  {
   "cell_type": "code",
   "execution_count": null,
   "id": "50443591",
   "metadata": {},
   "outputs": [],
   "source": [
    "# Create a query that finds the customers who have turtles or fish\n",
    "\n",
    "\n",
    "# Capture the results to a variable\n",
    "\n",
    "\n",
    "# Pretty print the first three results\n"
   ]
  },
  {
   "cell_type": "code",
   "execution_count": null,
   "id": "fcb5f9b3",
   "metadata": {},
   "outputs": [],
   "source": []
  }
 ],
 "metadata": {
  "kernelspec": {
   "display_name": "Python 3 (ipykernel)",
   "language": "python",
   "name": "python3"
  },
  "language_info": {
   "codemirror_mode": {
    "name": "ipython",
    "version": 3
   },
   "file_extension": ".py",
   "mimetype": "text/x-python",
   "name": "python",
   "nbconvert_exporter": "python",
   "pygments_lexer": "ipython3",
   "version": "3.10.10"
  }
 },
 "nbformat": 4,
 "nbformat_minor": 5
}
