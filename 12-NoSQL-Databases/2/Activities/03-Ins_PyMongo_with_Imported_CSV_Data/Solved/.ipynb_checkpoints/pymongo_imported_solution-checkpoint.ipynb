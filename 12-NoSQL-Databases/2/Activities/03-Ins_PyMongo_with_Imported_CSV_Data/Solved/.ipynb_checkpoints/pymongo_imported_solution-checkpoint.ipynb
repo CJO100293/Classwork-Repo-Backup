{
 "cells": [
  {
   "cell_type": "markdown",
   "id": "6607ba1a",
   "metadata": {},
   "source": [
    "# Introduction to Mongo"
   ]
  },
  {
   "cell_type": "markdown",
   "id": "6df4e62d",
   "metadata": {},
   "source": [
    "Import the data first:\n",
    "\n",
    "```shell\n",
    "mongoimport --type csv -d petsitly_marketing -c customer_list --headerline --drop customer_database.csv\n",
    "```"
   ]
  },
  {
   "cell_type": "code",
   "execution_count": 1,
   "id": "1fce4f22",
   "metadata": {},
   "outputs": [],
   "source": [
    "from pymongo import MongoClient"
   ]
  },
  {
   "cell_type": "code",
   "execution_count": 2,
   "id": "9dc8826d",
   "metadata": {},
   "outputs": [],
   "source": [
    "# Create an instance of MongoClient\n",
    "mongo = MongoClient(port=27017)"
   ]
  },
  {
   "cell_type": "code",
   "execution_count": 3,
   "id": "60ebdfc9",
   "metadata": {},
   "outputs": [
    {
     "name": "stdout",
     "output_type": "stream",
     "text": [
      "['admin', 'autosaurus', 'classDB', 'config', 'epa', 'fruits_db', 'local', 'petsitly_marketing']\n"
     ]
    }
   ],
   "source": [
    "# confirm that our new database was created\n",
    "print(mongo.list_database_names())"
   ]
  },
  {
   "cell_type": "code",
   "execution_count": 4,
   "id": "3cab0c81",
   "metadata": {},
   "outputs": [],
   "source": [
    "# assign the database to a variable name\n",
    "db = mongo['petsitly_marketing']"
   ]
  },
  {
   "cell_type": "code",
   "execution_count": 5,
   "id": "3f57b567",
   "metadata": {},
   "outputs": [
    {
     "name": "stdout",
     "output_type": "stream",
     "text": [
      "['customer_list']\n"
     ]
    }
   ],
   "source": [
    "# review the collections in our new database\n",
    "print(db.list_collection_names())"
   ]
  },
  {
   "cell_type": "code",
   "execution_count": null,
   "id": "6360d848",
   "metadata": {},
   "outputs": [],
   "source": [
    "# review a document in the customer_list collection\n",
    "print(db.customer_list.find_one())"
   ]
  },
  {
   "cell_type": "code",
   "execution_count": null,
   "id": "c6d8a4fd",
   "metadata": {},
   "outputs": [],
   "source": [
    "# assign the collection to a variable\n",
    "customer_list = db['customer_list']"
   ]
  },
  {
   "cell_type": "code",
   "execution_count": null,
   "id": "e6f7a0ee",
   "metadata": {},
   "outputs": [],
   "source": [
    "# insert a new customer\n",
    "new_customer = {'_id':3, 'Customer_First': 'Data', 'Customer_Last': 'Viz', \n",
    "                'Address': '55882 Valley Fields Dr', 'Email': 'dataviz@bootcamp.edu', \n",
    "                '2021_Visits': 75, '2021_Total_Spend': 2017.75, 'Pet_Type': 'cat'}\n",
    "customer_list.insert_one(new_customer)"
   ]
  },
  {
   "cell_type": "code",
   "execution_count": null,
   "id": "e526b7c3",
   "metadata": {},
   "outputs": [],
   "source": [
    "# Filter results by name\n",
    "query = {'Customer_First': 'Data'}\n",
    "results = customer_list.find(query)\n",
    "for result in results:\n",
    "    print(result)"
   ]
  },
  {
   "cell_type": "code",
   "execution_count": null,
   "id": "b11e18fd",
   "metadata": {},
   "outputs": [],
   "source": [
    "# Find the number of customers with hamsters\n",
    "query = {'Pet_Type': 'hamster'}\n",
    "results = customer_list.find(query)\n",
    "for result in results:\n",
    "    print(result)"
   ]
  },
  {
   "cell_type": "code",
   "execution_count": null,
   "id": "9113832a",
   "metadata": {},
   "outputs": [],
   "source": [
    "# Delete all the customers who have hamsters\n",
    "customer_list.delete_many(query)\n",
    "results = customer_list.find(query)\n",
    "for result in results:\n",
    "    print(result)"
   ]
  },
  {
   "cell_type": "code",
   "execution_count": null,
   "id": "2f1a4f4f",
   "metadata": {},
   "outputs": [],
   "source": [
    "# Delete a collection\n",
    "db.drop_collection('customer_list')\n",
    "db.list_collection_names()"
   ]
  },
  {
   "cell_type": "code",
   "execution_count": null,
   "id": "61fcd315",
   "metadata": {},
   "outputs": [],
   "source": [
    "# Delete the database\n",
    "mongo.drop_database('petsitly_marketing')\n",
    "mongo.list_database_names()"
   ]
  },
  {
   "cell_type": "code",
   "execution_count": null,
   "id": "e1f35bc9",
   "metadata": {},
   "outputs": [],
   "source": []
  }
 ],
 "metadata": {
  "kernelspec": {
   "display_name": "Python 3 (ipykernel)",
   "language": "python",
   "name": "python3"
  },
  "language_info": {
   "codemirror_mode": {
    "name": "ipython",
    "version": 3
   },
   "file_extension": ".py",
   "mimetype": "text/x-python",
   "name": "python",
   "nbconvert_exporter": "python",
   "pygments_lexer": "ipython3",
   "version": "3.10.10"
  }
 },
 "nbformat": 4,
 "nbformat_minor": 5
}
