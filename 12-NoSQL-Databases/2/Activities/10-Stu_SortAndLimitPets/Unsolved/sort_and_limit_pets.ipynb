{
 "cells": [
  {
   "cell_type": "code",
   "execution_count": 1,
   "id": "d17273e7",
   "metadata": {},
   "outputs": [],
   "source": [
    "# Import dependencies\n",
    "from pymongo import MongoClient\n",
    "from pprint import pprint"
   ]
  },
  {
   "cell_type": "code",
   "execution_count": 2,
   "id": "2fb5655e",
   "metadata": {},
   "outputs": [],
   "source": [
    "# Create an instance of MongoClient\n",
    "mongo = MongoClient(port=27017)"
   ]
  },
  {
   "cell_type": "code",
   "execution_count": 3,
   "id": "64e86434",
   "metadata": {},
   "outputs": [
    {
     "name": "stdout",
     "output_type": "stream",
     "text": [
      "['admin', 'autosaurus', 'classDB', 'config', 'epa', 'fruits_db', 'local', 'petsitly_marketing']\n"
     ]
    }
   ],
   "source": [
    "# confirm that the \"autosaurus\" database is in MongoDB\n",
    "print(mongo.list_database_names())"
   ]
  },
  {
   "cell_type": "code",
   "execution_count": 4,
   "id": "1d9a3dde",
   "metadata": {},
   "outputs": [],
   "source": [
    "# assign the database to a variable name\n",
    "db = mongo['petsitly_marketing']"
   ]
  },
  {
   "cell_type": "code",
   "execution_count": 5,
   "id": "aa8d0ad7",
   "metadata": {},
   "outputs": [
    {
     "name": "stdout",
     "output_type": "stream",
     "text": [
      "['customer_list']\n"
     ]
    }
   ],
   "source": [
    "# review the collections in our new database\n",
    "print(db.list_collection_names())"
   ]
  },
  {
   "cell_type": "code",
   "execution_count": 6,
   "id": "90ccf45c",
   "metadata": {},
   "outputs": [],
   "source": [
    "# assign the collection to a variable\n",
    "customers = db['customer_list']"
   ]
  },
  {
   "cell_type": "code",
   "execution_count": 8,
   "id": "35a2cc6a",
   "metadata": {},
   "outputs": [
    {
     "name": "stdout",
     "output_type": "stream",
     "text": [
      "[{'2021_Total_Spend': 1707.75,\n",
      "  '2021_Visits': 99,\n",
      "  'Address': '35267 Chad Shore',\n",
      "  'Customer_First': 'Yuridia',\n",
      "  'Customer_Last': 'Corwin',\n",
      "  'Email': 'gmiller@yahoo.com',\n",
      "  'Pet_Type': 'cat',\n",
      "  '_id': ObjectId('648bdf8a0774ffce7dee186c')},\n",
      " {'2021_Total_Spend': 1707.75,\n",
      "  '2021_Visits': 99,\n",
      "  'Address': '679 Robles Lodge',\n",
      "  'Customer_First': 'Efrem',\n",
      "  'Customer_Last': 'Berge',\n",
      "  'Email': 'lisa93@hotmail.com',\n",
      "  'Pet_Type': 'dog',\n",
      "  '_id': ObjectId('648bdf8a0774ffce7dee18fe')},\n",
      " {'2021_Total_Spend': 1707.75,\n",
      "  '2021_Visits': 99,\n",
      "  'Address': '0749 Todd Turnpike',\n",
      "  'Customer_First': 'Randal',\n",
      "  'Customer_Last': 'Miller',\n",
      "  'Email': 'sroberts@gmail.com',\n",
      "  'Pet_Type': 'cat',\n",
      "  '_id': ObjectId('648bdf8a0774ffce7dee18b6')},\n",
      " {'2021_Total_Spend': 1690.5,\n",
      "  '2021_Visits': 98,\n",
      "  'Address': '416 Victoria Isle',\n",
      "  'Customer_First': 'Corrie',\n",
      "  'Customer_Last': 'Greenfelder',\n",
      "  'Email': 'jamiemartin@gmail.com',\n",
      "  'Pet_Type': 'dog',\n",
      "  '_id': ObjectId('648bdf8a0774ffce7dee18ce')},\n",
      " {'2021_Total_Spend': 1690.5,\n",
      "  '2021_Visits': 98,\n",
      "  'Address': '23287 Smith Avenue',\n",
      "  'Customer_First': 'Mckenzie',\n",
      "  'Customer_Last': 'Gusikowski',\n",
      "  'Email': 'nancymorrison@gmail.com',\n",
      "  'Pet_Type': 'dog',\n",
      "  '_id': ObjectId('648bdf8a0774ffce7dee1824')}]\n"
     ]
    }
   ],
   "source": [
    "# Create a query that finds customers who have cats or dogs\n",
    "pets_list = ['cat','dog']\n",
    "query = {'Pet_Type': {\"$in\": pets_list}}\n",
    "\n",
    "# sort in descending order by 2021_Total_Spend\n",
    "sort = [('2021_Total_Spend', -1)]\n",
    "\n",
    "# limit the results to the first 5\n",
    "limit = 5\n",
    "\n",
    "# Pretty print the results\n",
    "pprint(list(customers.find(query).sort(sort).limit(limit)))"
   ]
  },
  {
   "cell_type": "code",
   "execution_count": 9,
   "id": "a32c3d95",
   "metadata": {},
   "outputs": [
    {
     "name": "stdout",
     "output_type": "stream",
     "text": [
      "[{'2021_Total_Spend': 207.0,\n",
      "  '2021_Visits': 12,\n",
      "  'Address': '511 Howell Spurs Apt. 193',\n",
      "  'Customer_First': 'Antwan',\n",
      "  'Customer_Last': 'Abernathy',\n",
      "  'Email': 'jennifer86@gmail.com',\n",
      "  'Pet_Type': 'hamster',\n",
      "  '_id': ObjectId('648bdf8a0774ffce7dee187e')},\n",
      " {'2021_Total_Spend': 172.5,\n",
      "  '2021_Visits': 10,\n",
      "  'Address': '797 Stephanie Creek',\n",
      "  'Customer_First': 'Marsha',\n",
      "  'Customer_Last': 'Aufderhar',\n",
      "  'Email': 'barry38@yahoo.com',\n",
      "  'Pet_Type': 'cat',\n",
      "  '_id': ObjectId('648bdf8a0774ffce7dee18f1')},\n",
      " {'2021_Total_Spend': 345.0,\n",
      "  '2021_Visits': 20,\n",
      "  'Address': '94960 Hoffman Inlet Apt. 610',\n",
      "  'Customer_First': 'Broderick',\n",
      "  'Customer_Last': 'Barrows',\n",
      "  'Email': 'jack27@hotmail.com',\n",
      "  'Pet_Type': 'fish',\n",
      "  '_id': ObjectId('648bdf8a0774ffce7dee1877')},\n",
      " {'2021_Total_Spend': 276.0,\n",
      "  '2021_Visits': 16,\n",
      "  'Address': '165 Barnett Hill',\n",
      "  'Customer_First': 'Dulce',\n",
      "  'Customer_Last': 'Beahan',\n",
      "  'Email': 'ssmith@yahoo.com',\n",
      "  'Pet_Type': 'dog',\n",
      "  '_id': ObjectId('648bdf8a0774ffce7dee18b7')},\n",
      " {'2021_Total_Spend': 431.25,\n",
      "  '2021_Visits': 25,\n",
      "  'Address': '1605 Davis Radial',\n",
      "  'Customer_First': 'Arden',\n",
      "  'Customer_Last': 'Becker',\n",
      "  'Email': 'ukramer@gmail.com',\n",
      "  'Pet_Type': 'bird',\n",
      "  '_id': ObjectId('648bdf8a0774ffce7dee18f5')}]\n"
     ]
    }
   ],
   "source": [
    "# Create a query that finds customers who spent less than $500 in 2021\n",
    "query = {'2021_Total_Spend': {'$lt': 500}}\n",
    "\n",
    "# sort in ascending order by Customer_Last\n",
    "sort = [('Customer_Last', 1)]\n",
    "\n",
    "# limit the results to the first 5\n",
    "limit = 5\n",
    "\n",
    "# Pretty print the results\n",
    "pprint(list(customers.find(query).sort(sort).limit(limit)))"
   ]
  },
  {
   "cell_type": "code",
   "execution_count": 10,
   "id": "5d327858",
   "metadata": {},
   "outputs": [
    {
     "name": "stdout",
     "output_type": "stream",
     "text": [
      "[{'2021_Total_Spend': 362.25,\n",
      "  '2021_Visits': 21,\n",
      "  'Address': '2253 Watson Mall',\n",
      "  'Customer_First': 'Giselle',\n",
      "  'Customer_Last': 'Lesch',\n",
      "  'Email': 'josephsmith@yahoo.com',\n",
      "  'Pet_Type': 'dog',\n",
      "  '_id': ObjectId('648bdf8a0774ffce7dee190f')},\n",
      " {'2021_Total_Spend': 362.25,\n",
      "  '2021_Visits': 21,\n",
      "  'Address': '44812 Roberts Islands',\n",
      "  'Customer_First': 'Lance',\n",
      "  'Customer_Last': 'Hamill',\n",
      "  'Email': 'benjaminrose@gmail.com',\n",
      "  'Pet_Type': 'cat',\n",
      "  '_id': ObjectId('648bdf8a0774ffce7dee18c2')},\n",
      " {'2021_Total_Spend': 362.25,\n",
      "  '2021_Visits': 21,\n",
      "  'Address': '8236 Terry Harbor',\n",
      "  'Customer_First': 'Jasmyne',\n",
      "  'Customer_Last': 'Schmeler',\n",
      "  'Email': 'tylerdavid@gmail.com',\n",
      "  'Pet_Type': 'bird',\n",
      "  '_id': ObjectId('648bdf8a0774ffce7dee18b9')},\n",
      " {'2021_Total_Spend': 362.25,\n",
      "  '2021_Visits': 21,\n",
      "  'Address': '458 Reed Rapids',\n",
      "  'Customer_First': 'Cathryn',\n",
      "  'Customer_Last': 'Dickinson',\n",
      "  'Email': 'claytonperry@yahoo.com',\n",
      "  'Pet_Type': 'cat',\n",
      "  '_id': ObjectId('648bdf8a0774ffce7dee18fa')},\n",
      " {'2021_Total_Spend': 379.5,\n",
      "  '2021_Visits': 22,\n",
      "  'Address': '8770 Heather Shores Apt. 087',\n",
      "  'Customer_First': 'Jeanetta',\n",
      "  'Customer_Last': 'Bednar',\n",
      "  'Email': 'alan24@yahoo.com',\n",
      "  'Pet_Type': 'dog',\n",
      "  '_id': ObjectId('648bdf8a0774ffce7dee1835')},\n",
      " {'2021_Total_Spend': 396.75,\n",
      "  '2021_Visits': 23,\n",
      "  'Address': '829 Gabriela Way',\n",
      "  'Customer_First': 'Paxton',\n",
      "  'Customer_Last': 'Franecki',\n",
      "  'Email': 'zjames@gmail.com',\n",
      "  'Pet_Type': 'fish',\n",
      "  '_id': ObjectId('648bdf8a0774ffce7dee184c')},\n",
      " {'2021_Total_Spend': 414.0,\n",
      "  '2021_Visits': 24,\n",
      "  'Address': '45557 Ashley Heights',\n",
      "  'Customer_First': 'Corene',\n",
      "  'Customer_Last': 'Effertz',\n",
      "  'Email': 'znelson@yahoo.com',\n",
      "  'Pet_Type': 'dog',\n",
      "  '_id': ObjectId('648bdf8a0774ffce7dee1916')},\n",
      " {'2021_Total_Spend': 431.25,\n",
      "  '2021_Visits': 25,\n",
      "  'Address': '340 Butler Field',\n",
      "  'Customer_First': 'Whitney',\n",
      "  'Customer_Last': 'Stamm',\n",
      "  'Email': 'rebekahsmith@hotmail.com',\n",
      "  'Pet_Type': 'dog',\n",
      "  '_id': ObjectId('648bdf8a0774ffce7dee188c')}]\n"
     ]
    }
   ],
   "source": [
    "# Create a query that finds customers who spent less than $500 and had more than 20 visits in 2021\n",
    "query = {\n",
    "    '2021_Total_Spend': {'$lt': 500},\n",
    "    '2021_Visits': {'$gt':20}\n",
    "}\n",
    "\n",
    "# Remove the 'Address' and 'Email' fields from the results\n",
    "fields = {'Address': 0, 'Email':0}\n",
    "\n",
    "# sort in ascending order by '2021_Visits', '2021_Total_Spend'\n",
    "sort = [('2021_Visits', 1), ('2021_Total_Spend', 1)]\n",
    "\n",
    "# limit the results to the first 8\n",
    "limit = 8\n",
    "\n",
    "# Pretty print the results\n",
    "pprint(list(customers.find(query).sort(sort).limit(limit)))"
   ]
  },
  {
   "cell_type": "code",
   "execution_count": null,
   "id": "2e9c75ee",
   "metadata": {},
   "outputs": [],
   "source": []
  }
 ],
 "metadata": {
  "kernelspec": {
   "display_name": "Python 3 (ipykernel)",
   "language": "python",
   "name": "python3"
  },
  "language_info": {
   "codemirror_mode": {
    "name": "ipython",
    "version": 3
   },
   "file_extension": ".py",
   "mimetype": "text/x-python",
   "name": "python",
   "nbconvert_exporter": "python",
   "pygments_lexer": "ipython3",
   "version": "3.10.10"
  }
 },
 "nbformat": 4,
 "nbformat_minor": 5
}
