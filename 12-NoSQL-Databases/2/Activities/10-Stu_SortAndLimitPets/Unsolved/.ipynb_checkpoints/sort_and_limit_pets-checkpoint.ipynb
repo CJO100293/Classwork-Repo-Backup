{
 "cells": [
  {
   "cell_type": "code",
   "execution_count": 1,
   "id": "d17273e7",
   "metadata": {},
   "outputs": [],
   "source": [
    "# Import dependencies\n",
    "from pymongo import MongoClient\n",
    "from pprint import pprint"
   ]
  },
  {
   "cell_type": "code",
   "execution_count": 2,
   "id": "2fb5655e",
   "metadata": {},
   "outputs": [],
   "source": [
    "# Create an instance of MongoClient\n",
    "mongo = MongoClient(port=27017)"
   ]
  },
  {
   "cell_type": "code",
   "execution_count": 3,
   "id": "64e86434",
   "metadata": {},
   "outputs": [
    {
     "name": "stdout",
     "output_type": "stream",
     "text": [
      "['admin', 'autosaurus', 'classDB', 'config', 'epa', 'fruits_db', 'local', 'petsitly_marketing']\n"
     ]
    }
   ],
   "source": [
    "# confirm that the \"autosaurus\" database is in MongoDB\n",
    "print(mongo.list_database_names())"
   ]
  },
  {
   "cell_type": "code",
   "execution_count": 4,
   "id": "1d9a3dde",
   "metadata": {},
   "outputs": [],
   "source": [
    "# assign the database to a variable name\n",
    "db = mongo['petsitly_marketing']"
   ]
  },
  {
   "cell_type": "code",
   "execution_count": 5,
   "id": "aa8d0ad7",
   "metadata": {},
   "outputs": [
    {
     "name": "stdout",
     "output_type": "stream",
     "text": [
      "['customer_list']\n"
     ]
    }
   ],
   "source": [
    "# review the collections in our new database\n",
    "print(db.list_collection_names())"
   ]
  },
  {
   "cell_type": "code",
   "execution_count": 6,
   "id": "90ccf45c",
   "metadata": {},
   "outputs": [],
   "source": [
    "# assign the collection to a variable\n",
    "customers = db['customer_list']"
   ]
  },
  {
   "cell_type": "code",
   "execution_count": null,
   "id": "35a2cc6a",
   "metadata": {},
   "outputs": [],
   "source": [
    "# Create a query that finds customers who have cats or dogs\n",
    "\n",
    "\n",
    "# sort in descending order by 2021_Total_Spend\n",
    "\n",
    "\n",
    "# limit the results to the first 5\n",
    "\n",
    "\n",
    "# Pretty print the results\n"
   ]
  },
  {
   "cell_type": "code",
   "execution_count": null,
   "id": "a32c3d95",
   "metadata": {},
   "outputs": [],
   "source": [
    "# Create a query that finds customers who spent less than $500 in 2021\n",
    "\n",
    "\n",
    "# sort in ascending order by Customer_Last\n",
    "\n",
    "\n",
    "# limit the results to the first 5\n",
    "\n",
    "\n",
    "# Pretty print the results\n"
   ]
  },
  {
   "cell_type": "code",
   "execution_count": null,
   "id": "5d327858",
   "metadata": {},
   "outputs": [],
   "source": [
    "# Create a query that finds customers who spent less than $500 and had more than 20 visits in 2021\n",
    "\n",
    "\n",
    "# Remove the 'Address' and 'Email' fields from the results\n",
    "\n",
    "\n",
    "# sort in ascending order by '2021_Visits', '2021_Total_Spend'\n",
    "\n",
    "\n",
    "# limit the results to the first 8\n",
    "\n",
    "\n",
    "# Pretty print the results\n"
   ]
  },
  {
   "cell_type": "code",
   "execution_count": null,
   "id": "2e9c75ee",
   "metadata": {},
   "outputs": [],
   "source": []
  }
 ],
 "metadata": {
  "kernelspec": {
   "display_name": "Python 3 (ipykernel)",
   "language": "python",
   "name": "python3"
  },
  "language_info": {
   "codemirror_mode": {
    "name": "ipython",
    "version": 3
   },
   "file_extension": ".py",
   "mimetype": "text/x-python",
   "name": "python",
   "nbconvert_exporter": "python",
   "pygments_lexer": "ipython3",
   "version": "3.10.10"
  }
 },
 "nbformat": 4,
 "nbformat_minor": 5
}
