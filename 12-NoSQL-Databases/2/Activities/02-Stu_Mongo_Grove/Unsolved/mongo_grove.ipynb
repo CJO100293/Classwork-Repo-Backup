{
 "cells": [
  {
   "cell_type": "code",
   "execution_count": 1,
   "metadata": {},
   "outputs": [],
   "source": [
    "# Import dependencies\n",
    "from pymongo import MongoClient\n",
    "import datetime"
   ]
  },
  {
   "cell_type": "code",
   "execution_count": 6,
   "metadata": {},
   "outputs": [],
   "source": [
    "# The default port used by MongoDB is 27017\n",
    "# https://docs.mongodb.com/manual/reference/default-mongodb-port/\n",
    "mongo = MongoClient(port=27017)\n",
    "\n",
    "# Declare the database\n",
    "db = mongo.fruits_db\n",
    "\n",
    "# Declare the collection\n",
    "#fruits = db.fruits"
   ]
  },
  {
   "cell_type": "code",
   "execution_count": 7,
   "metadata": {},
   "outputs": [
    {
     "data": {
      "text/plain": [
       "<pymongo.results.InsertOneResult at 0x7fa5084accc0>"
      ]
     },
     "execution_count": 7,
     "metadata": {},
     "output_type": "execute_result"
    }
   ],
   "source": [
    "# A dictionary that represents the document to be inserted\n",
    "post = {\n",
    "    'vendor': 'fruit star',\n",
    "    'fruit': 'raspberry',\n",
    "    'case_quantity': 21,\n",
    "    'ripeness': 2,\n",
    "    'date': datetime.datetime.utcnow()\n",
    "}\n",
    "\n",
    "# Pass the dictionary into `insert_one` to insert the document into the database\n",
    "# The database and collection, if they don't already exist, will be created at this point.\n",
    "# fruits.insert_one()\n",
    "db.fruits.insert_one(post)"
   ]
  },
  {
   "cell_type": "code",
   "execution_count": 9,
   "metadata": {},
   "outputs": [
    {
     "name": "stdout",
     "output_type": "stream",
     "text": [
      "What is the vendor name: another random person\n",
      "What is the type of fruit: durians\n",
      "How many cases were received: 5\n",
      "What is the ripeness of fruit (1 is unripe; 2 is ripe, 3 is over-ripe): 1\n"
     ]
    },
    {
     "data": {
      "text/plain": [
       "<pymongo.results.InsertOneResult at 0x7fa4f8913bc0>"
      ]
     },
     "execution_count": 9,
     "metadata": {},
     "output_type": "execute_result"
    }
   ],
   "source": [
    "# Ask the user for input. Store information into variables.\n",
    "vendor = input('What is the vendor name: ')\n",
    "fruit_type = input('What is the type of fruit: ')\n",
    "quantity = input('How many cases were received: ')\n",
    "ripeness = input('What is the ripeness of fruit (1 is unripe; 2 is ripe, 3 is over-ripe): ')\n",
    "\n",
    "# A dictionary that will become a MongoDB document\n",
    "post = {\n",
    "    'vendor': vendor,\n",
    "    'fruit': fruit_type,\n",
    "    'case_quantity': quantity,\n",
    "    'ripeness': ripeness,\n",
    "    'date': datetime.datetime.utcnow()\n",
    "}\n",
    "\n",
    "# Insert document into collection\n",
    "db.fruits.insert_one(post)"
   ]
  },
  {
   "cell_type": "code",
   "execution_count": 10,
   "metadata": {},
   "outputs": [
    {
     "name": "stdout",
     "output_type": "stream",
     "text": [
      "{'_id': ObjectId('648bc549a59f4f41bc24cf1e'), 'vendor': 'fruit star', 'fruit': 'raspberry', 'case_quantity': 21, 'ripeness': 2, 'date': datetime.datetime(2023, 6, 16, 2, 13, 29, 661000)}\n",
      "{'_id': ObjectId('648bc58ba59f4f41bc24cf20'), 'vendor': 'fruit star', 'fruit': 'raspberry', 'case_quantity': 21, 'ripeness': 2, 'date': datetime.datetime(2023, 6, 16, 2, 14, 35, 109000)}\n",
      "{'_id': ObjectId('648bc5eea59f4f41bc24cf21'), 'vendor': 'whatever', 'fruit': 'apples', 'case_quantity': '10', 'ripeness': '3', 'date': datetime.datetime(2023, 6, 16, 2, 16, 14, 73000)}\n",
      "{'_id': ObjectId('648bc61ba59f4f41bc24cf22'), 'vendor': 'another random person', 'fruit': 'durians', 'case_quantity': '5', 'ripeness': '1', 'date': datetime.datetime(2023, 6, 16, 2, 16, 59, 154000)}\n"
     ]
    }
   ],
   "source": [
    "# Verify results:\n",
    "results = db.fruits.find()\n",
    "for result in results:\n",
    "    print(result)"
   ]
  },
  {
   "cell_type": "code",
   "execution_count": null,
   "metadata": {},
   "outputs": [],
   "source": []
  }
 ],
 "metadata": {
  "kernelspec": {
   "display_name": "Python 3 (ipykernel)",
   "language": "python",
   "name": "python3"
  },
  "language_info": {
   "codemirror_mode": {
    "name": "ipython",
    "version": 3
   },
   "file_extension": ".py",
   "mimetype": "text/x-python",
   "name": "python",
   "nbconvert_exporter": "python",
   "pygments_lexer": "ipython3",
   "version": "3.10.10"
  }
 },
 "nbformat": 4,
 "nbformat_minor": 2
}
