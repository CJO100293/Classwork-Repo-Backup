{
 "cells": [
  {
   "cell_type": "markdown",
   "id": "f30978cf",
   "metadata": {},
   "source": [
    "# Create a Mongo Database"
   ]
  },
  {
   "cell_type": "code",
   "execution_count": 1,
   "id": "d5aca895",
   "metadata": {},
   "outputs": [],
   "source": [
    "from pymongo import MongoClient"
   ]
  },
  {
   "cell_type": "code",
   "execution_count": 2,
   "id": "a093c3fd",
   "metadata": {},
   "outputs": [],
   "source": [
    "# Create an instance of MongoClient\n",
    "mongo = MongoClient(port=27017)"
   ]
  },
  {
   "cell_type": "code",
   "execution_count": 3,
   "id": "7975c76f",
   "metadata": {},
   "outputs": [
    {
     "name": "stdout",
     "output_type": "stream",
     "text": [
      "['admin', 'autosaurus', 'classDB', 'config', 'epa', 'fruits_db', 'local', 'petsitly_marketing']\n"
     ]
    }
   ],
   "source": [
    "# confirm that our new database was created\n",
    "print(mongo.list_database_names())"
   ]
  },
  {
   "cell_type": "code",
   "execution_count": 5,
   "id": "575e1b57",
   "metadata": {},
   "outputs": [
    {
     "data": {
      "text/plain": [
       "Database(MongoClient(host=['localhost:27017'], document_class=dict, tz_aware=False, connect=True), 'petsitly_marketing')"
      ]
     },
     "execution_count": 5,
     "metadata": {},
     "output_type": "execute_result"
    }
   ],
   "source": [
    "# assign the petsitly_marketing database to a variable name\n",
    "db = mongo['petsitly_marketing']\n",
    "db"
   ]
  },
  {
   "cell_type": "code",
   "execution_count": 6,
   "id": "a6184d52",
   "metadata": {},
   "outputs": [
    {
     "data": {
      "text/plain": [
       "['customer_list']"
      ]
     },
     "execution_count": 6,
     "metadata": {},
     "output_type": "execute_result"
    }
   ],
   "source": [
    "# List the names of the collections in the database. \n",
    "# Be sure to use the variable name you assigned to your database to do this.\n",
    "db.list_collection_names()"
   ]
  },
  {
   "cell_type": "code",
   "execution_count": 8,
   "id": "b703c673",
   "metadata": {},
   "outputs": [
    {
     "data": {
      "text/plain": [
       "{'_id': ObjectId('648bca6c197ebcc12ef9aead'),\n",
       " 'Customer_First': 'Virgil',\n",
       " 'Customer_Last': 'Osinski',\n",
       " 'Address': '6981 Christina Summit Apt. 971',\n",
       " 'Email': 'susanlopez@gmail.com',\n",
       " '2021_Visits': 55,\n",
       " '2021_Total_Spend': 948.75,\n",
       " 'Pet_Type': 'cat'}"
      ]
     },
     "execution_count": 8,
     "metadata": {},
     "output_type": "execute_result"
    }
   ],
   "source": [
    "# review a document in the customer_list collection\n",
    "db.customer_list.find_one()\n",
    "db['customer_list'].find_one()"
   ]
  },
  {
   "cell_type": "code",
   "execution_count": 9,
   "id": "c78ee54e",
   "metadata": {},
   "outputs": [
    {
     "data": {
      "text/plain": [
       "Collection(Database(MongoClient(host=['localhost:27017'], document_class=dict, tz_aware=False, connect=True), 'petsitly_marketing'), 'customer_list')"
      ]
     },
     "execution_count": 9,
     "metadata": {},
     "output_type": "execute_result"
    }
   ],
   "source": [
    "# assign the collection to a variable\n",
    "customer_list = db['customer_list']\n",
    "customer_list"
   ]
  },
  {
   "cell_type": "code",
   "execution_count": 11,
   "id": "8d1342df",
   "metadata": {},
   "outputs": [
    {
     "data": {
      "text/plain": [
       "<pymongo.results.InsertOneResult at 0x7fed40186b80>"
      ]
     },
     "execution_count": 11,
     "metadata": {},
     "output_type": "execute_result"
    }
   ],
   "source": [
    "# insert a new customer\n",
    "new_customer = {'_id':3, 'Customer_First': 'Data', 'Customer_Last': 'Viz', \n",
    "                'Address': '55882 Valley Fields Dr', 'Email': 'dataviz@bootcamp.edu', \n",
    "                '2021_Visits': 75, '2021_Total_Spend': 2017.75, 'Pet_Type': 'cat'}\n",
    "customer_list.insert_one(new_customer)\n"
   ]
  },
  {
   "cell_type": "code",
   "execution_count": 12,
   "id": "30dad3e5",
   "metadata": {},
   "outputs": [
    {
     "name": "stdout",
     "output_type": "stream",
     "text": [
      "{'_id': 3, 'Customer_First': 'Data', 'Customer_Last': 'Viz', 'Address': '55882 Valley Fields Dr', 'Email': 'dataviz@bootcamp.edu', '2021_Visits': 75, '2021_Total_Spend': 2017.75, 'Pet_Type': 'cat'}\n"
     ]
    }
   ],
   "source": [
    "# Filter results by name (run this cell)\n",
    "query = {'Customer_First': 'Data'}\n",
    "results = customer_list.find(query)\n",
    "for result in results:\n",
    "    print(result)"
   ]
  },
  {
   "cell_type": "code",
   "execution_count": 13,
   "id": "e1c4c3e8",
   "metadata": {},
   "outputs": [
    {
     "name": "stdout",
     "output_type": "stream",
     "text": [
      "{'_id': ObjectId('648bca6c197ebcc12ef9aeb0'), 'Customer_First': 'Loni', 'Customer_Last': 'Hauck', 'Address': '10609 Joanna Manor', 'Email': 'sjohnson@hotmail.com', '2021_Visits': 76, '2021_Total_Spend': 1311.0, 'Pet_Type': 'turtle'}\n",
      "{'_id': ObjectId('648bca6c197ebcc12ef9aeb3'), 'Customer_First': 'Consuela', 'Customer_Last': 'Kunze', 'Address': '34500 Acevedo Plains', 'Email': 'ycruz@gmail.com', '2021_Visits': 26, '2021_Total_Spend': 448.5, 'Pet_Type': 'turtle'}\n",
      "{'_id': ObjectId('648bca6c197ebcc12ef9aec2'), 'Customer_First': 'Dora', 'Customer_Last': 'Walter', 'Address': '827 Juarez Radial Suite 343', 'Email': 'kristine10@gmail.com', '2021_Visits': 50, '2021_Total_Spend': 862.5, 'Pet_Type': 'turtle'}\n",
      "{'_id': ObjectId('648bca6c197ebcc12ef9aed8'), 'Customer_First': 'Carlene', 'Customer_Last': 'Gutmann', 'Address': '23904 Moore Coves', 'Email': 'patricialozano@hotmail.com', '2021_Visits': 20, '2021_Total_Spend': 345.0, 'Pet_Type': 'turtle'}\n",
      "{'_id': ObjectId('648bca6c197ebcc12ef9aef9'), 'Customer_First': 'Maria', 'Customer_Last': 'Wilkinson', 'Address': '5074 Turner Lakes', 'Email': 'warrenannette@yahoo.com', '2021_Visits': 70, '2021_Total_Spend': 1207.5, 'Pet_Type': 'turtle'}\n",
      "{'_id': ObjectId('648bca6c197ebcc12ef9aefa'), 'Customer_First': 'Ethen', 'Customer_Last': 'Gislason', 'Address': '90100 Michael Flat', 'Email': 'markpotter@gmail.com', '2021_Visits': 29, '2021_Total_Spend': 500.25, 'Pet_Type': 'turtle'}\n",
      "{'_id': ObjectId('648bca6c197ebcc12ef9aefd'), 'Customer_First': 'Jeri', 'Customer_Last': 'Emard', 'Address': '28564 Richard Trail Suite 044', 'Email': 'blewis@hotmail.com', '2021_Visits': 33, '2021_Total_Spend': 569.25, 'Pet_Type': 'turtle'}\n",
      "{'_id': ObjectId('648bca6c197ebcc12ef9af06'), 'Customer_First': 'Corinna', 'Customer_Last': 'Donnelly', 'Address': '6678 Barnes Plains', 'Email': 'belltina@gmail.com', '2021_Visits': 36, '2021_Total_Spend': 621.0, 'Pet_Type': 'turtle'}\n",
      "{'_id': ObjectId('648bca6c197ebcc12ef9af2f'), 'Customer_First': 'Jaelynn', 'Customer_Last': 'Schamberger', 'Address': '56306 Courtney Islands', 'Email': 'bailey91@gmail.com', '2021_Visits': 63, '2021_Total_Spend': 1086.75, 'Pet_Type': 'turtle'}\n",
      "{'_id': ObjectId('648bca6c197ebcc12ef9af34'), 'Customer_First': 'Shelva', 'Customer_Last': 'Hegmann', 'Address': '01245 Brown Branch', 'Email': 'teresawhite@hotmail.com', '2021_Visits': 18, '2021_Total_Spend': 310.5, 'Pet_Type': 'turtle'}\n",
      "{'_id': ObjectId('648bca6c197ebcc12ef9af37'), 'Customer_First': 'Corrina', 'Customer_Last': 'Schulist', 'Address': '6537 Jeffrey Isle', 'Email': 'hinesmisty@gmail.com', '2021_Visits': 79, '2021_Total_Spend': 1362.75, 'Pet_Type': 'turtle'}\n",
      "{'_id': ObjectId('648bca6c197ebcc12ef9af46'), 'Customer_First': 'Renae', 'Customer_Last': 'Harber', 'Address': '1473 Moore Island Suite 010', 'Email': 'randallward@yahoo.com', '2021_Visits': 4, '2021_Total_Spend': 69.0, 'Pet_Type': 'turtle'}\n",
      "{'_id': ObjectId('648bca6c197ebcc12ef9af53'), 'Customer_First': 'Jayvon', 'Customer_Last': 'Herman', 'Address': '896 Heather Extensions Apt. 149', 'Email': 'upayne@hotmail.com', '2021_Visits': 71, '2021_Total_Spend': 1224.75, 'Pet_Type': 'turtle'}\n",
      "{'_id': ObjectId('648bca6c197ebcc12ef9af57'), 'Customer_First': 'Antonina', 'Customer_Last': 'Roberts', 'Address': '075 Gail Springs', 'Email': 'donna34@yahoo.com', '2021_Visits': 54, '2021_Total_Spend': 931.5, 'Pet_Type': 'turtle'}\n",
      "{'_id': ObjectId('648bca6c197ebcc12ef9af6c'), 'Customer_First': 'Karrie', 'Customer_Last': 'Kihn', 'Address': '6902 William Fields Suite 210', 'Email': 'nlee@hotmail.com', '2021_Visits': 94, '2021_Total_Spend': 1621.5, 'Pet_Type': 'turtle'}\n",
      "{'_id': ObjectId('648bca6c197ebcc12ef9af71'), 'Customer_First': 'Eugenia', 'Customer_Last': 'Adams', 'Address': '9736 Nathaniel Cape Apt. 239', 'Email': 'xkramer@gmail.com', '2021_Visits': 90, '2021_Total_Spend': 1552.5, 'Pet_Type': 'turtle'}\n",
      "{'_id': ObjectId('648bca6c197ebcc12ef9af9a'), 'Customer_First': 'Anders', 'Customer_Last': 'Cronin', 'Address': '0027 Carrillo Fall Suite 216', 'Email': 'tyler75@hotmail.com', '2021_Visits': 89, '2021_Total_Spend': 1535.25, 'Pet_Type': 'turtle'}\n",
      "{'_id': ObjectId('648bca6c197ebcc12ef9afa2'), 'Customer_First': 'Helen', 'Customer_Last': 'Hirthe', 'Address': '0280 Stanley Rue', 'Email': 'millercorey@hotmail.com', '2021_Visits': 6, '2021_Total_Spend': 103.5, 'Pet_Type': 'turtle'}\n"
     ]
    }
   ],
   "source": [
    "# Find the number of customers with turtles\n",
    "query = {'Pet_Type': 'turtle'}\n",
    "results = customer_list.find(query)\n",
    "for result in results:\n",
    "    print(result)"
   ]
  },
  {
   "cell_type": "markdown",
   "id": "88bca31a",
   "metadata": {},
   "source": [
    "### Bonus: Try running queries to practice deleting entities from a Mongo database."
   ]
  },
  {
   "cell_type": "code",
   "execution_count": 14,
   "id": "f9af9fa4",
   "metadata": {},
   "outputs": [],
   "source": [
    "# Delete all the customers who have hamsters\n",
    "query = {'Pet_Type': 'hamster'}\n",
    "customer_list.delete_many(query)\n",
    "\n",
    "results = customer_list.find(query)\n",
    "for result in results:\n",
    "    print(result)"
   ]
  },
  {
   "cell_type": "code",
   "execution_count": 15,
   "id": "9ac83916",
   "metadata": {},
   "outputs": [
    {
     "data": {
      "text/plain": [
       "[]"
      ]
     },
     "execution_count": 15,
     "metadata": {},
     "output_type": "execute_result"
    }
   ],
   "source": [
    "# Delete a collection\n",
    "db.drop_collection('customer_list')\n",
    "db.list_collection_names()"
   ]
  },
  {
   "cell_type": "code",
   "execution_count": 16,
   "id": "7a6a6c16",
   "metadata": {},
   "outputs": [
    {
     "data": {
      "text/plain": [
       "['admin', 'autosaurus', 'classDB', 'config', 'epa', 'fruits_db', 'local']"
      ]
     },
     "execution_count": 16,
     "metadata": {},
     "output_type": "execute_result"
    }
   ],
   "source": [
    "# Delete the database\n",
    "mongo.drop_database('petsitly_marketing')\n",
    "mongo.list_database_names()"
   ]
  },
  {
   "cell_type": "code",
   "execution_count": null,
   "id": "cc4170a7",
   "metadata": {},
   "outputs": [],
   "source": []
  }
 ],
 "metadata": {
  "kernelspec": {
   "display_name": "Python 3 (ipykernel)",
   "language": "python",
   "name": "python3"
  },
  "language_info": {
   "codemirror_mode": {
    "name": "ipython",
    "version": 3
   },
   "file_extension": ".py",
   "mimetype": "text/x-python",
   "name": "python",
   "nbconvert_exporter": "python",
   "pygments_lexer": "ipython3",
   "version": "3.10.10"
  }
 },
 "nbformat": 4,
 "nbformat_minor": 5
}
