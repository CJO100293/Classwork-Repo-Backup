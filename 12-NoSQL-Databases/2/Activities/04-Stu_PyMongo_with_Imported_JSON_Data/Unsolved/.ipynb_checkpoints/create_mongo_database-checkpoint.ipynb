{
 "cells": [
  {
   "cell_type": "markdown",
   "id": "f30978cf",
   "metadata": {},
   "source": [
    "# Create a Mongo Database"
   ]
  },
  {
   "cell_type": "code",
   "execution_count": 1,
   "id": "d5aca895",
   "metadata": {},
   "outputs": [],
   "source": [
    "from pymongo import MongoClient"
   ]
  },
  {
   "cell_type": "code",
   "execution_count": 2,
   "id": "a093c3fd",
   "metadata": {},
   "outputs": [],
   "source": [
    "# Create an instance of MongoClient\n",
    "mongo = MongoClient(port=27017)"
   ]
  },
  {
   "cell_type": "code",
   "execution_count": 3,
   "id": "7975c76f",
   "metadata": {},
   "outputs": [
    {
     "name": "stdout",
     "output_type": "stream",
     "text": [
      "['admin', 'autosaurus', 'classDB', 'config', 'epa', 'fruits_db', 'local', 'petsitly_marketing']\n"
     ]
    }
   ],
   "source": [
    "# confirm that our new database was created\n",
    "print(mongo.list_database_names())"
   ]
  },
  {
   "cell_type": "code",
   "execution_count": 5,
   "id": "575e1b57",
   "metadata": {},
   "outputs": [
    {
     "data": {
      "text/plain": [
       "Database(MongoClient(host=['localhost:27017'], document_class=dict, tz_aware=False, connect=True), 'petsitly_marketing')"
      ]
     },
     "execution_count": 5,
     "metadata": {},
     "output_type": "execute_result"
    }
   ],
   "source": [
    "# assign the petsitly_marketing database to a variable name\n",
    "db = mongo['petsitly_marketing']\n",
    "db"
   ]
  },
  {
   "cell_type": "code",
   "execution_count": 6,
   "id": "a6184d52",
   "metadata": {},
   "outputs": [
    {
     "data": {
      "text/plain": [
       "['customer_list']"
      ]
     },
     "execution_count": 6,
     "metadata": {},
     "output_type": "execute_result"
    }
   ],
   "source": [
    "# List the names of the collections in the database. \n",
    "# Be sure to use the variable name you assigned to your database to do this.\n",
    "db.list_collection_names()"
   ]
  },
  {
   "cell_type": "code",
   "execution_count": 7,
   "id": "b703c673",
   "metadata": {},
   "outputs": [
    {
     "data": {
      "text/plain": [
       "{'_id': ObjectId('648bca6c197ebcc12ef9aead'),\n",
       " 'Customer_First': 'Virgil',\n",
       " 'Customer_Last': 'Osinski',\n",
       " 'Address': '6981 Christina Summit Apt. 971',\n",
       " 'Email': 'susanlopez@gmail.com',\n",
       " '2021_Visits': 55,\n",
       " '2021_Total_Spend': 948.75,\n",
       " 'Pet_Type': 'cat'}"
      ]
     },
     "execution_count": 7,
     "metadata": {},
     "output_type": "execute_result"
    }
   ],
   "source": [
    "# review a document in the customer_list collection\n",
    "db.customer_list.find_one()"
   ]
  },
  {
   "cell_type": "code",
   "execution_count": null,
   "id": "c78ee54e",
   "metadata": {},
   "outputs": [],
   "source": [
    "# assign the collection to a variable\n"
   ]
  },
  {
   "cell_type": "code",
   "execution_count": null,
   "id": "8d1342df",
   "metadata": {},
   "outputs": [],
   "source": [
    "# insert a new customer\n",
    "new_customer = {'_id':3, 'Customer_First': 'Data', 'Customer_Last': 'Viz', \n",
    "                'Address': '55882 Valley Fields Dr', 'Email': 'dataviz@bootcamp.edu', \n",
    "                '2021_Visits': 75, '2021_Total_Spend': 2017.75, 'Pet_Type': 'cat'}\n"
   ]
  },
  {
   "cell_type": "code",
   "execution_count": null,
   "id": "30dad3e5",
   "metadata": {},
   "outputs": [],
   "source": [
    "# Filter results by name (run this cell)\n",
    "query = {'Customer_First': 'Data'}\n",
    "results = customer_list.find(query)\n",
    "for result in results:\n",
    "    print(result)"
   ]
  },
  {
   "cell_type": "code",
   "execution_count": null,
   "id": "e1c4c3e8",
   "metadata": {},
   "outputs": [],
   "source": [
    "# Find the number of customers with turtles\n",
    "\n",
    "\n",
    "for result in results:\n",
    "    print(result)"
   ]
  },
  {
   "cell_type": "markdown",
   "id": "88bca31a",
   "metadata": {},
   "source": [
    "### Bonus: Try running queries to practice deleting entities from a Mongo database."
   ]
  },
  {
   "cell_type": "code",
   "execution_count": null,
   "id": "f9af9fa4",
   "metadata": {},
   "outputs": [],
   "source": [
    "# Delete all the customers who have hamsters\n",
    "\n",
    "\n",
    "\n",
    "for result in results:\n",
    "    print(result)"
   ]
  },
  {
   "cell_type": "code",
   "execution_count": null,
   "id": "9ac83916",
   "metadata": {},
   "outputs": [],
   "source": [
    "# Delete a collection\n"
   ]
  },
  {
   "cell_type": "code",
   "execution_count": null,
   "id": "7a6a6c16",
   "metadata": {},
   "outputs": [],
   "source": [
    "# Delete the database\n"
   ]
  },
  {
   "cell_type": "code",
   "execution_count": null,
   "id": "cc4170a7",
   "metadata": {},
   "outputs": [],
   "source": []
  }
 ],
 "metadata": {
  "kernelspec": {
   "display_name": "Python 3 (ipykernel)",
   "language": "python",
   "name": "python3"
  },
  "language_info": {
   "codemirror_mode": {
    "name": "ipython",
    "version": 3
   },
   "file_extension": ".py",
   "mimetype": "text/x-python",
   "name": "python",
   "nbconvert_exporter": "python",
   "pygments_lexer": "ipython3",
   "version": "3.10.10"
  }
 },
 "nbformat": 4,
 "nbformat_minor": 5
}
