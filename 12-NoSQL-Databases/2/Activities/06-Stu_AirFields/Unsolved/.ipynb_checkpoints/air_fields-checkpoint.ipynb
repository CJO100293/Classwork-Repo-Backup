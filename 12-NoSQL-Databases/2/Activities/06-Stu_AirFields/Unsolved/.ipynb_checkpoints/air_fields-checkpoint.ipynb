{
 "cells": [
  {
   "cell_type": "code",
   "execution_count": 1,
   "id": "6e9ea157",
   "metadata": {},
   "outputs": [],
   "source": [
    "# Import dependencies\n",
    "from pymongo import MongoClient\n",
    "from pprint import pprint"
   ]
  },
  {
   "cell_type": "code",
   "execution_count": 2,
   "id": "29c1d434",
   "metadata": {},
   "outputs": [],
   "source": [
    "# Create an instance of MongoClient\n",
    "mongo = MongoClient(port=27017)"
   ]
  },
  {
   "cell_type": "code",
   "execution_count": 3,
   "id": "000d795b",
   "metadata": {},
   "outputs": [
    {
     "name": "stdout",
     "output_type": "stream",
     "text": [
      "['admin', 'autosaurus', 'classDB', 'config', 'epa', 'fruits_db', 'local']\n"
     ]
    }
   ],
   "source": [
    "# confirm that the \"epa\" database is in MongoDB\n",
    "print(mongo.list_database_names())"
   ]
  },
  {
   "cell_type": "code",
   "execution_count": 4,
   "id": "a0c622de",
   "metadata": {},
   "outputs": [],
   "source": [
    "# assign the database to a variable name\n",
    "db = mongo['epa']"
   ]
  },
  {
   "cell_type": "code",
   "execution_count": 5,
   "id": "dc4494f0",
   "metadata": {},
   "outputs": [
    {
     "name": "stdout",
     "output_type": "stream",
     "text": [
      "['ohio_daily_records', 'annual_aqi_by_county', 'ohio_air']\n"
     ]
    }
   ],
   "source": [
    "# review the collections in our database\n",
    "print(db.list_collection_names())"
   ]
  },
  {
   "cell_type": "code",
   "execution_count": null,
   "id": "b40161a9",
   "metadata": {},
   "outputs": [],
   "source": [
    "# assign each collection to a variable\n",
    "ohio_daily_records = db['ohio_daily_records']\n",
    "ohio_air = db['ohio_air']\n",
    "annual_aqi_by_county = db['annual_aqi_by_county']"
   ]
  },
  {
   "cell_type": "code",
   "execution_count": null,
   "id": "89e3baeb",
   "metadata": {},
   "outputs": [],
   "source": [
    "# Display the total number of documents in the annual_aqi_by_county collection\n"
   ]
  },
  {
   "cell_type": "code",
   "execution_count": null,
   "id": "be065388",
   "metadata": {},
   "outputs": [],
   "source": [
    "# Create a query that finds the documents that have a \"parameter\" of \"Sulfur dioxide\" in the ohio_air collection\n",
    "\n",
    "\n",
    "# Print the number of results\n"
   ]
  },
  {
   "cell_type": "code",
   "execution_count": null,
   "id": "351c8f8e",
   "metadata": {},
   "outputs": [],
   "source": [
    "# Pretty print just the first result from the Sulfur dioxide query using list indexing\n"
   ]
  },
  {
   "cell_type": "code",
   "execution_count": null,
   "id": "23666c0e",
   "metadata": {},
   "outputs": [],
   "source": [
    "# Select only the 'parameter', 'units_of_measure', 'observation_count', 'date_local', 'local_site_name', \n",
    "# 'site_address', 'city', and 'county' fields from the ohio_air collection\n",
    "\n",
    "\n",
    "# Capture the results to a variable\n",
    "\n",
    "\n",
    "# Pretty print the first two results\n"
   ]
  },
  {
   "cell_type": "code",
   "execution_count": null,
   "id": "690c6101",
   "metadata": {},
   "outputs": [],
   "source": [
    "# Select every field from the ohio_daily_records collection except the \"COUNTY_CODE\" and \"STATE_CODE\" fields\n",
    "\n",
    "\n",
    "# Capture the results to a variable\n",
    "\n",
    "\n",
    "# Pretty print the first two results\n"
   ]
  },
  {
   "cell_type": "code",
   "execution_count": null,
   "id": "3a36becf",
   "metadata": {},
   "outputs": [],
   "source": [
    "# Change the data type from String to Double for CO.PERCENT_COMPLETE \n",
    "# and from String to Int for CO.DAILY_AQI_VALUE\n",
    "# in the ohio_daily_records collection\n"
   ]
  },
  {
   "cell_type": "code",
   "execution_count": null,
   "id": "5f35b6a2",
   "metadata": {},
   "outputs": [],
   "source": [
    "# Create a query that finds the documents in the ohio_daily_records collection \n",
    "# where CO.UNITS matches \"ppm\" and NO2.UNITS matches \"ppb\", and \n",
    "# select only the following fields: \"CBSA_NAME\", \"COUNTY\", \"Site Name\", \"Date\", \"CO\", \"NO2\", and \"SO2\". \n",
    "\n",
    "\n",
    "# Capture the results to a variable\n",
    "\n",
    "\n",
    "# Pretty print the first two results\n"
   ]
  },
  {
   "cell_type": "code",
   "execution_count": null,
   "id": "153ab633",
   "metadata": {},
   "outputs": [],
   "source": [
    "# Create a query that finds the documents where the \"State\" is \"Ohio\" in the annual_aqi_by_county collection \n",
    "# and returns only the \"County,\" \"State,\" \"Days with AQI,\" and \"Max AQI\" fields\n",
    "\n",
    "\n",
    "# Capture the results to a variable\n",
    "\n",
    "\n",
    "# Pretty print the first four results\n"
   ]
  },
  {
   "cell_type": "code",
   "execution_count": null,
   "id": "64d669de",
   "metadata": {},
   "outputs": [],
   "source": []
  }
 ],
 "metadata": {
  "kernelspec": {
   "display_name": "Python 3 (ipykernel)",
   "language": "python",
   "name": "python3"
  },
  "language_info": {
   "codemirror_mode": {
    "name": "ipython",
    "version": 3
   },
   "file_extension": ".py",
   "mimetype": "text/x-python",
   "name": "python",
   "nbconvert_exporter": "python",
   "pygments_lexer": "ipython3",
   "version": "3.10.10"
  }
 },
 "nbformat": 4,
 "nbformat_minor": 5
}
