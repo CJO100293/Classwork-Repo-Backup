{
 "cells": [
  {
   "cell_type": "code",
   "execution_count": 1,
   "id": "3ef948f0",
   "metadata": {},
   "outputs": [],
   "source": [
    "# Import dependencies\n",
    "from pymongo import MongoClient\n",
    "from pprint import pprint\n",
    "import pandas as pd"
   ]
  },
  {
   "cell_type": "code",
   "execution_count": 2,
   "id": "f8f7234a",
   "metadata": {},
   "outputs": [],
   "source": [
    "# Create an instance of MongoClient\n",
    "mongo = MongoClient(port=27017)\n",
    "\n",
    "# assign the met database to a variable name\n",
    "db = mongo['met']\n",
    "\n",
    "# assign the collection to a variable\n",
    "artifacts = db['artifacts']"
   ]
  },
  {
   "cell_type": "code",
   "execution_count": 3,
   "id": "58d6c4d0",
   "metadata": {},
   "outputs": [],
   "source": [
    "# Write an aggregation query that counts the number of documents, grouped by \"classification\"\n",
    "query = [{'$group':{'_id':\"$classification\",'count':{ \"$sum\": 1 }}}]"
   ]
  },
  {
   "cell_type": "code",
   "execution_count": 4,
   "id": "e522f2a8",
   "metadata": {},
   "outputs": [],
   "source": [
    "# Run the query with the aggregate method and save the results to a variable\n",
    "results = list(artifacts.aggregate(query))"
   ]
  },
  {
   "cell_type": "code",
   "execution_count": 5,
   "id": "20d84432",
   "metadata": {},
   "outputs": [
    {
     "name": "stdout",
     "output_type": "stream",
     "text": [
      "Number of classifications in result:  64\n"
     ]
    }
   ],
   "source": [
    "# Print the number of classifications in the result\n",
    "print(\"Number of classifications in result: \", len(results))"
   ]
  },
  {
   "cell_type": "code",
   "execution_count": 6,
   "id": "f636a60c",
   "metadata": {},
   "outputs": [
    {
     "name": "stdout",
     "output_type": "stream",
     "text": [
      "[{'_id': 'Wood-Musical Instruments', 'count': 10},\n",
      " {'_id': 'Shell-Ornaments', 'count': 16},\n",
      " {'_id': 'Stone-Ornaments', 'count': 15},\n",
      " {'_id': 'Wood-Containers', 'count': 11},\n",
      " {'_id': 'Metalwork-Sculpture', 'count': 1},\n",
      " {'_id': 'Wood-Costumes', 'count': 3},\n",
      " {'_id': 'Stone-Vessels', 'count': 2},\n",
      " {'_id': 'Textiles-Beadwork', 'count': 2},\n",
      " {'_id': 'Wood-Vessels', 'count': 1},\n",
      " {'_id': 'Hide-Implements', 'count': 1},\n",
      " {'_id': 'Bone/Ivory-Musical Instruments', 'count': 11},\n",
      " {'_id': 'Ceramics-Containers', 'count': 138},\n",
      " {'_id': 'Metal-Ornaments', 'count': 184},\n",
      " {'_id': 'Gourd-Sculpture', 'count': 1},\n",
      " {'_id': 'Textiles', 'count': 22},\n",
      " {'_id': 'Stone-Implements', 'count': 7},\n",
      " {'_id': 'Bone/Ivory-Ornaments', 'count': 31},\n",
      " {'_id': 'Metal', 'count': 1},\n",
      " {'_id': 'Paper-Drawings', 'count': 2},\n",
      " {'_id': 'Hide-Documents', 'count': 1},\n",
      " {'_id': 'Wood-Architectural', 'count': 11},\n",
      " {'_id': 'Hide-Costumes', 'count': 2},\n",
      " {'_id': 'Ceramics-Implements', 'count': 8},\n",
      " {'_id': 'Metal-Musical Instruments', 'count': 3},\n",
      " {'_id': 'Paper-Paintings', 'count': 2},\n",
      " {'_id': 'Shell', 'count': 6},\n",
      " {'_id': 'Hide-Sculpture', 'count': 3},\n",
      " {'_id': 'Wood-Sculpture', 'count': 217},\n",
      " {'_id': 'Wood-Ornaments', 'count': 5},\n",
      " {'_id': 'Bone/Ivory-Containers', 'count': 11},\n",
      " {'_id': 'Beads-Costumes', 'count': 6},\n",
      " {'_id': 'Stone-Sculpture', 'count': 49},\n",
      " {'_id': 'Woodwork-Miscellany', 'count': 1},\n",
      " {'_id': 'Ceramics-Musical Instruments', 'count': 4},\n",
      " {'_id': 'Bark-Paintings', 'count': 276},\n",
      " {'_id': 'Costumes', 'count': 1},\n",
      " {'_id': 'Metal-Sculpture', 'count': 18},\n",
      " {'_id': 'Wood-Implements', 'count': 27},\n",
      " {'_id': 'Ceramics-Ornaments', 'count': 1},\n",
      " {'_id': 'Wood-Furniture', 'count': 10},\n",
      " {'_id': 'Barkcloth', 'count': 1},\n",
      " {'_id': 'Metal-Containers', 'count': 8},\n",
      " {'_id': 'Ceramics-Sculpture', 'count': 20},\n",
      " {'_id': 'Beads-Ornaments', 'count': 1},\n",
      " {'_id': 'Woodwork', 'count': 1},\n",
      " {'_id': 'Wood', 'count': 1},\n",
      " {'_id': 'Wood-Paintings', 'count': 1},\n",
      " {'_id': 'Textiles-Implements', 'count': 1},\n",
      " {'_id': 'Metal-Implements', 'count': 19},\n",
      " {'_id': 'Textiles-Costumes-Accessories', 'count': 1},\n",
      " {'_id': 'Woodwork-Furniture', 'count': 1},\n",
      " {'_id': 'Shell-Implements', 'count': 2},\n",
      " {'_id': 'Bone/Ivory-Implements', 'count': 21},\n",
      " {'_id': 'Sculpture-Sheet metal', 'count': 6},\n",
      " {'_id': 'Stone-Containers', 'count': 5},\n",
      " {'_id': 'Ivory', 'count': 2},\n",
      " {'_id': 'Bark-Sculpture', 'count': 3},\n",
      " {'_id': 'Basketry-Containers', 'count': 4},\n",
      " {'_id': 'Feathers-Costumes', 'count': 1},\n",
      " {'_id': 'Parchment', 'count': 1},\n",
      " {'_id': 'Bone/Ivory-Sculpture', 'count': 59},\n",
      " {'_id': 'Basketry-Sculpture', 'count': 1},\n",
      " {'_id': 'Textiles-Woven', 'count': 47},\n",
      " {'_id': 'Textiles-Costumes', 'count': 7}]\n"
     ]
    }
   ],
   "source": [
    "pprint(results)"
   ]
  },
  {
   "cell_type": "code",
   "execution_count": 7,
   "id": "e403ee13",
   "metadata": {},
   "outputs": [
    {
     "name": "stdout",
     "output_type": "stream",
     "text": [
      "[{'_id': 'Wood-Musical Instruments', 'count': 10},\n",
      " {'_id': 'Shell-Ornaments', 'count': 16},\n",
      " {'_id': 'Stone-Ornaments', 'count': 15},\n",
      " {'_id': 'Wood-Containers', 'count': 11},\n",
      " {'_id': 'Metalwork-Sculpture', 'count': 1},\n",
      " {'_id': 'Wood-Costumes', 'count': 3},\n",
      " {'_id': 'Stone-Vessels', 'count': 2},\n",
      " {'_id': 'Textiles-Beadwork', 'count': 2},\n",
      " {'_id': 'Wood-Vessels', 'count': 1},\n",
      " {'_id': 'Hide-Implements', 'count': 1}]\n"
     ]
    }
   ],
   "source": [
    "# Print the first 10 results\n",
    "pprint(results[0:10])"
   ]
  },
  {
   "cell_type": "code",
   "execution_count": 8,
   "id": "ed3dfa60",
   "metadata": {},
   "outputs": [
    {
     "name": "stdout",
     "output_type": "stream",
     "text": [
      "Rows in DataFrame:  64\n"
     ]
    },
    {
     "data": {
      "text/html": [
       "<div>\n",
       "<style scoped>\n",
       "    .dataframe tbody tr th:only-of-type {\n",
       "        vertical-align: middle;\n",
       "    }\n",
       "\n",
       "    .dataframe tbody tr th {\n",
       "        vertical-align: top;\n",
       "    }\n",
       "\n",
       "    .dataframe thead th {\n",
       "        text-align: right;\n",
       "    }\n",
       "</style>\n",
       "<table border=\"1\" class=\"dataframe\">\n",
       "  <thead>\n",
       "    <tr style=\"text-align: right;\">\n",
       "      <th></th>\n",
       "      <th>_id</th>\n",
       "      <th>count</th>\n",
       "    </tr>\n",
       "  </thead>\n",
       "  <tbody>\n",
       "    <tr>\n",
       "      <th>0</th>\n",
       "      <td>Wood-Musical Instruments</td>\n",
       "      <td>10</td>\n",
       "    </tr>\n",
       "    <tr>\n",
       "      <th>1</th>\n",
       "      <td>Shell-Ornaments</td>\n",
       "      <td>16</td>\n",
       "    </tr>\n",
       "    <tr>\n",
       "      <th>2</th>\n",
       "      <td>Stone-Ornaments</td>\n",
       "      <td>15</td>\n",
       "    </tr>\n",
       "    <tr>\n",
       "      <th>3</th>\n",
       "      <td>Wood-Containers</td>\n",
       "      <td>11</td>\n",
       "    </tr>\n",
       "    <tr>\n",
       "      <th>4</th>\n",
       "      <td>Metalwork-Sculpture</td>\n",
       "      <td>1</td>\n",
       "    </tr>\n",
       "    <tr>\n",
       "      <th>5</th>\n",
       "      <td>Wood-Costumes</td>\n",
       "      <td>3</td>\n",
       "    </tr>\n",
       "    <tr>\n",
       "      <th>6</th>\n",
       "      <td>Stone-Vessels</td>\n",
       "      <td>2</td>\n",
       "    </tr>\n",
       "    <tr>\n",
       "      <th>7</th>\n",
       "      <td>Textiles-Beadwork</td>\n",
       "      <td>2</td>\n",
       "    </tr>\n",
       "    <tr>\n",
       "      <th>8</th>\n",
       "      <td>Wood-Vessels</td>\n",
       "      <td>1</td>\n",
       "    </tr>\n",
       "    <tr>\n",
       "      <th>9</th>\n",
       "      <td>Hide-Implements</td>\n",
       "      <td>1</td>\n",
       "    </tr>\n",
       "  </tbody>\n",
       "</table>\n",
       "</div>"
      ],
      "text/plain": [
       "                        _id  count\n",
       "0  Wood-Musical Instruments     10\n",
       "1           Shell-Ornaments     16\n",
       "2           Stone-Ornaments     15\n",
       "3           Wood-Containers     11\n",
       "4       Metalwork-Sculpture      1\n",
       "5             Wood-Costumes      3\n",
       "6             Stone-Vessels      2\n",
       "7         Textiles-Beadwork      2\n",
       "8              Wood-Vessels      1\n",
       "9           Hide-Implements      1"
      ]
     },
     "execution_count": 8,
     "metadata": {},
     "output_type": "execute_result"
    }
   ],
   "source": [
    "# Convert mongo result to Pandas DataFrame\n",
    "result_df = pd.DataFrame(results)\n",
    "\n",
    "# Print out the length of the DataFrame\n",
    "print(\"Rows in DataFrame: \", len(result_df))\n",
    "\n",
    "# Display the first 10 rows of the DataFrame\n",
    "result_df.head(10)"
   ]
  },
  {
   "cell_type": "code",
   "execution_count": null,
   "id": "2816a449",
   "metadata": {},
   "outputs": [],
   "source": []
  },
  {
   "cell_type": "markdown",
   "id": "0753e7ff",
   "metadata": {},
   "source": [
    "Data Source: [The Metropolitan Museum of Art](https://www.metmuseum.org/) (2022). The Metropolitan Museum of Art Collection API https://metmuseum.github.io/. Licensed under the [Creative Commons 0 License](https://creativecommons.org/publicdomain/zero/1.0/).<br />\n",
    "Accessed Oct 3, 2022. Data collected from departmentId=5 (\"Arts of Africa, Oceania, and the Americas\") and search string \"animal\"."
   ]
  },
  {
   "cell_type": "code",
   "execution_count": null,
   "id": "d13b57fb",
   "metadata": {},
   "outputs": [],
   "source": []
  }
 ],
 "metadata": {
  "kernelspec": {
   "display_name": "Python 3 (ipykernel)",
   "language": "python",
   "name": "python3"
  },
  "language_info": {
   "codemirror_mode": {
    "name": "ipython",
    "version": 3
   },
   "file_extension": ".py",
   "mimetype": "text/x-python",
   "name": "python",
   "nbconvert_exporter": "python",
   "pygments_lexer": "ipython3",
   "version": "3.10.10"
  }
 },
 "nbformat": 4,
 "nbformat_minor": 5
}
