{
 "cells": [
  {
   "cell_type": "code",
   "execution_count": 1,
   "id": "799e9a11",
   "metadata": {},
   "outputs": [],
   "source": [
    "# Import dependencies\n",
    "from pymongo import MongoClient\n",
    "from pprint import pprint\n",
    "import pandas as pd"
   ]
  },
  {
   "cell_type": "code",
   "execution_count": 2,
   "id": "1241a7ee",
   "metadata": {},
   "outputs": [],
   "source": [
    "# Create an instance of MongoClient\n",
    "mongo = MongoClient(port=27017)\n",
    "\n",
    "# assign the met database to a variable name\n",
    "db = mongo['met']\n",
    "\n",
    "# assign the collection to a variable\n",
    "artifacts = db['artifacts']"
   ]
  },
  {
   "cell_type": "code",
   "execution_count": null,
   "id": "0ee73701",
   "metadata": {},
   "outputs": [],
   "source": [
    "# Write an aggregation query that counts the number of documents, grouped by \"country\"\n",
    "query = [{'$group': {'_id': \"$country\", 'count': { '$sum': 1 }}}]"
   ]
  },
  {
   "cell_type": "code",
   "execution_count": null,
   "id": "27929407",
   "metadata": {},
   "outputs": [],
   "source": [
    "# Run the query with the aggregate method and save the results to a variable\n",
    "results = list(artifacts.aggregate(query))"
   ]
  },
  {
   "cell_type": "code",
   "execution_count": null,
   "id": "b012b377",
   "metadata": {},
   "outputs": [],
   "source": [
    "# Print the number of countries in the result\n",
    "print(\"Number of countries in result: \", len(results))"
   ]
  },
  {
   "cell_type": "code",
   "execution_count": null,
   "id": "741062ca",
   "metadata": {},
   "outputs": [],
   "source": [
    "# Print the first 10 results\n",
    "pprint(results[0:10])"
   ]
  },
  {
   "cell_type": "code",
   "execution_count": null,
   "id": "7c9f17af",
   "metadata": {},
   "outputs": [],
   "source": [
    "# Convert mongo result to Pandas DataFrame\n",
    "result_df = pd.DataFrame(results)\n",
    "\n",
    "print(\"Rows in DataFrame: \", len(result_df))\n",
    "result_df.head(10)"
   ]
  },
  {
   "cell_type": "code",
   "execution_count": null,
   "id": "b7c10dfe",
   "metadata": {},
   "outputs": [],
   "source": []
  },
  {
   "cell_type": "markdown",
   "id": "8b367b10",
   "metadata": {},
   "source": [
    "Data Source: [The Metropolitan Museum of Art](https://www.metmuseum.org/) (2022). The Metropolitan Museum of Art Collection API https://metmuseum.github.io/. Licensed under the [Creative Commons 0 License](https://creativecommons.org/publicdomain/zero/1.0/).<br />\n",
    "Accessed Oct 3, 2022. Data collected from departmentId=5 (\"Arts of Africa, Oceania, and the Americas\") and search string \"animal\"."
   ]
  },
  {
   "cell_type": "code",
   "execution_count": null,
   "id": "a40b6978",
   "metadata": {},
   "outputs": [],
   "source": []
  }
 ],
 "metadata": {
  "kernelspec": {
   "display_name": "Python 3 (ipykernel)",
   "language": "python",
   "name": "python3"
  },
  "language_info": {
   "codemirror_mode": {
    "name": "ipython",
    "version": 3
   },
   "file_extension": ".py",
   "mimetype": "text/x-python",
   "name": "python",
   "nbconvert_exporter": "python",
   "pygments_lexer": "ipython3",
   "version": "3.10.10"
  }
 },
 "nbformat": 4,
 "nbformat_minor": 5
}
