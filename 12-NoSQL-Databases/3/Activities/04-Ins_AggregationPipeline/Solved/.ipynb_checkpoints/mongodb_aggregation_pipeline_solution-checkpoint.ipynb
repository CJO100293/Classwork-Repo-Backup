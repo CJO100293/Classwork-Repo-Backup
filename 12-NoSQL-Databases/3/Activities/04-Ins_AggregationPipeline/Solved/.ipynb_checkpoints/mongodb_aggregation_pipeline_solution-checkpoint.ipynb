{
 "cells": [
  {
   "cell_type": "code",
   "execution_count": 1,
   "id": "1b34d86e",
   "metadata": {},
   "outputs": [],
   "source": [
    "# Import dependencies\n",
    "from pymongo import MongoClient\n",
    "from pprint import pprint\n",
    "import pandas as pd"
   ]
  },
  {
   "cell_type": "code",
   "execution_count": 2,
   "id": "78c6c48a",
   "metadata": {},
   "outputs": [],
   "source": [
    "# Create an instance of MongoClient\n",
    "mongo = MongoClient(port=27017)\n",
    "\n",
    "# assign the met database to a variable name\n",
    "db = mongo['met']\n",
    "\n",
    "# assign the collection to a variable\n",
    "artifacts = db['artifacts']"
   ]
  },
  {
   "cell_type": "code",
   "execution_count": null,
   "id": "8ff39b7f",
   "metadata": {},
   "outputs": [],
   "source": [
    "# Build the aggregation pipeline\n",
    "# Write a match query to find only the documents about artifacts that have a width greater than or equal to 40cm.\n",
    "match_query = {'$match': {'measurements.elementMeasurements.Width': {'$gte': 40}}}\n",
    "\n",
    "# Write an aggregation query that counts the number of documents, grouped by \"country\"\n",
    "group_query = {'$group': {'_id': \"$country\", 'count': { '$sum': 1 }}}\n",
    "\n",
    "# Create a dictionary that will allow the pipeline to sort by count in descending order\n",
    "sort_values = {'$sort': { 'count': -1 }}\n",
    "\n",
    "# Put the pipeline together\n",
    "pipeline = [match_query, group_query, sort_values]\n"
   ]
  },
  {
   "cell_type": "code",
   "execution_count": null,
   "id": "195dca3e",
   "metadata": {},
   "outputs": [],
   "source": [
    "# Run the pipeline through the aggregate method and save the results to a variable\n",
    "results = list(artifacts.aggregate(pipeline))"
   ]
  },
  {
   "cell_type": "code",
   "execution_count": null,
   "id": "3b7efe17",
   "metadata": {},
   "outputs": [],
   "source": [
    "# Print the number of countries in the result\n",
    "print(\"Number of countries in result: \", len(results))"
   ]
  },
  {
   "cell_type": "code",
   "execution_count": null,
   "id": "952daf7c",
   "metadata": {},
   "outputs": [],
   "source": [
    "# Print the first 10 results\n",
    "pprint(results[0:10])"
   ]
  },
  {
   "cell_type": "code",
   "execution_count": null,
   "id": "c7ee0775",
   "metadata": {},
   "outputs": [],
   "source": [
    "# Convert mongo result to Pandas DataFrame\n",
    "result_df = pd.DataFrame(results)\n",
    "\n",
    "print(\"Rows in DataFrame: \", len(result_df))\n",
    "result_df.head(10)"
   ]
  },
  {
   "cell_type": "code",
   "execution_count": null,
   "id": "9834cff3",
   "metadata": {},
   "outputs": [],
   "source": []
  },
  {
   "cell_type": "markdown",
   "id": "c687029c",
   "metadata": {},
   "source": [
    "Data Source: [The Metropolitan Museum of Art](https://www.metmuseum.org/) (2022). The Metropolitan Museum of Art Collection API https://metmuseum.github.io/. Licensed under the [Creative Commons 0 License](https://creativecommons.org/publicdomain/zero/1.0/).<br />\n",
    "Accessed Oct 3, 2022. Data collected from departmentId=5 (\"Arts of Africa, Oceania, and the Americas\") and search string \"animal\"."
   ]
  },
  {
   "cell_type": "code",
   "execution_count": null,
   "id": "42e2f1bd",
   "metadata": {},
   "outputs": [],
   "source": []
  }
 ],
 "metadata": {
  "kernelspec": {
   "display_name": "Python 3 (ipykernel)",
   "language": "python",
   "name": "python3"
  },
  "language_info": {
   "codemirror_mode": {
    "name": "ipython",
    "version": 3
   },
   "file_extension": ".py",
   "mimetype": "text/x-python",
   "name": "python",
   "nbconvert_exporter": "python",
   "pygments_lexer": "ipython3",
   "version": "3.10.10"
  }
 },
 "nbformat": 4,
 "nbformat_minor": 5
}
