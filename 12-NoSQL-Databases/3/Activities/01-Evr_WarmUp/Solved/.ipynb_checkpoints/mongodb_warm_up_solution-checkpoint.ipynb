{
 "cells": [
  {
   "cell_type": "markdown",
   "id": "bb9a7195",
   "metadata": {},
   "source": [
    "Before running any of the following code, make sure you import the dataset with `mongoimport --type json -d met -c artifacts --drop --jsonArray artifacts.json`"
   ]
  },
  {
   "cell_type": "code",
   "execution_count": 1,
   "id": "96d309a3",
   "metadata": {},
   "outputs": [],
   "source": [
    "# Import dependencies\n",
    "from pymongo import MongoClient\n",
    "from pprint import pprint"
   ]
  },
  {
   "cell_type": "code",
   "execution_count": 2,
   "id": "e22557e5",
   "metadata": {},
   "outputs": [],
   "source": [
    "# Create an instance of MongoClient\n",
    "mongo = MongoClient(port=27017)"
   ]
  },
  {
   "cell_type": "code",
   "execution_count": 3,
   "id": "d837ee14",
   "metadata": {},
   "outputs": [
    {
     "name": "stdout",
     "output_type": "stream",
     "text": [
      "['admin', 'autosaurus', 'classDB', 'config', 'epa', 'fruits_db', 'local', 'met', 'petsitly_marketing']\n"
     ]
    }
   ],
   "source": [
    "# confirm that our new database was created\n",
    "print(mongo.list_database_names())"
   ]
  },
  {
   "cell_type": "code",
   "execution_count": 4,
   "id": "17a57bf4",
   "metadata": {},
   "outputs": [],
   "source": [
    "# assign the met database to a variable name\n",
    "db = mongo['met']"
   ]
  },
  {
   "cell_type": "code",
   "execution_count": 5,
   "id": "f68f6011",
   "metadata": {},
   "outputs": [
    {
     "name": "stdout",
     "output_type": "stream",
     "text": [
      "['artifacts']\n"
     ]
    }
   ],
   "source": [
    "# review the collections in our new database\n",
    "print(db.list_collection_names())"
   ]
  },
  {
   "cell_type": "code",
   "execution_count": 6,
   "id": "2be73f8a",
   "metadata": {},
   "outputs": [
    {
     "name": "stdout",
     "output_type": "stream",
     "text": [
      "{'GalleryNumber': '',\n",
      " '_id': ObjectId('6492544db40d8bf948269fcb'),\n",
      " 'accessionNumber': '1987.394.543',\n",
      " 'accessionYear': '1987',\n",
      " 'additionalImages': [],\n",
      " 'artistAlphaSort': '',\n",
      " 'artistBeginDate': '',\n",
      " 'artistDisplayBio': '',\n",
      " 'artistDisplayName': '',\n",
      " 'artistEndDate': '',\n",
      " 'artistGender': '',\n",
      " 'artistNationality': '',\n",
      " 'artistPrefix': '',\n",
      " 'artistRole': '',\n",
      " 'artistSuffix': '',\n",
      " 'artistULAN_URL': '',\n",
      " 'artistWikidata_URL': '',\n",
      " 'city': '',\n",
      " 'classification': 'Metal-Ornaments',\n",
      " 'constituents': None,\n",
      " 'country': 'Peru',\n",
      " 'county': '',\n",
      " 'creditLine': 'Bequest of Jane Costello Goldberg, from the Collection of '\n",
      "               'Arnold I. Goldberg, 1986',\n",
      " 'culture': 'Peruvian',\n",
      " 'department': 'The Michael C. Rockefeller Wing',\n",
      " 'dimensions': 'H x W: 3 5/16 x 3 1/8in. (8.4 x 8cm)',\n",
      " 'dynasty': '',\n",
      " 'excavation': '',\n",
      " 'geographyType': '',\n",
      " 'isHighlight': False,\n",
      " 'isPublicDomain': True,\n",
      " 'isTimelineWork': False,\n",
      " 'linkResource': '',\n",
      " 'locale': '',\n",
      " 'locus': '',\n",
      " 'measurements': [{'elementDescription': None,\n",
      "                   'elementMeasurements': {'Height': 8.4137, 'Width': 8},\n",
      "                   'elementName': 'Overall'}],\n",
      " 'medium': 'Copper, gilt',\n",
      " 'metadataDate': '2020-09-16T18:35:19.457Z',\n",
      " 'objectBeginDate': 200,\n",
      " 'objectDate': 'A.D. 200–900',\n",
      " 'objectEndDate': 900,\n",
      " 'objectID': 314893,\n",
      " 'objectName': 'Disk',\n",
      " 'objectURL': 'https://www.metmuseum.org/art/collection/search/314893',\n",
      " 'objectWikidata_URL': '',\n",
      " 'period': '',\n",
      " 'portfolio': '',\n",
      " 'primaryImage': 'https://images.metmuseum.org/CRDImages/ao/original/VS1987_394_543.jpg',\n",
      " 'primaryImageSmall': 'https://images.metmuseum.org/CRDImages/ao/web-large/VS1987_394_543.jpg',\n",
      " 'region': '',\n",
      " 'reign': '',\n",
      " 'repository': 'Metropolitan Museum of Art, New York, NY',\n",
      " 'rightsAndReproduction': '',\n",
      " 'river': '',\n",
      " 'state': '',\n",
      " 'subregion': '',\n",
      " 'tags': [{'AAT_URL': 'http://vocab.getty.edu/page/aat/300249525',\n",
      "           'Wikidata_URL': 'https://www.wikidata.org/wiki/Q729',\n",
      "           'term': 'Animals'}],\n",
      " 'title': 'Animal Disk'}\n"
     ]
    }
   ],
   "source": [
    "# review a document in the artifacts collection\n",
    "pprint(db.artifacts.find_one())"
   ]
  },
  {
   "cell_type": "code",
   "execution_count": null,
   "id": "e8b5d39a",
   "metadata": {},
   "outputs": [],
   "source": [
    "# assign the collection to a variable\n",
    "artifacts = db['artifacts']"
   ]
  },
  {
   "cell_type": "markdown",
   "id": "e2817ac0",
   "metadata": {},
   "source": [
    "## Explore the Collection"
   ]
  },
  {
   "cell_type": "code",
   "execution_count": null,
   "id": "3ddd3b50",
   "metadata": {},
   "outputs": [],
   "source": [
    "# Find how many documents have culture as \"Nayarit\"\n",
    "Nayarit_documents = artifacts.count_documents({'culture': 'Nayarit'})\n",
    "Nayarit_documents"
   ]
  },
  {
   "cell_type": "code",
   "execution_count": null,
   "id": "98e6a673",
   "metadata": {},
   "outputs": [],
   "source": [
    "# Find how many documents have a height greater than or equal to 40cm\n",
    "height_gte_40_documents = artifacts.count_documents({'measurements.elementMeasurements.Height': {'$gte': 40}})\n",
    "height_gte_40_documents"
   ]
  },
  {
   "cell_type": "code",
   "execution_count": null,
   "id": "4fd8c6e3",
   "metadata": {},
   "outputs": [],
   "source": [
    "# Create a query that:\n",
    "# Finds the documents where the culture is \"Nayarit\" or \"Central American Isthmus\" and\n",
    "#     the height is less than or equal to 40cm\n",
    "# Returns only the following fields: \"title\", \"department\", \"culture\", \"measurements\", and \"objectURL\"\n",
    "# Sorts alphabetically by \"title\"\n",
    "# Limits the results to 5\n",
    "query = {'culture': {'$in': [\"Nayarit\", \"Central American Isthmus\"]},\n",
    "         'measurements.elementMeasurements.Height': {'$lte': 40}}\n",
    "fields = {\"title\": 1, \"department\": 1, \"culture\": 1, \"measurements\": 1, \"objectURL\": 1}\n",
    "sort = [(\"title\", 1)]\n",
    "limit = 5\n",
    "\n",
    "# Cast the results as a list and save the results to a variable\n",
    "results = list(artifacts.find(query, fields).sort(sort).limit(limit))\n",
    "\n",
    "# Pretty print the results\n",
    "pprint(results)"
   ]
  },
  {
   "cell_type": "markdown",
   "id": "5ed38811",
   "metadata": {},
   "source": [
    "Data Source: [The Metropolitan Museum of Art](https://www.metmuseum.org/) (2022). The Metropolitan Museum of Art Collection API https://metmuseum.github.io/. Licensed under the [Creative Commons 0 License](https://creativecommons.org/publicdomain/zero/1.0/).<br />\n",
    "Accessed Oct 3, 2022. Data collected from departmentId=5 (\"Arts of Africa, Oceania, and the Americas\") and search string \"animal\"."
   ]
  },
  {
   "cell_type": "code",
   "execution_count": null,
   "id": "cb899bc7",
   "metadata": {},
   "outputs": [],
   "source": []
  }
 ],
 "metadata": {
  "kernelspec": {
   "display_name": "Python 3 (ipykernel)",
   "language": "python",
   "name": "python3"
  },
  "language_info": {
   "codemirror_mode": {
    "name": "ipython",
    "version": 3
   },
   "file_extension": ".py",
   "mimetype": "text/x-python",
   "name": "python",
   "nbconvert_exporter": "python",
   "pygments_lexer": "ipython3",
   "version": "3.10.10"
  }
 },
 "nbformat": 4,
 "nbformat_minor": 5
}
