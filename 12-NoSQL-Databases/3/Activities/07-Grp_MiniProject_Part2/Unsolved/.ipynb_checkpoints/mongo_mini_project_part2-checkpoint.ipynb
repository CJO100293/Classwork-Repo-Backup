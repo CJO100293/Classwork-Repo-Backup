{
 "cells": [
  {
   "cell_type": "code",
   "execution_count": 1,
   "id": "7930b3ac",
   "metadata": {},
   "outputs": [],
   "source": [
    "# Import dependencies\n",
    "from pymongo import MongoClient\n",
    "from pprint import pprint\n",
    "import pandas as pd"
   ]
  },
  {
   "cell_type": "code",
   "execution_count": 2,
   "id": "9448ac8e",
   "metadata": {},
   "outputs": [],
   "source": [
    "# Create an instance of MongoClient\n",
    "mongo = MongoClient(port=27017)\n",
    "\n",
    "# assign the met database to a variable name\n",
    "db = mongo['met']\n",
    "\n",
    "# assign the collection to a variable\n",
    "artifacts = db['artifacts']"
   ]
  },
  {
   "cell_type": "markdown",
   "id": "5e13ffce",
   "metadata": {},
   "source": [
    "* Write a query that:\n",
    "\n",
    "    * Uses `find()` to find documents about artifacts that come from the \"Maya\" culture and returns the following fields: `accessionNumber`, `accessionYear`, `classification`, `country`, `department`, `measurements.elementMeasurements.Height`, `measurements.elementMeasurements.Width`, `measurements.elementMeasurements.Depth`, `medium`, `title`,`objectURL`.\n",
    "\n",
    "    * Uses `sort()` to sort by the artifact's height.\n",
    "\n",
    "    * Uses `limit()` to limit the number of results to 5."
   ]
  },
  {
   "cell_type": "code",
   "execution_count": null,
   "id": "869d111a",
   "metadata": {},
   "outputs": [],
   "source": [
    "# Query\n",
    "query = {'culture':'Maya'}\n",
    "\n",
    "# Cast the results as a list and save them to a variable\n",
    "\n",
    "\n",
    "# Pretty print the results\n"
   ]
  },
  {
   "cell_type": "code",
   "execution_count": null,
   "id": "ed656167",
   "metadata": {},
   "outputs": [],
   "source": [
    "# Convert results to DataFrame\n"
   ]
  },
  {
   "cell_type": "code",
   "execution_count": null,
   "id": "22d15d82",
   "metadata": {},
   "outputs": [],
   "source": [
    "# Build the aggregation pipeline\n",
    "# Write a match query to find only the documents about artifacts that\n",
    "# have a classification where \"Sculpture\" is contained the value, and\n",
    "# have a width greater than or equal to 10cm and less than 50cm, and\n",
    "# have a height greater than or equal to 20cm and less than 60cm.\n",
    "\n",
    "\n",
    "# Write an aggregation query that counts the number of documents, grouped by \"classification\" and \"culture\"\n",
    "\n",
    "\n",
    "# Create a dictionary that will allow the pipeline to sort by count in descending order\n",
    "\n",
    "\n",
    "# Put the pipeline together\n"
   ]
  },
  {
   "cell_type": "code",
   "execution_count": null,
   "id": "7fff3a0b",
   "metadata": {},
   "outputs": [],
   "source": [
    "# Run the pipeline through the aggregate method, cast the results as a list, and save the results to a variable\n"
   ]
  },
  {
   "cell_type": "code",
   "execution_count": null,
   "id": "99e73505",
   "metadata": {},
   "outputs": [],
   "source": [
    "# Print the number of rows in the result\n"
   ]
  },
  {
   "cell_type": "code",
   "execution_count": null,
   "id": "23abb818",
   "metadata": {},
   "outputs": [],
   "source": [
    "# Print the first 10 results\n"
   ]
  },
  {
   "cell_type": "code",
   "execution_count": null,
   "id": "b180c311",
   "metadata": {},
   "outputs": [],
   "source": [
    "# Extract the fields from the _id so they're in separate columns in a Pandas DataFrame\n"
   ]
  },
  {
   "cell_type": "code",
   "execution_count": null,
   "id": "97ed37ca",
   "metadata": {},
   "outputs": [],
   "source": [
    "# Rename the columns\n"
   ]
  },
  {
   "cell_type": "code",
   "execution_count": null,
   "id": "db9a77c4",
   "metadata": {},
   "outputs": [],
   "source": [
    "# Reorder the columns\n",
    "\n",
    "\n",
    "# Print the first 10 rows of the DataFrame\n"
   ]
  },
  {
   "cell_type": "code",
   "execution_count": null,
   "id": "965ae29f",
   "metadata": {},
   "outputs": [],
   "source": []
  },
  {
   "cell_type": "markdown",
   "id": "596b0eef",
   "metadata": {},
   "source": [
    "Data Source: [The Metropolitan Museum of Art](https://www.metmuseum.org/) (2022). The Metropolitan Museum of Art Collection API https://metmuseum.github.io/. Licensed under the [Creative Commons 0 License](https://creativecommons.org/publicdomain/zero/1.0/).<br />\n",
    "Accessed Oct 3, 2022. Data collected from departmentId=5 (\"Arts of Africa, Oceania, and the Americas\") and search string \"animal\"."
   ]
  }
 ],
 "metadata": {
  "kernelspec": {
   "display_name": "Python 3 (ipykernel)",
   "language": "python",
   "name": "python3"
  },
  "language_info": {
   "codemirror_mode": {
    "name": "ipython",
    "version": 3
   },
   "file_extension": ".py",
   "mimetype": "text/x-python",
   "name": "python",
   "nbconvert_exporter": "python",
   "pygments_lexer": "ipython3",
   "version": "3.10.10"
  }
 },
 "nbformat": 4,
 "nbformat_minor": 5
}
