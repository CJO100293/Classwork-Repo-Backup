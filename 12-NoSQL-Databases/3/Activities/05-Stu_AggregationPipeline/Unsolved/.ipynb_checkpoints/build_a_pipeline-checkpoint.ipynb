{
 "cells": [
  {
   "cell_type": "code",
   "execution_count": 1,
   "id": "160d69c3",
   "metadata": {},
   "outputs": [],
   "source": [
    "# Import dependencies\n",
    "from pymongo import MongoClient\n",
    "from pprint import pprint\n",
    "import pandas as pd"
   ]
  },
  {
   "cell_type": "code",
   "execution_count": 2,
   "id": "6545e857",
   "metadata": {},
   "outputs": [],
   "source": [
    "# Create an instance of MongoClient\n",
    "mongo = MongoClient(port=27017)\n",
    "\n",
    "# assign the met database to a variable name\n",
    "db = mongo['met']\n",
    "\n",
    "# assign the collection to a variable\n",
    "artifacts = db['artifacts']"
   ]
  },
  {
   "cell_type": "code",
   "execution_count": null,
   "id": "b6969c6b",
   "metadata": {},
   "outputs": [],
   "source": [
    "# Build the aggregation pipeline\n",
    "# Write a match query to find only the documents about artifacts that\n",
    "# have a classification where \"Wood\" is the value.\n",
    "match_query = {'$match': {'classification': {'$regex': \"Wood\"}}}\n",
    "\n",
    "# Write an aggregation query that counts the number of documents and finds the maximum height,\n",
    "# grouped by \"classification\"\n",
    "group_query = {'$group': {'_id': \"$classification\", 'count': { '$sum': 1 }, 'max_height':{'$max':'$measurements.elementMeasurements.Height'}}}\n",
    "\n",
    "# Create a dictionary that will allow the pipeline to sort by count in descending order, \n",
    "# then sort by classification in alphabetical order\n",
    "sort_values = {'$sort': { 'count': -1, '_id':1 }}\n",
    "\n",
    "# Put the pipeline together\n"
   ]
  },
  {
   "cell_type": "code",
   "execution_count": null,
   "id": "d1717983",
   "metadata": {},
   "outputs": [],
   "source": [
    "# Run the pipeline through the aggregate method and save the results to a variable\n"
   ]
  },
  {
   "cell_type": "code",
   "execution_count": null,
   "id": "242f3c1b",
   "metadata": {},
   "outputs": [],
   "source": [
    "# Print the number of classifications in the result\n"
   ]
  },
  {
   "cell_type": "code",
   "execution_count": null,
   "id": "ec644d2a",
   "metadata": {},
   "outputs": [],
   "source": [
    "# Print the first 10 results\n"
   ]
  },
  {
   "cell_type": "code",
   "execution_count": null,
   "id": "9f416e1d",
   "metadata": {},
   "outputs": [],
   "source": [
    "# Convert mongo result to Pandas DataFrame\n",
    "\n",
    "\n",
    "# Print out the length of the DataFrame\n",
    "\n",
    "\n",
    "# Display the first 10 rows of the DataFrame\n"
   ]
  },
  {
   "cell_type": "code",
   "execution_count": null,
   "id": "b9ad439b",
   "metadata": {},
   "outputs": [],
   "source": []
  },
  {
   "cell_type": "markdown",
   "id": "50edb901",
   "metadata": {},
   "source": [
    "Data Source: [The Metropolitan Museum of Art](https://www.metmuseum.org/) (2022). The Metropolitan Museum of Art Collection API https://metmuseum.github.io/. Licensed under the [Creative Commons 0 License](https://creativecommons.org/publicdomain/zero/1.0/).<br />\n",
    "Accessed Oct 3, 2022. Data collected from departmentId=5 (\"Arts of Africa, Oceania, and the Americas\") and search string \"animal\"."
   ]
  },
  {
   "cell_type": "code",
   "execution_count": null,
   "id": "5c92f1ba",
   "metadata": {},
   "outputs": [],
   "source": []
  }
 ],
 "metadata": {
  "kernelspec": {
   "display_name": "Python 3 (ipykernel)",
   "language": "python",
   "name": "python3"
  },
  "language_info": {
   "codemirror_mode": {
    "name": "ipython",
    "version": 3
   },
   "file_extension": ".py",
   "mimetype": "text/x-python",
   "name": "python",
   "nbconvert_exporter": "python",
   "pygments_lexer": "ipython3",
   "version": "3.10.10"
  }
 },
 "nbformat": 4,
 "nbformat_minor": 5
}
